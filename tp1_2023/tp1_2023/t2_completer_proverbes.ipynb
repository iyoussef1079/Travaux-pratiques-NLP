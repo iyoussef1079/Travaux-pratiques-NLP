{
 "cells": [
  {
   "cell_type": "markdown",
   "id": "d582d91d",
   "metadata": {},
   "source": [
    "# Tâche 2 - Comme le disait le proverbe - les bons mots pour le dire\n",
    "\n",
    "L'objectif de cette tâche est de compléter des proverbes à l'aide de modèles de langue N-grammes en insérant des mots aux bons endroits dans un texte masqué. Il s'agit d'une tâche de type *cloze test* qui consiste à choisir le meilleur mot à insérer dans un texte en fonction de son contexte. \n",
    "\n",
    "Voir l'énoncé du travail #1 pour une description plus détaillée de cette tâche. \n",
    "\n",
    "Fichiers:\n",
    "- *proverbes.txt*: il contient plus de 3000 proverbes, un par ligne de texte. Pour l'entraînement des modèles de langues N-grammes. \n",
    "- *test_proverbes_v1.json*: il contient des proverbes masqués, les mots à insérer et la bonne formulation du proverbe. À utiliser pour évaluer la capacité des modèles à mettre les mots aux bons endroits. \n",
    "\n",
    "Consignes: \n",
    "- Utilisez NLTK pour construire les modèles de langue.\n",
    "- Utilisez des expressions régulières (une seule ou plusieurs) pour remplacer les * et les ** par des mots. \n",
    "- Utilisez NLTK pour faire la tokenisation des proverbes. \n",
    "- N'oubliez pas de faire le *padding* des proverbes avec des symboles de début \\<BOS\\> et de fin \\<EOS\\>.\n",
    "- Ne pas modifier les fonctions *load_proverbs* et *load_tests*.\n",
    "- Ne pas modifier la signature de la fonction *replace_stars_with_words*.\n",
    "- Utilisez la variable *models* pour conserver les modèles après entraînement. \n",
    "- Ne pas modifier la signature de la fonction *train_models*.\n",
    "- Ne pas modifier la signature de la fonction *fill_masked_proverb*. \n",
    "- Des modifications aux signatures pourraient entraîner des déductions dans la correction. \n",
    "- Vous pouvez ajouter des cellules au notebook et toutes les fonctions utilitaires que vous voulez. "
   ]
  },
  {
   "cell_type": "markdown",
   "id": "8a3ec4af",
   "metadata": {},
   "source": [
    "## Section 1 - Lecture des fichiers de données (proverbes et tests)"
   ]
  },
  {
   "cell_type": "code",
   "execution_count": 95,
   "id": "e10ec998",
   "metadata": {},
   "outputs": [],
   "source": [
    "import json\n",
    "\n",
    "# Ne pas modifier le chemin de ces 2 fichiers pour faciliter notre correction\n",
    "proverbs_fn = \"./data/proverbes.txt\"    \n",
    "test_v1_fn = './data/test_proverbes_v1.json'\n",
    "\n",
    "def load_proverbs(filename):\n",
    "    with open(filename, 'r', encoding='utf-8') as f:\n",
    "        raw_lines = f.readlines()\n",
    "    return [x.strip() for x in raw_lines]\n",
    "\n",
    "\n",
    "def load_tests(filename):\n",
    "    with open(filename, 'r', encoding='utf-8') as fp:\n",
    "        test_data = json.load(fp)\n",
    "    return test_data"
   ]
  },
  {
   "cell_type": "code",
   "execution_count": 96,
   "id": "c9fbbdd5",
   "metadata": {},
   "outputs": [],
   "source": [
    "proverbs = load_proverbs(proverbs_fn)"
   ]
  },
  {
   "cell_type": "code",
   "execution_count": 97,
   "id": "dcd0c9a9",
   "metadata": {},
   "outputs": [
    {
     "name": "stdout",
     "output_type": "stream",
     "text": [
      "Nombre de proverbes pour l'entraînement: 3108\n",
      "Un exemple de proverbe: accord vaut mieux qu’argent\n"
     ]
    }
   ],
   "source": [
    "print(\"Nombre de proverbes pour l'entraînement: {}\".format(len(proverbs)))\n",
    "print(\"Un exemple de proverbe: \" + proverbs[5])"
   ]
  },
  {
   "cell_type": "code",
   "execution_count": 98,
   "id": "ee39d050",
   "metadata": {},
   "outputs": [],
   "source": [
    "tests = load_tests(test_v1_fn)"
   ]
  },
  {
   "cell_type": "code",
   "execution_count": 99,
   "id": "e80bd88a",
   "metadata": {},
   "outputs": [
    {
     "data": {
      "text/html": [
       "<div>\n",
       "<style scoped>\n",
       "    .dataframe tbody tr th:only-of-type {\n",
       "        vertical-align: middle;\n",
       "    }\n",
       "\n",
       "    .dataframe tbody tr th {\n",
       "        vertical-align: top;\n",
       "    }\n",
       "\n",
       "    .dataframe thead th {\n",
       "        text-align: right;\n",
       "    }\n",
       "</style>\n",
       "<table border=\"1\" class=\"dataframe\">\n",
       "  <thead>\n",
       "    <tr style=\"text-align: right;\">\n",
       "      <th></th>\n",
       "      <th>Masked</th>\n",
       "      <th>Word_list</th>\n",
       "      <th>Proverb</th>\n",
       "    </tr>\n",
       "  </thead>\n",
       "  <tbody>\n",
       "    <tr>\n",
       "      <th>0</th>\n",
       "      <td>a beau * qui ** de loin</td>\n",
       "      <td>[vient, mentir]</td>\n",
       "      <td>a beau mentir qui vient de loin</td>\n",
       "    </tr>\n",
       "    <tr>\n",
       "      <th>1</th>\n",
       "      <td>a * mentir qui vient de **</td>\n",
       "      <td>[beau, loin]</td>\n",
       "      <td>a beau mentir qui vient de loin</td>\n",
       "    </tr>\n",
       "    <tr>\n",
       "      <th>2</th>\n",
       "      <td>l’* fait le **</td>\n",
       "      <td>[larron, occasion]</td>\n",
       "      <td>l’occasion fait le larron</td>\n",
       "    </tr>\n",
       "    <tr>\n",
       "      <th>3</th>\n",
       "      <td>*-toi, le ciel t’**</td>\n",
       "      <td>[aidera, aide]</td>\n",
       "      <td>aide-toi, le ciel t’aidera</td>\n",
       "    </tr>\n",
       "    <tr>\n",
       "      <th>4</th>\n",
       "      <td>année de *, ** de blé</td>\n",
       "      <td>[année, gelée]</td>\n",
       "      <td>année de gelée, année de blé</td>\n",
       "    </tr>\n",
       "    <tr>\n",
       "      <th>5</th>\n",
       "      <td>après la *, le ** temps</td>\n",
       "      <td>[beau, pluie]</td>\n",
       "      <td>après la pluie, le beau temps</td>\n",
       "    </tr>\n",
       "    <tr>\n",
       "      <th>6</th>\n",
       "      <td>aux échecs, les * sont les plus près des **</td>\n",
       "      <td>[fous, rois]</td>\n",
       "      <td>aux échecs, les fous sont les plus près des rois</td>\n",
       "    </tr>\n",
       "    <tr>\n",
       "      <th>7</th>\n",
       "      <td>ce que * veut, ** le veut</td>\n",
       "      <td>[femme, dieu]</td>\n",
       "      <td>ce que femme veut, dieu le veut</td>\n",
       "    </tr>\n",
       "    <tr>\n",
       "      <th>8</th>\n",
       "      <td>bien mal * ne ** jamais</td>\n",
       "      <td>[profite, acquis]</td>\n",
       "      <td>bien mal acquis ne profite jamais</td>\n",
       "    </tr>\n",
       "    <tr>\n",
       "      <th>9</th>\n",
       "      <td>bon * ne querelle pas ses **</td>\n",
       "      <td>[outils, ouvrier]</td>\n",
       "      <td>bon ouvrier ne querelle pas ses outils</td>\n",
       "    </tr>\n",
       "    <tr>\n",
       "      <th>10</th>\n",
       "      <td>ce n’est pas tous les * **</td>\n",
       "      <td>[fête, jours]</td>\n",
       "      <td>ce n’est pas tous les jours fête</td>\n",
       "    </tr>\n",
       "    <tr>\n",
       "      <th>11</th>\n",
       "      <td>pour le *, c’est tous les jours **</td>\n",
       "      <td>[fête, fou]</td>\n",
       "      <td>pour le fou, c’est tous les jours fête</td>\n",
       "    </tr>\n",
       "    <tr>\n",
       "      <th>12</th>\n",
       "      <td>* et **, sont deux</td>\n",
       "      <td>[dire, faire]</td>\n",
       "      <td>dire et faire, sont deux</td>\n",
       "    </tr>\n",
       "    <tr>\n",
       "      <th>13</th>\n",
       "      <td>mieux vaut * que **</td>\n",
       "      <td>[prévenir, guérir]</td>\n",
       "      <td>mieux vaut prévenir que guérir</td>\n",
       "    </tr>\n",
       "    <tr>\n",
       "      <th>14</th>\n",
       "      <td>d’* sac on ne peut tirer ** moutures</td>\n",
       "      <td>[un, deux]</td>\n",
       "      <td>d’un sac on ne peut tirer deux moutures</td>\n",
       "    </tr>\n",
       "    <tr>\n",
       "      <th>15</th>\n",
       "      <td>à qui * aide, ** ne peut nuire</td>\n",
       "      <td>[nul, dieu]</td>\n",
       "      <td>à qui dieu aide, nul ne peut nuire</td>\n",
       "    </tr>\n",
       "    <tr>\n",
       "      <th>16</th>\n",
       "      <td>il n’y a * de ** de cent jours</td>\n",
       "      <td>[point, rose]</td>\n",
       "      <td>il n’y a point de rose de cent jours</td>\n",
       "    </tr>\n",
       "    <tr>\n",
       "      <th>17</th>\n",
       "      <td>il faut le * pour le **</td>\n",
       "      <td>[voir, croire]</td>\n",
       "      <td>il faut le voir pour le croire</td>\n",
       "    </tr>\n",
       "    <tr>\n",
       "      <th>18</th>\n",
       "      <td>on ne vend * le poisson qui est encore ** la mer</td>\n",
       "      <td>[pas, dans]</td>\n",
       "      <td>on ne vend pas le poisson qui est encore dans ...</td>\n",
       "    </tr>\n",
       "    <tr>\n",
       "      <th>19</th>\n",
       "      <td>la langue d’un * vaut mieux que celle d’un **</td>\n",
       "      <td>[muet, menteur]</td>\n",
       "      <td>la langue d’un muet vaut mieux que celle d’un ...</td>\n",
       "    </tr>\n",
       "    <tr>\n",
       "      <th>20</th>\n",
       "      <td>* femme fait le ** homme</td>\n",
       "      <td>[bon, bonne]</td>\n",
       "      <td>bonne femme fait le bon homme</td>\n",
       "    </tr>\n",
       "    <tr>\n",
       "      <th>21</th>\n",
       "      <td>bonne * fait le bon **</td>\n",
       "      <td>[homme, femme]</td>\n",
       "      <td>bonne femme fait le bon homme</td>\n",
       "    </tr>\n",
       "    <tr>\n",
       "      <th>22</th>\n",
       "      <td>* ** femme veut, dieu le veut</td>\n",
       "      <td>[ce, que]</td>\n",
       "      <td>ce que femme veut, dieu le veut</td>\n",
       "    </tr>\n",
       "    <tr>\n",
       "      <th>23</th>\n",
       "      <td>ce * femme veut, dieu ** veut</td>\n",
       "      <td>[que, le]</td>\n",
       "      <td>ce que femme veut, dieu le veut</td>\n",
       "    </tr>\n",
       "    <tr>\n",
       "      <th>24</th>\n",
       "      <td>grand *, grand **</td>\n",
       "      <td>[parleur, menteur]</td>\n",
       "      <td>grand parleur, grand menteur</td>\n",
       "    </tr>\n",
       "    <tr>\n",
       "      <th>25</th>\n",
       "      <td>grand parleur, * **</td>\n",
       "      <td>[grand, menteur]</td>\n",
       "      <td>grand parleur, grand menteur</td>\n",
       "    </tr>\n",
       "    <tr>\n",
       "      <th>26</th>\n",
       "      <td>* poisson pourrit par ** tête</td>\n",
       "      <td>[le, la]</td>\n",
       "      <td>le poisson pourrit par la tête</td>\n",
       "    </tr>\n",
       "    <tr>\n",
       "      <th>27</th>\n",
       "      <td>le * pourrit par la **</td>\n",
       "      <td>[tête, poisson]</td>\n",
       "      <td>le poisson pourrit par la tête</td>\n",
       "    </tr>\n",
       "    <tr>\n",
       "      <th>28</th>\n",
       "      <td>* ** prévenir que guérir</td>\n",
       "      <td>[mieux, vaut]</td>\n",
       "      <td>mieux vaut prévenir que guérir</td>\n",
       "    </tr>\n",
       "    <tr>\n",
       "      <th>29</th>\n",
       "      <td>quand la * est **, elle tombe</td>\n",
       "      <td>[poire, mûre]</td>\n",
       "      <td>quand la poire est mûre, elle tombe</td>\n",
       "    </tr>\n",
       "    <tr>\n",
       "      <th>30</th>\n",
       "      <td>quand la poire est *, elle **</td>\n",
       "      <td>[tombe, mûre]</td>\n",
       "      <td>quand la poire est mûre, elle tombe</td>\n",
       "    </tr>\n",
       "  </tbody>\n",
       "</table>\n",
       "</div>"
      ],
      "text/plain": [
       "                                              Masked           Word_list  \\\n",
       "0                            a beau * qui ** de loin     [vient, mentir]   \n",
       "1                         a * mentir qui vient de **        [beau, loin]   \n",
       "2                                     l’* fait le **  [larron, occasion]   \n",
       "3                                *-toi, le ciel t’**      [aidera, aide]   \n",
       "4                              année de *, ** de blé      [année, gelée]   \n",
       "5                            après la *, le ** temps       [beau, pluie]   \n",
       "6        aux échecs, les * sont les plus près des **        [fous, rois]   \n",
       "7                          ce que * veut, ** le veut       [femme, dieu]   \n",
       "8                            bien mal * ne ** jamais   [profite, acquis]   \n",
       "9                       bon * ne querelle pas ses **   [outils, ouvrier]   \n",
       "10                        ce n’est pas tous les * **       [fête, jours]   \n",
       "11                pour le *, c’est tous les jours **         [fête, fou]   \n",
       "12                                * et **, sont deux       [dire, faire]   \n",
       "13                               mieux vaut * que **  [prévenir, guérir]   \n",
       "14              d’* sac on ne peut tirer ** moutures          [un, deux]   \n",
       "15                    à qui * aide, ** ne peut nuire         [nul, dieu]   \n",
       "16                    il n’y a * de ** de cent jours       [point, rose]   \n",
       "17                           il faut le * pour le **      [voir, croire]   \n",
       "18  on ne vend * le poisson qui est encore ** la mer         [pas, dans]   \n",
       "19     la langue d’un * vaut mieux que celle d’un **     [muet, menteur]   \n",
       "20                          * femme fait le ** homme        [bon, bonne]   \n",
       "21                            bonne * fait le bon **      [homme, femme]   \n",
       "22                     * ** femme veut, dieu le veut           [ce, que]   \n",
       "23                     ce * femme veut, dieu ** veut           [que, le]   \n",
       "24                                 grand *, grand **  [parleur, menteur]   \n",
       "25                               grand parleur, * **    [grand, menteur]   \n",
       "26                     * poisson pourrit par ** tête            [le, la]   \n",
       "27                            le * pourrit par la **     [tête, poisson]   \n",
       "28                          * ** prévenir que guérir       [mieux, vaut]   \n",
       "29                     quand la * est **, elle tombe       [poire, mûre]   \n",
       "30                     quand la poire est *, elle **       [tombe, mûre]   \n",
       "\n",
       "                                              Proverb  \n",
       "0                     a beau mentir qui vient de loin  \n",
       "1                     a beau mentir qui vient de loin  \n",
       "2                           l’occasion fait le larron  \n",
       "3                          aide-toi, le ciel t’aidera  \n",
       "4                        année de gelée, année de blé  \n",
       "5                       après la pluie, le beau temps  \n",
       "6    aux échecs, les fous sont les plus près des rois  \n",
       "7                     ce que femme veut, dieu le veut  \n",
       "8                   bien mal acquis ne profite jamais  \n",
       "9              bon ouvrier ne querelle pas ses outils  \n",
       "10                   ce n’est pas tous les jours fête  \n",
       "11             pour le fou, c’est tous les jours fête  \n",
       "12                           dire et faire, sont deux  \n",
       "13                     mieux vaut prévenir que guérir  \n",
       "14            d’un sac on ne peut tirer deux moutures  \n",
       "15                 à qui dieu aide, nul ne peut nuire  \n",
       "16               il n’y a point de rose de cent jours  \n",
       "17                     il faut le voir pour le croire  \n",
       "18  on ne vend pas le poisson qui est encore dans ...  \n",
       "19  la langue d’un muet vaut mieux que celle d’un ...  \n",
       "20                      bonne femme fait le bon homme  \n",
       "21                      bonne femme fait le bon homme  \n",
       "22                    ce que femme veut, dieu le veut  \n",
       "23                    ce que femme veut, dieu le veut  \n",
       "24                       grand parleur, grand menteur  \n",
       "25                       grand parleur, grand menteur  \n",
       "26                     le poisson pourrit par la tête  \n",
       "27                     le poisson pourrit par la tête  \n",
       "28                     mieux vaut prévenir que guérir  \n",
       "29                quand la poire est mûre, elle tombe  \n",
       "30                quand la poire est mûre, elle tombe  "
      ]
     },
     "execution_count": 99,
     "metadata": {},
     "output_type": "execute_result"
    }
   ],
   "source": [
    "import pandas as pd\n",
    "\n",
    "def get_dataframe(test_proverbs):\n",
    "    return pd.DataFrame.from_dict(test_proverbs, orient='columns', dtype=None, columns=None)\n",
    "\n",
    "df = get_dataframe(tests)\n",
    "df"
   ]
  },
  {
   "cell_type": "markdown",
   "id": "300b071c",
   "metadata": {},
   "source": [
    "## Section 2 - Code pour substituer les masques (étoiles) par des mots\n",
    "\n",
    "Expliquez ici comment vous procédez pour remplacer les étoiles des proverbes masqués par des mots... N'oubliez pas qu'il faut faire usage d'expressions régulières (une ou plusieurs - au choix). \n",
    "\n"
   ]
  },
  {
   "cell_type": "code",
   "execution_count": 100,
   "id": "a7ba3203",
   "metadata": {},
   "outputs": [],
   "source": [
    "import re\n",
    "\n",
    "def replace_stars_with_words(masked, word1, word2):\n",
    "    \"\"\"Remplace les * par word1 et word2 dans cet ordre. Retourne le proverbe complet..\"\"\"\n",
    "    # votre code\n",
    "    proverb = re.sub(r\"\\*\\*\", word2, masked)\n",
    "    proverb = re.sub(r\"\\*\", word1, proverb)\n",
    "    return proverb  # Retourne le proverbe avec des mots à la place des étoiles"
   ]
  },
  {
   "cell_type": "markdown",
   "id": "3c57364c",
   "metadata": {},
   "source": [
    "## Section 3 - Construction des modèles de langue N-grammes. \n",
    "\n",
    "La fonction ***train_models*** prend en entrée une liste de proverbes et construit les trois modèles unigramme, bigramme et trigramme.\n",
    "\n",
    "Les 3 modèles entraînés sont conservés dans *models*, un dictionnaire Python qui prend la forme \n",
    "\n",
    "<pre>\n",
    "{\n",
    "   1: modele_unigramme, \n",
    "   2: modele_bigramme, \n",
    "   3: modele_trigramme\n",
    "}\n",
    "</pre>\n",
    "\n",
    "avec comme clé la valeur N du modèle et comme valeur le modèle construit par NLTK.\n",
    "\n",
    "Expliquez ici comment vous procéder pour construire vos modèles avec NLTK, pour obtenir les n-grammes de mots, pour déterminer le vocabulaire, etc...\n",
    "\n"
   ]
  },
  {
   "cell_type": "code",
   "execution_count": 101,
   "id": "5d4c6390",
   "metadata": {},
   "outputs": [],
   "source": [
    "import nltk\n",
    "from nltk.util import ngrams, pad_sequence\n",
    "from nltk import word_tokenize\n",
    "from nltk.lm.models import Laplace\n",
    "from nltk import word_tokenize, bigrams, trigrams\n",
    "\n",
    "\n",
    "# autres librairies à importer pour la partie sur les N-grammes?\n",
    "\n",
    "BOS = '<BOS>'  # Jeton de début de proverbe\n",
    "EOS = '<EOS>'  # Jeton de fin de proverbe\n"
   ]
  },
  {
   "cell_type": "code",
   "execution_count": 102,
   "id": "9c739125",
   "metadata": {},
   "outputs": [],
   "source": [
    "def build_vocabulary(text_list):\n",
    "    all_unigrams = list()\n",
    "    for sentence in text_list:\n",
    "        word_list = word_tokenize(sentence.lower())\n",
    "        all_unigrams = all_unigrams + word_list\n",
    "    voc = set(all_unigrams)\n",
    "    voc.add(BOS)\n",
    "    voc.add(EOS)\n",
    "    return list(voc)\n"
   ]
  },
  {
   "cell_type": "code",
   "execution_count": 103,
   "id": "6e460425",
   "metadata": {},
   "outputs": [],
   "source": [
    "\n",
    "def get_ngrams(text_list, n=2):\n",
    "    all_ngrams = list()\n",
    "    for sentence in text_list:\n",
    "        tokens = word_tokenize(sentence.lower())\n",
    "        padded_sent = list(pad_sequence(tokens, pad_left=True, left_pad_symbol=BOS, pad_right=True, right_pad_symbol=EOS, n=n))\n",
    "        all_ngrams = all_ngrams + list(ngrams(padded_sent, n=n))      \n",
    "    return all_ngrams"
   ]
  },
  {
   "cell_type": "code",
   "execution_count": 104,
   "id": "03383121",
   "metadata": {},
   "outputs": [],
   "source": [
    "def train_models(proverbs):\n",
    "    \"\"\" Vous ajoutez à partir d'ici le code dont vous avez besoin\n",
    "        pour construire les différents modèles N-grammes.\n",
    "        Cette fonction doit construire tous les modèles en une seule passe.\n",
    "        Voir les consignes de l'énoncé du travail pratique concernant les modèles à entraîner.\n",
    "\n",
    "        Vous pouvez ajouter les fonctions/méthodes et variables que vous jugerez nécessaire.\n",
    "        Merci de ne pas modifier la signature et le comportement de cette fonction (nom, arguments, sauvegarde des modèles).\n",
    "    \"\"\"\n",
    "\n",
    "    # Votre code à partir d'ici...  \n",
    "    vocabulary = build_vocabulary(proverbs)\n",
    "    \n",
    "    unigram = get_ngrams(proverbs, n=1)\n",
    "    bigram = get_ngrams(proverbs, n=2)\n",
    "    trigram = get_ngrams(proverbs, n=3)\n",
    "    #print(bigram)\n",
    "\n",
    "    model1 = Laplace(1)\n",
    "    model1.fit([unigram], vocabulary_text=vocabulary)\n",
    "    \n",
    "    model2 = Laplace(2)\n",
    "    model2.fit([bigram], vocabulary_text=vocabulary)\n",
    "    \n",
    "    model3 = Laplace(3)\n",
    "    model3.fit([trigram], vocabulary_text=vocabulary)\n",
    "\n",
    "    \n",
    "    # Sauvegarde de vos modèles \n",
    "    models = {\n",
    "        1: model1,\n",
    "        2: model2,\n",
    "        3: model3\n",
    "    }\n",
    "    return models\n",
    "    "
   ]
  },
  {
   "cell_type": "code",
   "execution_count": 105,
   "id": "dd160430",
   "metadata": {},
   "outputs": [],
   "source": [
    "models = train_models(proverbs)  # les modèles entraînés - [1: modele_unigramme, 2: modele_bigramme, 3: modele_trigramme] "
   ]
  },
  {
   "cell_type": "markdown",
   "id": "0a05719e",
   "metadata": {},
   "source": [
    "## Section 4 - Compléter un proverbe"
   ]
  },
  {
   "cell_type": "code",
   "execution_count": 106,
   "id": "108aebe9",
   "metadata": {},
   "outputs": [],
   "source": [
    "def proverb_logscore(model, proverb, n):\n",
    "    total_logscore = 0\n",
    "    ngrams = get_ngrams([proverb], n)\n",
    "    for ngram in ngrams:\n",
    "        total_logscore += model.logscore(ngram[-1], ngram[:-1])\n",
    "    return total_logscore\n",
    "    "
   ]
  },
  {
   "cell_type": "code",
   "execution_count": 123,
   "id": "c8ed1dc3",
   "metadata": {},
   "outputs": [],
   "source": [
    "from itertools import permutations\n",
    "\n",
    "def fill_masked_proverb(masked, word_list, n=3, criteria=\"perplexity\"):\n",
    "    \"\"\" Fonction qui complète un texte à trous (des mots masqués) en ajoutant \n",
    "           les bons mots aux bons endroits (un \"cloze test\").\n",
    "\n",
    "          Le paramètre criteria indique la mesure qu'on utilise \n",
    "          pour choisir le mot le plus approprié: \"logprob\" ou \"perplexity\".\n",
    "          On retourne l'estimation de cette mesure sur le proverbe complet,\n",
    "          c.-à-d. en utilisant tous les mots du proverbe.\n",
    "\n",
    "          Le paramètre n désigne le modèle utilisé.\n",
    "          1 - unigramme NLTK, 2 - bigramme NLTK, 3 - trigramme NLTK\n",
    "        \n",
    "          Cette fonction retourne la solution (le proverbe complété) et \n",
    "         la valeur de logprob ou perplexité (selon le paramètre en entrée de la fonction). \n",
    "    \"\"\"\n",
    "    \n",
    "    # Tokenize the masked proverb\n",
    "    proverb_tokens = nltk.word_tokenize(masked)\n",
    "\n",
    "    # Create the N-gram model based on the specified 'n'\n",
    "    ngram_model = models[n]\n",
    "\n",
    "    # Initialize variables to store the best result and score\n",
    "    best_result = \"\"\n",
    "    best_score = float('inf') if criteria == \"perplexity\" else float('-inf')\n",
    "\n",
    "    # Generate all possible word permutations (4 combinations)\n",
    "    word_permutations = list(permutations(word_list, 2))\n",
    "\n",
    "    # Iterate through each word permutation\n",
    "    for word1, word2 in word_permutations:\n",
    "        # Replace the '*' in the proverb with the current words\n",
    "        current_result = replace_stars_with_words(masked, word1, word2)\n",
    "        completed_proverb = replace_stars_with_words(masked, word1, word2)\n",
    "        \n",
    "        \n",
    "        # Calculate logprob or perplexity based on the chosen criteria\n",
    "        if criteria == \"perplexity\":\n",
    "            completed_proverb = get_ngrams([completed_proverb], n)\n",
    "            score = ngram_model.perplexity(completed_proverb)\n",
    "\n",
    "        else:\n",
    "            score = proverb_logscore(ngram_model, completed_proverb, n)\n",
    "            # print(completed_proverb + '---> ')\n",
    "            # print(score)\n",
    "            # score = ngram_model.logscore(completed_proverb.split()[-1], completed_proverb.split()[:-1])\n",
    "\n",
    "        # Update the best result and score if the current score is better\n",
    "        if (criteria == \"perplexity\" and score < best_score) or (criteria == \"logprob\" and score > best_score):\n",
    "            best_score = score\n",
    "            best_result = current_result\n",
    "\n",
    "    return best_result, best_score"
   ]
  },
  {
   "cell_type": "markdown",
   "id": "1cbf4bc8",
   "metadata": {},
   "source": [
    "## Un exemple pour illustrer l'utilisation de cette fonction"
   ]
  },
  {
   "cell_type": "markdown",
   "id": "c8841c0e",
   "metadata": {},
   "source": [
    "### Perplexity case"
   ]
  },
  {
   "cell_type": "code",
   "execution_count": 134,
   "id": "5dcfecbc",
   "metadata": {},
   "outputs": [
    {
     "data": {
      "text/plain": [
       "('ami de table est bien variable', 2083.322542380098)"
      ]
     },
     "execution_count": 134,
     "metadata": {},
     "output_type": "execute_result"
    }
   ],
   "source": [
    "masked =  \"ami de * est bien **\"   \n",
    "word_list = [ 'variable','table']    \n",
    "fill_masked_proverb(masked, word_list, n=3, criteria=\"perplexity\")"
   ]
  },
  {
   "cell_type": "markdown",
   "id": "d0f47137",
   "metadata": {},
   "source": [
    "### Log score case"
   ]
  },
  {
   "cell_type": "code",
   "execution_count": 135,
   "id": "ff280196",
   "metadata": {},
   "outputs": [
    {
     "data": {
      "text/plain": [
       "('ami de table est bien variable', -88.1973640082403)"
      ]
     },
     "execution_count": 135,
     "metadata": {},
     "output_type": "execute_result"
    }
   ],
   "source": [
    "masked =  \"ami de * est bien **\"   \n",
    "word_list = [ 'variable','table']    \n",
    "fill_masked_proverb(masked, word_list, n=3, criteria=\"logprob\")"
   ]
  },
  {
   "cell_type": "markdown",
   "id": "5720e938",
   "metadata": {},
   "source": [
    "## Section 5 - Expérimentations et analyse de vos résultats\n",
    "\n",
    "Décrivez ici les résultats obtenus et présentez l'évaluation obtenue sur le fichier de test. Vous pouvez ajouter le nombre de cellules que vous souhaitez. "
   ]
  },
  {
   "cell_type": "markdown",
   "id": "362ea78f",
   "metadata": {},
   "source": [
    "### Resultats pour 1-Gram (perplex et logprob) "
   ]
  },
  {
   "cell_type": "code",
   "execution_count": 137,
   "id": "1968d777",
   "metadata": {},
   "outputs": [
    {
     "data": {
      "text/plain": [
       "('a beau vient qui mentir de loin', 434.15031558678913)"
      ]
     },
     "metadata": {},
     "output_type": "display_data"
    },
    {
     "data": {
      "text/plain": [
       "('a beau vient qui mentir de loin', -61.33435575623592)"
      ]
     },
     "metadata": {},
     "output_type": "display_data"
    },
    {
     "data": {
      "text/plain": [
       "('a loin mentir qui vient de beau', 434.1503155867886)"
      ]
     },
     "metadata": {},
     "output_type": "display_data"
    },
    {
     "data": {
      "text/plain": [
       "('a loin mentir qui vient de beau', -61.334355756235915)"
      ]
     },
     "metadata": {},
     "output_type": "display_data"
    },
    {
     "data": {
      "text/plain": [
       "('l’larron fait le occasion', 294.2095232621012)"
      ]
     },
     "metadata": {},
     "output_type": "display_data"
    },
    {
     "data": {
      "text/plain": [
       "('l’larron fait le occasion', -49.20420081413906)"
      ]
     },
     "metadata": {},
     "output_type": "display_data"
    },
    {
     "data": {
      "text/plain": [
       "('aidera-toi, le ciel t’aide', 559.2972069523098)"
      ]
     },
     "metadata": {},
     "output_type": "display_data"
    },
    {
     "data": {
      "text/plain": [
       "('aidera-toi, le ciel t’aide', -63.89229920857097)"
      ]
     },
     "metadata": {},
     "output_type": "display_data"
    },
    {
     "data": {
      "text/plain": [
       "('année de année, gelée de blé', 671.8262356027944)"
      ]
     },
     "metadata": {},
     "output_type": "display_data"
    },
    {
     "data": {
      "text/plain": [
       "('année de année, gelée de blé', -65.74361027766955)"
      ]
     },
     "metadata": {},
     "output_type": "display_data"
    },
    {
     "data": {
      "text/plain": [
       "('après la beau, le pluie temps', 292.99932975288795)"
      ]
     },
     "metadata": {},
     "output_type": "display_data"
    },
    {
     "data": {
      "text/plain": [
       "('après la beau, le pluie temps', -57.363274879443665)"
      ]
     },
     "metadata": {},
     "output_type": "display_data"
    },
    {
     "data": {
      "text/plain": [
       "('aux échecs, les fous sont les plus près des rois', 458.2571256544822)"
      ]
     },
     "metadata": {},
     "output_type": "display_data"
    },
    {
     "data": {
      "text/plain": [
       "('aux échecs, les fous sont les plus près des rois', -97.24014854240039)"
      ]
     },
     "metadata": {},
     "output_type": "display_data"
    },
    {
     "data": {
      "text/plain": [
       "('ce que femme veut, dieu le veut', 199.92761896076655)"
      ]
     },
     "metadata": {},
     "output_type": "display_data"
    },
    {
     "data": {
      "text/plain": [
       "('ce que femme veut, dieu le veut', -61.14667181153106)"
      ]
     },
     "metadata": {},
     "output_type": "display_data"
    },
    {
     "data": {
      "text/plain": [
       "('bien mal profite ne acquis jamais', 943.3748299993829)"
      ]
     },
     "metadata": {},
     "output_type": "display_data"
    },
    {
     "data": {
      "text/plain": [
       "('bien mal profite ne acquis jamais', -59.29012379333725)"
      ]
     },
     "metadata": {},
     "output_type": "display_data"
    },
    {
     "data": {
      "text/plain": [
       "('bon outils ne querelle pas ses ouvrier', 744.5506256726524)"
      ]
     },
     "metadata": {},
     "output_type": "display_data"
    },
    {
     "data": {
      "text/plain": [
       "('bon outils ne querelle pas ses ouvrier', -66.7815829651266)"
      ]
     },
     "metadata": {},
     "output_type": "display_data"
    },
    {
     "data": {
      "text/plain": [
       "('ce n’est pas tous les fête jours', 214.04367830604437)"
      ]
     },
     "metadata": {},
     "output_type": "display_data"
    },
    {
     "data": {
      "text/plain": [
       "('ce n’est pas tous les fête jours', -69.6758527486886)"
      ]
     },
     "metadata": {},
     "output_type": "display_data"
    },
    {
     "data": {
      "text/plain": [
       "('pour le fête, c’est tous les jours fou', 235.6020049179169)"
      ]
     },
     "metadata": {},
     "output_type": "display_data"
    },
    {
     "data": {
      "text/plain": [
       "('pour le fête, c’est tous les jours fou', -86.68228806591702)"
      ]
     },
     "metadata": {},
     "output_type": "display_data"
    },
    {
     "data": {
      "text/plain": [
       "('dire et faire, sont deux', 246.59321837342426)"
      ]
     },
     "metadata": {},
     "output_type": "display_data"
    },
    {
     "data": {
      "text/plain": [
       "('dire et faire, sont deux', -47.675935884694745)"
      ]
     },
     "metadata": {},
     "output_type": "display_data"
    },
    {
     "data": {
      "text/plain": [
       "('mieux vaut prévenir que guérir', 935.3732551884195)"
      ]
     },
     "metadata": {},
     "output_type": "display_data"
    },
    {
     "data": {
      "text/plain": [
       "('mieux vaut prévenir que guérir', -49.34699184314619)"
      ]
     },
     "metadata": {},
     "output_type": "display_data"
    },
    {
     "data": {
      "text/plain": [
       "('d’un sac on ne peut tirer deux moutures', 403.91848590272986)"
      ]
     },
     "metadata": {},
     "output_type": "display_data"
    },
    {
     "data": {
      "text/plain": [
       "('d’un sac on ne peut tirer deux moutures', -86.57920364312632)"
      ]
     },
     "metadata": {},
     "output_type": "display_data"
    },
    {
     "data": {
      "text/plain": [
       "('à qui nul aide, dieu ne peut nuire', 375.52079963825605)"
      ]
     },
     "metadata": {},
     "output_type": "display_data"
    },
    {
     "data": {
      "text/plain": [
       "('à qui nul aide, dieu ne peut nuire', -76.97474107958631)"
      ]
     },
     "metadata": {},
     "output_type": "display_data"
    },
    {
     "data": {
      "text/plain": [
       "('il n’y a point de rose de cent jours', 254.75368721972123)"
      ]
     },
     "metadata": {},
     "output_type": "display_data"
    },
    {
     "data": {
      "text/plain": [
       "('il n’y a point de rose de cent jours', -87.92255139143026)"
      ]
     },
     "metadata": {},
     "output_type": "display_data"
    },
    {
     "data": {
      "text/plain": [
       "('il faut le voir pour le croire', 261.6202283822203)"
      ]
     },
     "metadata": {},
     "output_type": "display_data"
    },
    {
     "data": {
      "text/plain": [
       "('il faut le voir pour le croire', -56.21931198510541)"
      ]
     },
     "metadata": {},
     "output_type": "display_data"
    },
    {
     "data": {
      "text/plain": [
       "('on ne vend pas le poisson qui est encore dans la mer', 266.96538821223555)"
      ]
     },
     "metadata": {},
     "output_type": "display_data"
    },
    {
     "data": {
      "text/plain": [
       "('on ne vend pas le poisson qui est encore dans la mer', -96.72610679861529)"
      ]
     },
     "metadata": {},
     "output_type": "display_data"
    },
    {
     "data": {
      "text/plain": [
       "('la langue d’un muet vaut mieux que celle d’un menteur', 243.97139262518937)"
      ]
     },
     "metadata": {},
     "output_type": "display_data"
    },
    {
     "data": {
      "text/plain": [
       "('la langue d’un muet vaut mieux que celle d’un menteur', -111.02795453767018)"
      ]
     },
     "metadata": {},
     "output_type": "display_data"
    },
    {
     "data": {
      "text/plain": [
       "('bon femme fait le bonne homme', 301.89383147747196)"
      ]
     },
     "metadata": {},
     "output_type": "display_data"
    },
    {
     "data": {
      "text/plain": [
       "('bon femme fait le bonne homme', -49.42738481216343)"
      ]
     },
     "metadata": {},
     "output_type": "display_data"
    },
    {
     "data": {
      "text/plain": [
       "('bonne femme fait le bon homme', 301.89383147747196)"
      ]
     },
     "metadata": {},
     "output_type": "display_data"
    },
    {
     "data": {
      "text/plain": [
       "('bonne femme fait le bon homme', -49.42738481216343)"
      ]
     },
     "metadata": {},
     "output_type": "display_data"
    },
    {
     "data": {
      "text/plain": [
       "('ce que femme veut, dieu le veut', 199.92761896076655)"
      ]
     },
     "metadata": {},
     "output_type": "display_data"
    },
    {
     "data": {
      "text/plain": [
       "('ce que femme veut, dieu le veut', -61.14667181153106)"
      ]
     },
     "metadata": {},
     "output_type": "display_data"
    },
    {
     "data": {
      "text/plain": [
       "('ce le femme veut, dieu que veut', 199.92761896076644)"
      ]
     },
     "metadata": {},
     "output_type": "display_data"
    },
    {
     "data": {
      "text/plain": [
       "('ce le femme veut, dieu que veut', -61.14667181153105)"
      ]
     },
     "metadata": {},
     "output_type": "display_data"
    },
    {
     "data": {
      "text/plain": [
       "('grand menteur, grand parleur', 924.0972717761347)"
      ]
     },
     "metadata": {},
     "output_type": "display_data"
    },
    {
     "data": {
      "text/plain": [
       "('grand menteur, grand parleur', -49.25950454757238)"
      ]
     },
     "metadata": {},
     "output_type": "display_data"
    },
    {
     "data": {
      "text/plain": [
       "('grand parleur, menteur grand', 924.0972717761347)"
      ]
     },
     "metadata": {},
     "output_type": "display_data"
    },
    {
     "data": {
      "text/plain": [
       "('grand parleur, menteur grand', -49.25950454757238)"
      ]
     },
     "metadata": {},
     "output_type": "display_data"
    },
    {
     "data": {
      "text/plain": [
       "('le poisson pourrit par la tête', 642.4681347879072)"
      ]
     },
     "metadata": {},
     "output_type": "display_data"
    },
    {
     "data": {
      "text/plain": [
       "('le poisson pourrit par la tête', -55.96488654535747)"
      ]
     },
     "metadata": {},
     "output_type": "display_data"
    },
    {
     "data": {
      "text/plain": [
       "('le tête pourrit par la poisson', 642.4681347879072)"
      ]
     },
     "metadata": {},
     "output_type": "display_data"
    },
    {
     "data": {
      "text/plain": [
       "('le tête pourrit par la poisson', -55.96488654535747)"
      ]
     },
     "metadata": {},
     "output_type": "display_data"
    },
    {
     "data": {
      "text/plain": [
       "('mieux vaut prévenir que guérir', 935.3732551884195)"
      ]
     },
     "metadata": {},
     "output_type": "display_data"
    },
    {
     "data": {
      "text/plain": [
       "('mieux vaut prévenir que guérir', -49.34699184314619)"
      ]
     },
     "metadata": {},
     "output_type": "display_data"
    },
    {
     "data": {
      "text/plain": [
       "('quand la poire est mûre, elle tombe', 559.5728134522325)"
      ]
     },
     "metadata": {},
     "output_type": "display_data"
    },
    {
     "data": {
      "text/plain": [
       "('quand la poire est mûre, elle tombe', -73.02545649126537)"
      ]
     },
     "metadata": {},
     "output_type": "display_data"
    },
    {
     "data": {
      "text/plain": [
       "('quand la poire est tombe, elle mûre', 559.5728134522325)"
      ]
     },
     "metadata": {},
     "output_type": "display_data"
    },
    {
     "data": {
      "text/plain": [
       "('quand la poire est tombe, elle mûre', -73.02545649126537)"
      ]
     },
     "metadata": {},
     "output_type": "display_data"
    },
    {
     "data": {
      "text/plain": [
       "'Nombre de phrases correctement complétées:'"
      ]
     },
     "metadata": {},
     "output_type": "display_data"
    },
    {
     "data": {
      "text/plain": [
       "14"
      ]
     },
     "metadata": {},
     "output_type": "display_data"
    },
    {
     "data": {
      "text/plain": [
       "14"
      ]
     },
     "metadata": {},
     "output_type": "display_data"
    }
   ],
   "source": [
    "perplex_score = 0\n",
    "logprob_score = 0\n",
    "for test in tests:\n",
    "    result_perplex = fill_masked_proverb(test['Masked'], test['Word_list'], n=1, criteria=\"perplexity\")\n",
    "    result_logprob = fill_masked_proverb(test['Masked'], test['Word_list'], n=1, criteria=\"logprob\")\n",
    "    \n",
    "    display(result_perplex)\n",
    "    display(result_logprob)\n",
    "    \n",
    "    if (result_perplex[0] == test['Proverb']):\n",
    "        perplex_score += 1\n",
    "    if (result_logprob[0] == test['Proverb']):\n",
    "        logprob_score += 1\n",
    "display(\"Nombre de phrases correctement complétées:\")        \n",
    "display(perplex_score)\n",
    "display(logprob_score)"
   ]
  },
  {
   "cell_type": "markdown",
   "id": "731cb8da",
   "metadata": {},
   "source": [
    "Resultats pour 2-Gram (perplex et logprob)"
   ]
  },
  {
   "cell_type": "code",
   "execution_count": 144,
   "id": "c3aa3e68",
   "metadata": {},
   "outputs": [
    {
     "data": {
      "text/plain": [
       "('a beau mentir qui vient de loin', 1274.5300428347618)"
      ]
     },
     "metadata": {},
     "output_type": "display_data"
    },
    {
     "data": {
      "text/plain": [
       "('a beau mentir qui vient de loin', -82.5259973215359)"
      ]
     },
     "metadata": {},
     "output_type": "display_data"
    },
    {
     "data": {
      "text/plain": [
       "('a beau mentir qui vient de loin', 1274.5300428347618)"
      ]
     },
     "metadata": {},
     "output_type": "display_data"
    },
    {
     "data": {
      "text/plain": [
       "('a beau mentir qui vient de loin', -82.5259973215359)"
      ]
     },
     "metadata": {},
     "output_type": "display_data"
    },
    {
     "data": {
      "text/plain": [
       "('l’occasion fait le larron', 387.0857519607624)"
      ]
     },
     "metadata": {},
     "output_type": "display_data"
    },
    {
     "data": {
      "text/plain": [
       "('l’occasion fait le larron', -60.17556576476673)"
      ]
     },
     "metadata": {},
     "output_type": "display_data"
    },
    {
     "data": {
      "text/plain": [
       "('aidera-toi, le ciel t’aide', 1112.741343977163)"
      ]
     },
     "metadata": {},
     "output_type": "display_data"
    },
    {
     "data": {
      "text/plain": [
       "('aidera-toi, le ciel t’aide', -80.9592205020874)"
      ]
     },
     "metadata": {},
     "output_type": "display_data"
    },
    {
     "data": {
      "text/plain": [
       "('année de gelée, année de blé', 1533.8494257688799)"
      ]
     },
     "metadata": {},
     "output_type": "display_data"
    },
    {
     "data": {
      "text/plain": [
       "('année de gelée, année de blé', -84.66352918899987)"
      ]
     },
     "metadata": {},
     "output_type": "display_data"
    },
    {
     "data": {
      "text/plain": [
       "('après la pluie, le beau temps', 549.795128922859)"
      ]
     },
     "metadata": {},
     "output_type": "display_data"
    },
    {
     "data": {
      "text/plain": [
       "('après la pluie, le beau temps', -72.82200251749413)"
      ]
     },
     "metadata": {},
     "output_type": "display_data"
    },
    {
     "data": {
      "text/plain": [
       "('aux échecs, les fous sont les plus près des rois', 756.6905234977802)"
      ]
     },
     "metadata": {},
     "output_type": "display_data"
    },
    {
     "data": {
      "text/plain": [
       "('aux échecs, les fous sont les plus près des rois', -114.76271480709657)"
      ]
     },
     "metadata": {},
     "output_type": "display_data"
    },
    {
     "data": {
      "text/plain": [
       "('ce que femme veut, dieu le veut', 723.0899272440836)"
      ]
     },
     "metadata": {},
     "output_type": "display_data"
    },
    {
     "data": {
      "text/plain": [
       "('ce que femme veut, dieu le veut', -85.48228142286699)"
      ]
     },
     "metadata": {},
     "output_type": "display_data"
    },
    {
     "data": {
      "text/plain": [
       "('bien mal acquis ne profite jamais', 1288.890734846945)"
      ]
     },
     "metadata": {},
     "output_type": "display_data"
    },
    {
     "data": {
      "text/plain": [
       "('bien mal acquis ne profite jamais', -72.32339974789363)"
      ]
     },
     "metadata": {},
     "output_type": "display_data"
    },
    {
     "data": {
      "text/plain": [
       "('bon ouvrier ne querelle pas ses outils', 1148.0503629535992)"
      ]
     },
     "metadata": {},
     "output_type": "display_data"
    },
    {
     "data": {
      "text/plain": [
       "('bon ouvrier ne querelle pas ses outils', -81.31976173249735)"
      ]
     },
     "metadata": {},
     "output_type": "display_data"
    },
    {
     "data": {
      "text/plain": [
       "('ce n’est pas tous les jours fête', 223.3179148965538)"
      ]
     },
     "metadata": {},
     "output_type": "display_data"
    },
    {
     "data": {
      "text/plain": [
       "('ce n’est pas tous les jours fête', -78.02955180727753)"
      ]
     },
     "metadata": {},
     "output_type": "display_data"
    },
    {
     "data": {
      "text/plain": [
       "('pour le fou, c’est tous les jours fête', 393.78036189764686)"
      ]
     },
     "metadata": {},
     "output_type": "display_data"
    },
    {
     "data": {
      "text/plain": [
       "('pour le fou, c’est tous les jours fête', -103.45496825515673)"
      ]
     },
     "metadata": {},
     "output_type": "display_data"
    },
    {
     "data": {
      "text/plain": [
       "('dire et faire, sont deux', 836.1471559804386)"
      ]
     },
     "metadata": {},
     "output_type": "display_data"
    },
    {
     "data": {
      "text/plain": [
       "('dire et faire, sont deux', -67.95329140978455)"
      ]
     },
     "metadata": {},
     "output_type": "display_data"
    },
    {
     "data": {
      "text/plain": [
       "('mieux vaut prévenir que guérir', 657.1576145141154)"
      ]
     },
     "metadata": {},
     "output_type": "display_data"
    },
    {
     "data": {
      "text/plain": [
       "('mieux vaut prévenir que guérir', -56.16057373094603)"
      ]
     },
     "metadata": {},
     "output_type": "display_data"
    },
    {
     "data": {
      "text/plain": [
       "('d’un sac on ne peut tirer deux moutures', 488.19155852476814)"
      ]
     },
     "metadata": {},
     "output_type": "display_data"
    },
    {
     "data": {
      "text/plain": [
       "('d’un sac on ne peut tirer deux moutures', -98.24433892912626)"
      ]
     },
     "metadata": {},
     "output_type": "display_data"
    },
    {
     "data": {
      "text/plain": [
       "('à qui dieu aide, nul ne peut nuire', 751.2648345803655)"
      ]
     },
     "metadata": {},
     "output_type": "display_data"
    },
    {
     "data": {
      "text/plain": [
       "('à qui dieu aide, nul ne peut nuire', -95.53177763537614)"
      ]
     },
     "metadata": {},
     "output_type": "display_data"
    },
    {
     "data": {
      "text/plain": [
       "('il n’y a point de rose de cent jours', 260.5325263406725)"
      ]
     },
     "metadata": {},
     "output_type": "display_data"
    },
    {
     "data": {
      "text/plain": [
       "('il n’y a point de rose de cent jours', -96.30383625188126)"
      ]
     },
     "metadata": {},
     "output_type": "display_data"
    },
    {
     "data": {
      "text/plain": [
       "('il faut le voir pour le croire', 544.9483466042567)"
      ]
     },
     "metadata": {},
     "output_type": "display_data"
    },
    {
     "data": {
      "text/plain": [
       "('il faut le voir pour le croire', -72.71980543247764)"
      ]
     },
     "metadata": {},
     "output_type": "display_data"
    },
    {
     "data": {
      "text/plain": [
       "('on ne vend pas le poisson qui est encore dans la mer', 490.44513347493694)"
      ]
     },
     "metadata": {},
     "output_type": "display_data"
    },
    {
     "data": {
      "text/plain": [
       "('on ne vend pas le poisson qui est encore dans la mer', -116.19332321601058)"
      ]
     },
     "metadata": {},
     "output_type": "display_data"
    },
    {
     "data": {
      "text/plain": [
       "('la langue d’un muet vaut mieux que celle d’un menteur', 310.137284487743)"
      ]
     },
     "metadata": {},
     "output_type": "display_data"
    },
    {
     "data": {
      "text/plain": [
       "('la langue d’un muet vaut mieux que celle d’un menteur', -124.15144748912618)"
      ]
     },
     "metadata": {},
     "output_type": "display_data"
    },
    {
     "data": {
      "text/plain": [
       "('bonne femme fait le bon homme', 832.73931698213)"
      ]
     },
     "metadata": {},
     "output_type": "display_data"
    },
    {
     "data": {
      "text/plain": [
       "('bonne femme fait le bon homme', -67.91204791557145)"
      ]
     },
     "metadata": {},
     "output_type": "display_data"
    },
    {
     "data": {
      "text/plain": [
       "('bonne femme fait le bon homme', 832.73931698213)"
      ]
     },
     "metadata": {},
     "output_type": "display_data"
    },
    {
     "data": {
      "text/plain": [
       "('bonne femme fait le bon homme', -67.91204791557145)"
      ]
     },
     "metadata": {},
     "output_type": "display_data"
    },
    {
     "data": {
      "text/plain": [
       "('ce que femme veut, dieu le veut', 723.0899272440836)"
      ]
     },
     "metadata": {},
     "output_type": "display_data"
    },
    {
     "data": {
      "text/plain": [
       "('ce que femme veut, dieu le veut', -85.48228142286699)"
      ]
     },
     "metadata": {},
     "output_type": "display_data"
    },
    {
     "data": {
      "text/plain": [
       "('ce que femme veut, dieu le veut', 723.0899272440836)"
      ]
     },
     "metadata": {},
     "output_type": "display_data"
    },
    {
     "data": {
      "text/plain": [
       "('ce que femme veut, dieu le veut', -85.48228142286699)"
      ]
     },
     "metadata": {},
     "output_type": "display_data"
    },
    {
     "data": {
      "text/plain": [
       "('grand parleur, grand menteur', 1361.9741465253405)"
      ]
     },
     "metadata": {},
     "output_type": "display_data"
    },
    {
     "data": {
      "text/plain": [
       "('grand parleur, grand menteur', -62.468901615148695)"
      ]
     },
     "metadata": {},
     "output_type": "display_data"
    },
    {
     "data": {
      "text/plain": [
       "('grand parleur, grand menteur', 1361.9741465253405)"
      ]
     },
     "metadata": {},
     "output_type": "display_data"
    },
    {
     "data": {
      "text/plain": [
       "('grand parleur, grand menteur', -62.468901615148695)"
      ]
     },
     "metadata": {},
     "output_type": "display_data"
    },
    {
     "data": {
      "text/plain": [
       "('le poisson pourrit par la tête', 505.29241759843086)"
      ]
     },
     "metadata": {},
     "output_type": "display_data"
    },
    {
     "data": {
      "text/plain": [
       "('le poisson pourrit par la tête', -62.866823046007426)"
      ]
     },
     "metadata": {},
     "output_type": "display_data"
    },
    {
     "data": {
      "text/plain": [
       "('le poisson pourrit par la tête', 505.29241759843086)"
      ]
     },
     "metadata": {},
     "output_type": "display_data"
    },
    {
     "data": {
      "text/plain": [
       "('le poisson pourrit par la tête', -62.866823046007426)"
      ]
     },
     "metadata": {},
     "output_type": "display_data"
    },
    {
     "data": {
      "text/plain": [
       "('mieux vaut prévenir que guérir', 657.1576145141154)"
      ]
     },
     "metadata": {},
     "output_type": "display_data"
    },
    {
     "data": {
      "text/plain": [
       "('mieux vaut prévenir que guérir', -56.16057373094603)"
      ]
     },
     "metadata": {},
     "output_type": "display_data"
    },
    {
     "data": {
      "text/plain": [
       "('quand la poire est mûre, elle tombe', 1265.0539534717645)"
      ]
     },
     "metadata": {},
     "output_type": "display_data"
    },
    {
     "data": {
      "text/plain": [
       "('quand la poire est mûre, elle tombe', -92.74484880545745)"
      ]
     },
     "metadata": {},
     "output_type": "display_data"
    },
    {
     "data": {
      "text/plain": [
       "('quand la poire est mûre, elle tombe', 1265.0539534717645)"
      ]
     },
     "metadata": {},
     "output_type": "display_data"
    },
    {
     "data": {
      "text/plain": [
       "('quand la poire est mûre, elle tombe', -92.74484880545745)"
      ]
     },
     "metadata": {},
     "output_type": "display_data"
    },
    {
     "data": {
      "text/plain": [
       "30"
      ]
     },
     "metadata": {},
     "output_type": "display_data"
    },
    {
     "data": {
      "text/plain": [
       "30"
      ]
     },
     "metadata": {},
     "output_type": "display_data"
    }
   ],
   "source": [
    "perplex_score_2 = 0\n",
    "logprob_score_2 = 0\n",
    "for test in tests:\n",
    "    result_perplex = fill_masked_proverb(test['Masked'], test['Word_list'], n=2, criteria=\"perplexity\")\n",
    "    result_logprob = fill_masked_proverb(test['Masked'], test['Word_list'], n=2, criteria=\"logprob\")\n",
    "    \n",
    "    display(result_perplex)\n",
    "    display(result_logprob)\n",
    "    \n",
    "    if (result_perplex[0] == test['Proverb']):\n",
    "        perplex_score_2 += 1\n",
    "    if (result_logprob[0] == test['Proverb']):\n",
    "        logprob_score_2 += 1\n",
    "        \n",
    "display(perplex_score_2)\n",
    "display(logprob_score_2)"
   ]
  },
  {
   "cell_type": "markdown",
   "id": "48a0d2ba",
   "metadata": {},
   "source": [
    "### Resultats pour 3-Gram (perplex et logprob)"
   ]
  },
  {
   "cell_type": "code",
   "execution_count": 143,
   "id": "439711e3",
   "metadata": {},
   "outputs": [
    {
     "data": {
      "text/plain": [
       "('a beau mentir qui vient de loin', 1803.3372555720612)"
      ]
     },
     "metadata": {},
     "output_type": "display_data"
    },
    {
     "data": {
      "text/plain": [
       "('a beau mentir qui vient de loin', -97.34808164258075)"
      ]
     },
     "metadata": {},
     "output_type": "display_data"
    },
    {
     "data": {
      "text/plain": [
       "('a beau mentir qui vient de loin', 1803.3372555720612)"
      ]
     },
     "metadata": {},
     "output_type": "display_data"
    },
    {
     "data": {
      "text/plain": [
       "('a beau mentir qui vient de loin', -97.34808164258075)"
      ]
     },
     "metadata": {},
     "output_type": "display_data"
    },
    {
     "data": {
      "text/plain": [
       "('l’occasion fait le larron', 679.8140555421946)"
      ]
     },
     "metadata": {},
     "output_type": "display_data"
    },
    {
     "data": {
      "text/plain": [
       "('l’occasion fait le larron', -75.27197104402461)"
      ]
     },
     "metadata": {},
     "output_type": "display_data"
    },
    {
     "data": {
      "text/plain": [
       "('aide-toi, le ciel t’aidera', 2376.010535293619)"
      ]
     },
     "metadata": {},
     "output_type": "display_data"
    },
    {
     "data": {
      "text/plain": [
       "('aide-toi, le ciel t’aidera', -100.9289296598666)"
      ]
     },
     "metadata": {},
     "output_type": "display_data"
    },
    {
     "data": {
      "text/plain": [
       "('année de gelée, année de blé', 1812.8699134684505)"
      ]
     },
     "metadata": {},
     "output_type": "display_data"
    },
    {
     "data": {
      "text/plain": [
       "('année de gelée, année de blé', -97.41653720686683)"
      ]
     },
     "metadata": {},
     "output_type": "display_data"
    },
    {
     "data": {
      "text/plain": [
       "('après la pluie, le beau temps', 1107.8713269707812)"
      ]
     },
     "metadata": {},
     "output_type": "display_data"
    },
    {
     "data": {
      "text/plain": [
       "('après la pluie, le beau temps', -91.0221715337124)"
      ]
     },
     "metadata": {},
     "output_type": "display_data"
    },
    {
     "data": {
      "text/plain": [
       "('aux échecs, les fous sont les plus près des rois', 1557.1067673680873)"
      ]
     },
     "metadata": {},
     "output_type": "display_data"
    },
    {
     "data": {
      "text/plain": [
       "('aux échecs, les fous sont les plus près des rois', -137.86047801343503)"
      ]
     },
     "metadata": {},
     "output_type": "display_data"
    },
    {
     "data": {
      "text/plain": [
       "('ce que femme veut, dieu le veut', 1196.7163999336085)"
      ]
     },
     "metadata": {},
     "output_type": "display_data"
    },
    {
     "data": {
      "text/plain": [
       "('ce que femme veut, dieu le veut', -102.24865584908478)"
      ]
     },
     "metadata": {},
     "output_type": "display_data"
    },
    {
     "data": {
      "text/plain": [
       "('bien mal acquis ne profite jamais', 1416.2650759891033)"
      ]
     },
     "metadata": {},
     "output_type": "display_data"
    },
    {
     "data": {
      "text/plain": [
       "('bien mal acquis ne profite jamais', -83.74300478498279)"
      ]
     },
     "metadata": {},
     "output_type": "display_data"
    },
    {
     "data": {
      "text/plain": [
       "('bon ouvrier ne querelle pas ses outils', 1315.9389510520746)"
      ]
     },
     "metadata": {},
     "output_type": "display_data"
    },
    {
     "data": {
      "text/plain": [
       "('bon ouvrier ne querelle pas ses outils', -93.25689161292082)"
      ]
     },
     "metadata": {},
     "output_type": "display_data"
    },
    {
     "data": {
      "text/plain": [
       "('ce n’est pas tous les jours fête', 448.1899617514355)"
      ]
     },
     "metadata": {},
     "output_type": "display_data"
    },
    {
     "data": {
      "text/plain": [
       "('ce n’est pas tous les jours fête', -96.88763179149853)"
      ]
     },
     "metadata": {},
     "output_type": "display_data"
    },
    {
     "data": {
      "text/plain": [
       "('pour le fou, c’est tous les jours fête', 950.8258738005812)"
      ]
     },
     "metadata": {},
     "output_type": "display_data"
    },
    {
     "data": {
      "text/plain": [
       "('pour le fou, c’est tous les jours fête', -128.60948557724507)"
      ]
     },
     "metadata": {},
     "output_type": "display_data"
    },
    {
     "data": {
      "text/plain": [
       "('dire et faire, sont deux', 1200.5147460427463)"
      ]
     },
     "metadata": {},
     "output_type": "display_data"
    },
    {
     "data": {
      "text/plain": [
       "('dire et faire, sont deux', -81.83549927285432)"
      ]
     },
     "metadata": {},
     "output_type": "display_data"
    },
    {
     "data": {
      "text/plain": [
       "('mieux vaut prévenir que guérir', 769.36756133643)"
      ]
     },
     "metadata": {},
     "output_type": "display_data"
    },
    {
     "data": {
      "text/plain": [
       "('mieux vaut prévenir que guérir', -67.1127043487586)"
      ]
     },
     "metadata": {},
     "output_type": "display_data"
    },
    {
     "data": {
      "text/plain": [
       "('d’un sac on ne peut tirer deux moutures', 1155.7701557752084)"
      ]
     },
     "metadata": {},
     "output_type": "display_data"
    },
    {
     "data": {
      "text/plain": [
       "('d’un sac on ne peut tirer deux moutures', -122.09566568385539)"
      ]
     },
     "metadata": {},
     "output_type": "display_data"
    },
    {
     "data": {
      "text/plain": [
       "('à qui dieu aide, nul ne peut nuire', 1345.6322146824257)"
      ]
     },
     "metadata": {},
     "output_type": "display_data"
    },
    {
     "data": {
      "text/plain": [
       "('à qui dieu aide, nul ne peut nuire', -114.33475277582086)"
      ]
     },
     "metadata": {},
     "output_type": "display_data"
    },
    {
     "data": {
      "text/plain": [
       "('il n’y a point de rose de cent jours', 424.6014121809335)"
      ]
     },
     "metadata": {},
     "output_type": "display_data"
    },
    {
     "data": {
      "text/plain": [
       "('il n’y a point de rose de cent jours', -113.4895496706707)"
      ]
     },
     "metadata": {},
     "output_type": "display_data"
    },
    {
     "data": {
      "text/plain": [
       "('il faut le voir pour le croire', 813.5129741860222)"
      ]
     },
     "metadata": {},
     "output_type": "display_data"
    },
    {
     "data": {
      "text/plain": [
       "('il faut le voir pour le croire', -87.01219390009537)"
      ]
     },
     "metadata": {},
     "output_type": "display_data"
    },
    {
     "data": {
      "text/plain": [
       "('on ne vend pas le poisson qui est encore dans la mer', 1140.570035768997)"
      ]
     },
     "metadata": {},
     "output_type": "display_data"
    },
    {
     "data": {
      "text/plain": [
       "('on ne vend pas le poisson qui est encore dans la mer', -142.1775505015542)"
      ]
     },
     "metadata": {},
     "output_type": "display_data"
    },
    {
     "data": {
      "text/plain": [
       "('la langue d’un muet vaut mieux que celle d’un menteur', 850.176382139804)"
      ]
     },
     "metadata": {},
     "output_type": "display_data"
    },
    {
     "data": {
      "text/plain": [
       "('la langue d’un muet vaut mieux que celle d’un menteur', -155.70589394092187)"
      ]
     },
     "metadata": {},
     "output_type": "display_data"
    },
    {
     "data": {
      "text/plain": [
       "('bonne femme fait le bon homme', 1276.597239484895)"
      ]
     },
     "metadata": {},
     "output_type": "display_data"
    },
    {
     "data": {
      "text/plain": [
       "('bonne femme fait le bon homme', -82.54470174309316)"
      ]
     },
     "metadata": {},
     "output_type": "display_data"
    },
    {
     "data": {
      "text/plain": [
       "('bonne femme fait le bon homme', 1276.597239484895)"
      ]
     },
     "metadata": {},
     "output_type": "display_data"
    },
    {
     "data": {
      "text/plain": [
       "('bonne femme fait le bon homme', -82.54470174309316)"
      ]
     },
     "metadata": {},
     "output_type": "display_data"
    },
    {
     "data": {
      "text/plain": [
       "('ce que femme veut, dieu le veut', 1196.7163999336085)"
      ]
     },
     "metadata": {},
     "output_type": "display_data"
    },
    {
     "data": {
      "text/plain": [
       "('ce que femme veut, dieu le veut', -102.24865584908478)"
      ]
     },
     "metadata": {},
     "output_type": "display_data"
    },
    {
     "data": {
      "text/plain": [
       "('ce que femme veut, dieu le veut', 1196.7163999336085)"
      ]
     },
     "metadata": {},
     "output_type": "display_data"
    },
    {
     "data": {
      "text/plain": [
       "('ce que femme veut, dieu le veut', -102.24865584908478)"
      ]
     },
     "metadata": {},
     "output_type": "display_data"
    },
    {
     "data": {
      "text/plain": [
       "('grand parleur, grand menteur', 1663.4019953848767)"
      ]
     },
     "metadata": {},
     "output_type": "display_data"
    },
    {
     "data": {
      "text/plain": [
       "('grand parleur, grand menteur', -74.89944806696354)"
      ]
     },
     "metadata": {},
     "output_type": "display_data"
    },
    {
     "data": {
      "text/plain": [
       "('grand parleur, grand menteur', 1663.4019953848767)"
      ]
     },
     "metadata": {},
     "output_type": "display_data"
    },
    {
     "data": {
      "text/plain": [
       "('grand parleur, grand menteur', -74.89944806696354)"
      ]
     },
     "metadata": {},
     "output_type": "display_data"
    },
    {
     "data": {
      "text/plain": [
       "('le poisson pourrit par la tête', 891.4313734431025)"
      ]
     },
     "metadata": {},
     "output_type": "display_data"
    },
    {
     "data": {
      "text/plain": [
       "('le poisson pourrit par la tête', -78.39983941189863)"
      ]
     },
     "metadata": {},
     "output_type": "display_data"
    },
    {
     "data": {
      "text/plain": [
       "('le poisson pourrit par la tête', 891.4313734431025)"
      ]
     },
     "metadata": {},
     "output_type": "display_data"
    },
    {
     "data": {
      "text/plain": [
       "('le poisson pourrit par la tête', -78.39983941189863)"
      ]
     },
     "metadata": {},
     "output_type": "display_data"
    },
    {
     "data": {
      "text/plain": [
       "('mieux vaut prévenir que guérir', 769.36756133643)"
      ]
     },
     "metadata": {},
     "output_type": "display_data"
    },
    {
     "data": {
      "text/plain": [
       "('mieux vaut prévenir que guérir', -67.1127043487586)"
      ]
     },
     "metadata": {},
     "output_type": "display_data"
    },
    {
     "data": {
      "text/plain": [
       "('quand la poire est mûre, elle tombe', 1385.5482220915662)"
      ]
     },
     "metadata": {},
     "output_type": "display_data"
    },
    {
     "data": {
      "text/plain": [
       "('quand la poire est mûre, elle tombe', -104.36241207362839)"
      ]
     },
     "metadata": {},
     "output_type": "display_data"
    },
    {
     "data": {
      "text/plain": [
       "('quand la poire est mûre, elle tombe', 1385.5482220915662)"
      ]
     },
     "metadata": {},
     "output_type": "display_data"
    },
    {
     "data": {
      "text/plain": [
       "('quand la poire est mûre, elle tombe', -104.36241207362839)"
      ]
     },
     "metadata": {},
     "output_type": "display_data"
    },
    {
     "data": {
      "text/plain": [
       "31"
      ]
     },
     "metadata": {},
     "output_type": "display_data"
    },
    {
     "data": {
      "text/plain": [
       "31"
      ]
     },
     "metadata": {},
     "output_type": "display_data"
    }
   ],
   "source": [
    "perplex_score_3 = 0\n",
    "logprob_score_3 = 0\n",
    "for test in tests:\n",
    "    result_perplex = fill_masked_proverb(test['Masked'], test['Word_list'], n=3, criteria=\"perplexity\")\n",
    "    result_logprob = fill_masked_proverb(test['Masked'], test['Word_list'], n=3, criteria=\"logprob\")\n",
    "    \n",
    "    display(result_perplex)\n",
    "    display(result_logprob)\n",
    "    \n",
    "    if (result_perplex[0] == test['Proverb']):\n",
    "        perplex_score_3 += 1\n",
    "    if (result_logprob[0] == test['Proverb']):\n",
    "        logprob_score_3 += 1\n",
    "display(perplex_score_3)\n",
    "display(logprob_score_3)"
   ]
  },
  {
   "cell_type": "code",
   "execution_count": 112,
   "id": "bb078efc",
   "metadata": {},
   "outputs": [
    {
     "data": {
      "image/png": "[encoded data removed]",
      "text/plain": [
       "<Figure size 1000x600 with 1 Axes>"
      ]
     },
     "metadata": {},
     "output_type": "display_data"
    }
   ],
   "source": [
    "import matplotlib.pyplot as plt\n",
    "\n",
    "# Define the test cases and scores\n",
    "n_values = [1, 2, 3]\n",
    "perplex_scores = [(perplex_score/len(tests)) *100 , (perplex_score_2/len(tests)) *100 , (perplex_score_3/len(tests))*100 ]\n",
    "logprob_scores = [(logprob_score/len(tests)) *100, (logprob_score_2/len(tests)) *100 , (logprob_score_3/len(tests)) *100 ]\n",
    "\n",
    "# Create a bar chart for perplexity scores\n",
    "plt.figure(figsize=(10, 6))\n",
    "plt.bar(n_values, perplex_scores, width=0.3, label='Perplexity Score', align='center', alpha=0.7)\n",
    "plt.bar(n_values, logprob_scores, width=0.3, label='Log Probability Score', align='edge', alpha=0.7)\n",
    "\n",
    "# Add labels and legend\n",
    "plt.xlabel('N-gram')\n",
    "plt.ylabel('Test accuracy')\n",
    "plt.title('Perplexity and Log Probability Scores')\n",
    "plt.xticks(n_values)\n",
    "plt.legend()\n",
    "\n",
    "# Show the chart\n",
    "plt.show()\n"
   ]
  },
  {
   "cell_type": "markdown",
   "id": "f495c6da",
   "metadata": {},
   "source": [
    "## Interpretation"
   ]
  },
  {
   "cell_type": "markdown",
   "id": "86d9f24a",
   "metadata": {},
   "source": [
    "### Présentez les résultats obtenus.\n",
    "En examinant le graphique ci-dessus, il est évident que le modèle trigramme se démarque en termes de performance pour la prédiction des proverbes, même s'il est également le plus complexe. Une observation importante est que l'évaluation du logscore et de la perplexité produit des résultats cohérents.\n",
    "\n",
    "### Les différents modèles capturent-ils bien le langage utilisé dans les proverbes ?\n",
    "Le modèle unigramme affiche la moins bonne adéquation à la langue des proverbes en raison de sa limitation en termes de contexte. Il a réussi à prédire correctement seulement 14 cas sur 31, tandis que le modèle bigramme a atteint 30 cas sur 31, et le modèle trigramme a obtenu un score parfait de 31 sur 31.\n",
    "\n",
    "### Quel est l’impact de la longueur de l’historique ?\n",
    "La taille de l'historique s'avère cruciale pour la contextualisation des mots. Cette influence est clairement visible dans les graphiques, où la précision augmente de manière significative à mesure que la taille de l'historique, notée \"n,\" augmente.\n",
    "\n",
    "\n",
    "### Observez-vous une différence entre les résultats obtenus avec le logprob et la perplexité ? Expliquez.\n",
    "Il est à noter qu'aucune différence notable n'est observée entre les mesures de logprob et de perplexité. Ceci s'explique par le fait que le logscore total d'un proverbe est obtenu en additionnant les logscores de ses n-grammes individuels, ce qui est similaire à la manière dont la perplexité est évaluée. Ainsi, il n'est pas surprenant que les deux mesures produisent des résultats similaires.\n"
   ]
  },
  {
   "cell_type": "markdown",
   "id": "bcba2d5a",
   "metadata": {},
   "source": [
    "## Section 6 - Partie réservée pour faire nos tests lors de la correction\n",
    "\n",
    "Merci de ne pas modifier ni retirer cette section du notebook ! "
   ]
  },
  {
   "cell_type": "code",
   "execution_count": null,
   "id": "290fd2c8",
   "metadata": {},
   "outputs": [],
   "source": []
  },
  {
   "cell_type": "code",
   "execution_count": null,
   "id": "9b046259",
   "metadata": {},
   "outputs": [],
   "source": []
  },
  {
   "cell_type": "code",
   "execution_count": null,
   "id": "7ce7e9e2",
   "metadata": {},
   "outputs": [],
   "source": []
  },
  {
   "cell_type": "code",
   "execution_count": null,
   "id": "02a13ce2",
   "metadata": {},
   "outputs": [],
   "source": []
  },
  {
   "cell_type": "code",
   "execution_count": null,
   "id": "27f99003",
   "metadata": {},
   "outputs": [],
   "source": []
  }
 ],
 "metadata": {
  "kernelspec": {
   "display_name": "Python 3 (ipykernel)",
   "language": "python",
   "name": "python3"
  },
  "language_info": {
   "codemirror_mode": {
    "name": "ipython",
    "version": 3
   },
   "file_extension": ".py",
   "mimetype": "text/x-python",
   "name": "python",
   "nbconvert_exporter": "python",
   "pygments_lexer": "ipython3",
   "version": "3.9.18"
  }
 },
 "nbformat": 4,
 "nbformat_minor": 5
}
