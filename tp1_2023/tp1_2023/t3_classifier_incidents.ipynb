{
 "cells": [
  {
   "cell_type": "markdown",
   "id": "4d53d4c2",
   "metadata": {},
   "source": [
    "# Tâche 3 - Classification automatique de descriptions d'incidents\n",
    "\n",
    "Cette tâche vise à classifier de courts textes décrivant des incidents qui se sont produits sur des chantiers de construction. Pour chaque incident, on retrouve une étiquette qui correspond au type d’incident (0 à 8). \n",
    "\n",
    "Les objectifs de cette tâche sont: \n",
    "- de se familiariser avec la classification de texte\n",
    "- d'apprendre à utiliser les fonctions de base de scikit-learn\n",
    "- de comprendre comment représenter un texte sous la forme d'un sac de mots (*bag of words*)\n",
    "- de faire l'évaluation d'un modèle de classification avec un corpus de test\n",
    "- de tenter d'interpréter les résultats d'un modèle à l'aide des poids d'attributs. \n",
    "\n",
    "Pour la première partie, vous devez construire une fonction (*train_and_test_classifier*) qui entraîne un modèle (les options étant la régression logistique et le naïf bayésien) et en faire l'évaluation sur des données d'entraînement et des données de test. Vous devez également évaluer l'impact de la lemmatisation de mots sur la performance des classificateurs. Deux fichiers de textes sont disponibles pour mener votre expérimentation (voir Section 1). \n",
    "\n",
    "Pour la deuxième partie, tentez de déterminer à quoi correspond chacune des classes d’incident. Faites une analyse des poids des modèles pour proposer des étiquettes pour chacune des classes. Vous pouvez vous inspirer des notebooks disponibles sur le site du cours. Expliquez clairement comment vous êtes arrivé à vos conclusions. L’important ici est de dégager le thème principal à partir de vos observations et non pas de trouver la formulation exacte des étiquettes. Veuillez noter que certaines classes sont (très) difficiles à identifier. \n",
    "\n",
    "Merci de respecter les signatures des fonctions *train_and_test_classifier* et *load_incident_dataset*.\n",
    "\n",
    "Note sur la lemmatisation: Cette normalisation de texte nécessite l'utilisation d'un modèle qui repose sur l'apprentissage automatique. En conséquence, son temps d'exécution est plus long que le stemming. Si jamais cela ralentit trop vos expérimentations, il est possible de ne faire le traitement qu'une seule fois en sauvegardant les résultats après la première lemmatisation d'un fichier. Cela n'est toutefois pas exigé pour la remise de votre travail et ne sera pas évalué. "
   ]
  },
  {
   "cell_type": "markdown",
   "id": "d64cb0b9",
   "metadata": {},
   "source": [
    "## Section 1 - Lecture des fichiers de données\n",
    "\n",
    "Voici les fichiers mis à votre disposition pour mener vos expérimentations. La fonction *load_incident_data* peut être utilisée pour lire les 2 fichiers (train et test). Rien à modifier dans cette section. "
   ]
  },
  {
   "cell_type": "code",
   "execution_count": 4,
   "id": "d7082859",
   "metadata": {},
   "outputs": [],
   "source": [
    "import json\n",
    "\n",
    "train_json_fn = \"./data/t3_train.json\"\n",
    "test_json_fn = \"./data/t3_test.json\"\n",
    "\n",
    "\n",
    "def load_incident_dataset(filename):\n",
    "    with open(filename, 'r') as fp:\n",
    "        incident_list = json.load(fp)\n",
    "    return incident_list"
   ]
  },
  {
   "cell_type": "code",
   "execution_count": 2,
   "id": "84aea833",
   "metadata": {},
   "outputs": [
    {
     "name": "stdout",
     "output_type": "stream",
     "text": [
      "Nombre d'incidents: 2475\n",
      "\n",
      "Un exemple:\n",
      " {'text': \" At approximately 12:15 p.m. on February 8  2011  Employee # 1 and four other  coworkers were working in the West storage Facility at Enterprise Products  located at Mont Belvieu  Texas. A major fire began but Employee # 1 wasn't  able to escape. The recovery effort was delayed until the evening of February  10  2011  due to the presence of hydrocarbon vapors and small residual fires.   \", 'label': '6'}\n"
     ]
    }
   ],
   "source": [
    "train_list = load_incident_dataset(train_json_fn)\n",
    "print(\"Nombre d'incidents:\", len(train_list))\n",
    "print(\"\\nUn exemple:\\n\", train_list[10])"
   ]
  },
  {
   "cell_type": "code",
   "execution_count": 3,
   "id": "88755bf5",
   "metadata": {},
   "outputs": [
    {
     "name": "stdout",
     "output_type": "stream",
     "text": [
      "Nombre d'incidents 1062\n",
      "\n",
      "Une description d'incident:  At approximately 2:00 p.m. on March 3  2005  Employee #1  an iron worker  was  performing connecting work at a height of approximately 14 ft above grade.  Employee #1 lost his balance and fell to the ground  landing on his feet. In  order to absorb the impact on his legs from the fall  Employee #1 bent down   striking his head on the spud wrench in the tool belt. He sustained 3 stitches  to his forehead  but he was not hospitalized.                                   \n",
      "\n",
      "Son étiquette: 5\n"
     ]
    }
   ],
   "source": [
    "test_list = load_incident_dataset(test_json_fn)\n",
    "print(\"Nombre d'incidents\", len(test_list))\n",
    "incident = test_list[10]\n",
    "print(\"\\nUne description d'incident:\", incident[\"text\"])\n",
    "print(\"\\nSon étiquette:\", incident[\"label\"])"
   ]
  },
  {
   "cell_type": "markdown",
   "id": "1a418049",
   "metadata": {},
   "source": [
    "## Section 2 - Entraînement et évaluation des modèles  \n",
    "\n",
    "Vous pouvez ajouter tout le code dont vous avez besoin pour l'entraînement. Merci de ne pas modifier la signature de la fonction d'entraînement et de bien expliquer votre démarche et vos résultats. N'oubliez pas de faire une recommandation de modèle. Vous pouvez ajouter des cellules au notebook si nécessaire. "
   ]
  },
  {
   "cell_type": "code",
   "execution_count": 53,
   "id": "abeb39cc",
   "metadata": {},
   "outputs": [
    {
     "ename": "ValueError",
     "evalue": "[E002] Can't find factory for 'transformer' for language English (en). This usually happens when spaCy calls `nlp.create_pipe` with a custom component name that's not registered on the current language class. If you're using a Transformer, make sure to install 'spacy-transformers'. If you're using a custom component, make sure you've added the decorator `@Language.component` (for function components) or `@Language.factory` (for class components).\n\nAvailable factories: attribute_ruler, tok2vec, merge_noun_chunks, merge_entities, merge_subtokens, token_splitter, doc_cleaner, parser, beam_parser, lemmatizer, trainable_lemmatizer, entity_linker, entity_ruler, tagger, morphologizer, ner, beam_ner, senter, sentencizer, spancat, spancat_singlelabel, span_finder, future_entity_ruler, span_ruler, textcat, textcat_multilabel, en.lemmatizer",
     "output_type": "error",
     "traceback": [
      "\u001b[1;31m---------------------------------------------------------------------------\u001b[0m",
      "\u001b[1;31mValueError\u001b[0m                                Traceback (most recent call last)",
      "\u001b[1;32mc:\\Users\\Utilisateur\\Desktop\\Ulaval\\A23\\NLP\\Travaux-pratiques-NLP\\tp1_2023\\tp1_2023\\t3_classifier_incidents.ipynb Cell 7\u001b[0m line \u001b[0;36m3\n\u001b[0;32m      <a href='vscode-notebook-cell:/c%3A/Users/Utilisateur/Desktop/Ulaval/A23/NLP/Travaux-pratiques-NLP/tp1_2023/tp1_2023/t3_classifier_incidents.ipynb#W6sZmlsZQ%3D%3D?line=0'>1</a>\u001b[0m \u001b[39mimport\u001b[39;00m \u001b[39men_core_web_trf\u001b[39;00m\n\u001b[1;32m----> <a href='vscode-notebook-cell:/c%3A/Users/Utilisateur/Desktop/Ulaval/A23/NLP/Travaux-pratiques-NLP/tp1_2023/tp1_2023/t3_classifier_incidents.ipynb#W6sZmlsZQ%3D%3D?line=2'>3</a>\u001b[0m nlp \u001b[39m=\u001b[39m en_core_web_trf\u001b[39m.\u001b[39mload()\n\u001b[0;32m      <a href='vscode-notebook-cell:/c%3A/Users/Utilisateur/Desktop/Ulaval/A23/NLP/Travaux-pratiques-NLP/tp1_2023/tp1_2023/t3_classifier_incidents.ipynb#W6sZmlsZQ%3D%3D?line=4'>5</a>\u001b[0m \u001b[39mdef\u001b[39;00m \u001b[39mnormalize_texts\u001b[39m(texts, normalization):\n\u001b[0;32m      <a href='vscode-notebook-cell:/c%3A/Users/Utilisateur/Desktop/Ulaval/A23/NLP/Travaux-pratiques-NLP/tp1_2023/tp1_2023/t3_classifier_incidents.ipynb#W6sZmlsZQ%3D%3D?line=5'>6</a>\u001b[0m \u001b[39m    \u001b[39m\u001b[39m\"\"\"\u001b[39;00m\n\u001b[0;32m      <a href='vscode-notebook-cell:/c%3A/Users/Utilisateur/Desktop/Ulaval/A23/NLP/Travaux-pratiques-NLP/tp1_2023/tp1_2023/t3_classifier_incidents.ipynb#W6sZmlsZQ%3D%3D?line=6'>7</a>\u001b[0m \u001b[39m    :param texts: une liste de textes à normaliser\u001b[39;00m\n\u001b[0;32m      <a href='vscode-notebook-cell:/c%3A/Users/Utilisateur/Desktop/Ulaval/A23/NLP/Travaux-pratiques-NLP/tp1_2023/tp1_2023/t3_classifier_incidents.ipynb#W6sZmlsZQ%3D%3D?line=7'>8</a>\u001b[0m \u001b[39m    :param normalization: la normalisation à appliquer ('words' ou 'lemma')\u001b[39;00m\n\u001b[0;32m      <a href='vscode-notebook-cell:/c%3A/Users/Utilisateur/Desktop/Ulaval/A23/NLP/Travaux-pratiques-NLP/tp1_2023/tp1_2023/t3_classifier_incidents.ipynb#W6sZmlsZQ%3D%3D?line=8'>9</a>\u001b[0m \u001b[39m    :return: une liste de textes normalisés\u001b[39;00m\n\u001b[0;32m     <a href='vscode-notebook-cell:/c%3A/Users/Utilisateur/Desktop/Ulaval/A23/NLP/Travaux-pratiques-NLP/tp1_2023/tp1_2023/t3_classifier_incidents.ipynb#W6sZmlsZQ%3D%3D?line=9'>10</a>\u001b[0m \u001b[39m    \"\"\"\u001b[39;00m\n",
      "File \u001b[1;32mc:\\Users\\Utilisateur\\anaconda3\\Lib\\site-packages\\en_core_web_trf\\__init__.py:10\u001b[0m, in \u001b[0;36mload\u001b[1;34m(**overrides)\u001b[0m\n\u001b[0;32m      9\u001b[0m \u001b[39mdef\u001b[39;00m \u001b[39mload\u001b[39m(\u001b[39m*\u001b[39m\u001b[39m*\u001b[39moverrides):\n\u001b[1;32m---> 10\u001b[0m     \u001b[39mreturn\u001b[39;00m load_model_from_init_py(\u001b[39m__file__\u001b[39m, \u001b[39m*\u001b[39m\u001b[39m*\u001b[39moverrides)\n",
      "File \u001b[1;32mc:\\Users\\Utilisateur\\anaconda3\\Lib\\site-packages\\spacy\\util.py:682\u001b[0m, in \u001b[0;36mload_model_from_init_py\u001b[1;34m(init_file, vocab, disable, enable, exclude, config)\u001b[0m\n\u001b[0;32m    680\u001b[0m \u001b[39mif\u001b[39;00m \u001b[39mnot\u001b[39;00m model_path\u001b[39m.\u001b[39mexists():\n\u001b[0;32m    681\u001b[0m     \u001b[39mraise\u001b[39;00m \u001b[39mIOError\u001b[39;00m(Errors\u001b[39m.\u001b[39mE052\u001b[39m.\u001b[39mformat(path\u001b[39m=\u001b[39mdata_path))\n\u001b[1;32m--> 682\u001b[0m \u001b[39mreturn\u001b[39;00m load_model_from_path(\n\u001b[0;32m    683\u001b[0m     data_path,\n\u001b[0;32m    684\u001b[0m     vocab\u001b[39m=\u001b[39mvocab,\n\u001b[0;32m    685\u001b[0m     meta\u001b[39m=\u001b[39mmeta,\n\u001b[0;32m    686\u001b[0m     disable\u001b[39m=\u001b[39mdisable,\n\u001b[0;32m    687\u001b[0m     enable\u001b[39m=\u001b[39menable,\n\u001b[0;32m    688\u001b[0m     exclude\u001b[39m=\u001b[39mexclude,\n\u001b[0;32m    689\u001b[0m     config\u001b[39m=\u001b[39mconfig,\n\u001b[0;32m    690\u001b[0m )\n",
      "File \u001b[1;32mc:\\Users\\Utilisateur\\anaconda3\\Lib\\site-packages\\spacy\\util.py:539\u001b[0m, in \u001b[0;36mload_model_from_path\u001b[1;34m(model_path, meta, vocab, disable, enable, exclude, config)\u001b[0m\n\u001b[0;32m    537\u001b[0m overrides \u001b[39m=\u001b[39m dict_to_dot(config, for_overrides\u001b[39m=\u001b[39m\u001b[39mTrue\u001b[39;00m)\n\u001b[0;32m    538\u001b[0m config \u001b[39m=\u001b[39m load_config(config_path, overrides\u001b[39m=\u001b[39moverrides)\n\u001b[1;32m--> 539\u001b[0m nlp \u001b[39m=\u001b[39m load_model_from_config(\n\u001b[0;32m    540\u001b[0m     config,\n\u001b[0;32m    541\u001b[0m     vocab\u001b[39m=\u001b[39mvocab,\n\u001b[0;32m    542\u001b[0m     disable\u001b[39m=\u001b[39mdisable,\n\u001b[0;32m    543\u001b[0m     enable\u001b[39m=\u001b[39menable,\n\u001b[0;32m    544\u001b[0m     exclude\u001b[39m=\u001b[39mexclude,\n\u001b[0;32m    545\u001b[0m     meta\u001b[39m=\u001b[39mmeta,\n\u001b[0;32m    546\u001b[0m )\n\u001b[0;32m    547\u001b[0m \u001b[39mreturn\u001b[39;00m nlp\u001b[39m.\u001b[39mfrom_disk(model_path, exclude\u001b[39m=\u001b[39mexclude, overrides\u001b[39m=\u001b[39moverrides)\n",
      "File \u001b[1;32mc:\\Users\\Utilisateur\\anaconda3\\Lib\\site-packages\\spacy\\util.py:587\u001b[0m, in \u001b[0;36mload_model_from_config\u001b[1;34m(config, meta, vocab, disable, enable, exclude, auto_fill, validate)\u001b[0m\n\u001b[0;32m    584\u001b[0m \u001b[39m# This will automatically handle all codes registered via the languages\u001b[39;00m\n\u001b[0;32m    585\u001b[0m \u001b[39m# registry, including custom subclasses provided via entry points\u001b[39;00m\n\u001b[0;32m    586\u001b[0m lang_cls \u001b[39m=\u001b[39m get_lang_class(nlp_config[\u001b[39m\"\u001b[39m\u001b[39mlang\u001b[39m\u001b[39m\"\u001b[39m])\n\u001b[1;32m--> 587\u001b[0m nlp \u001b[39m=\u001b[39m lang_cls\u001b[39m.\u001b[39mfrom_config(\n\u001b[0;32m    588\u001b[0m     config,\n\u001b[0;32m    589\u001b[0m     vocab\u001b[39m=\u001b[39mvocab,\n\u001b[0;32m    590\u001b[0m     disable\u001b[39m=\u001b[39mdisable,\n\u001b[0;32m    591\u001b[0m     enable\u001b[39m=\u001b[39menable,\n\u001b[0;32m    592\u001b[0m     exclude\u001b[39m=\u001b[39mexclude,\n\u001b[0;32m    593\u001b[0m     auto_fill\u001b[39m=\u001b[39mauto_fill,\n\u001b[0;32m    594\u001b[0m     validate\u001b[39m=\u001b[39mvalidate,\n\u001b[0;32m    595\u001b[0m     meta\u001b[39m=\u001b[39mmeta,\n\u001b[0;32m    596\u001b[0m )\n\u001b[0;32m    597\u001b[0m \u001b[39mreturn\u001b[39;00m nlp\n",
      "File \u001b[1;32mc:\\Users\\Utilisateur\\anaconda3\\Lib\\site-packages\\spacy\\language.py:1847\u001b[0m, in \u001b[0;36mLanguage.from_config\u001b[1;34m(cls, config, vocab, disable, enable, exclude, meta, auto_fill, validate)\u001b[0m\n\u001b[0;32m   1844\u001b[0m     factory \u001b[39m=\u001b[39m pipe_cfg\u001b[39m.\u001b[39mpop(\u001b[39m\"\u001b[39m\u001b[39mfactory\u001b[39m\u001b[39m\"\u001b[39m)\n\u001b[0;32m   1845\u001b[0m     \u001b[39m# The pipe name (key in the config) here is the unique name\u001b[39;00m\n\u001b[0;32m   1846\u001b[0m     \u001b[39m# of the component, not necessarily the factory\u001b[39;00m\n\u001b[1;32m-> 1847\u001b[0m     nlp\u001b[39m.\u001b[39madd_pipe(\n\u001b[0;32m   1848\u001b[0m         factory,\n\u001b[0;32m   1849\u001b[0m         name\u001b[39m=\u001b[39mpipe_name,\n\u001b[0;32m   1850\u001b[0m         config\u001b[39m=\u001b[39mpipe_cfg,\n\u001b[0;32m   1851\u001b[0m         validate\u001b[39m=\u001b[39mvalidate,\n\u001b[0;32m   1852\u001b[0m         raw_config\u001b[39m=\u001b[39mraw_config,\n\u001b[0;32m   1853\u001b[0m     )\n\u001b[0;32m   1854\u001b[0m \u001b[39melse\u001b[39;00m:\n\u001b[0;32m   1855\u001b[0m     \u001b[39massert\u001b[39;00m \u001b[39m\"\u001b[39m\u001b[39msource\u001b[39m\u001b[39m\"\u001b[39m \u001b[39min\u001b[39;00m pipe_cfg\n",
      "File \u001b[1;32mc:\\Users\\Utilisateur\\anaconda3\\Lib\\site-packages\\spacy\\language.py:814\u001b[0m, in \u001b[0;36mLanguage.add_pipe\u001b[1;34m(self, factory_name, name, before, after, first, last, source, config, raw_config, validate)\u001b[0m\n\u001b[0;32m    810\u001b[0m     pipe_component, factory_name \u001b[39m=\u001b[39m \u001b[39mself\u001b[39m\u001b[39m.\u001b[39mcreate_pipe_from_source(\n\u001b[0;32m    811\u001b[0m         factory_name, source, name\u001b[39m=\u001b[39mname\n\u001b[0;32m    812\u001b[0m     )\n\u001b[0;32m    813\u001b[0m \u001b[39melse\u001b[39;00m:\n\u001b[1;32m--> 814\u001b[0m     pipe_component \u001b[39m=\u001b[39m \u001b[39mself\u001b[39m\u001b[39m.\u001b[39mcreate_pipe(\n\u001b[0;32m    815\u001b[0m         factory_name,\n\u001b[0;32m    816\u001b[0m         name\u001b[39m=\u001b[39mname,\n\u001b[0;32m    817\u001b[0m         config\u001b[39m=\u001b[39mconfig,\n\u001b[0;32m    818\u001b[0m         raw_config\u001b[39m=\u001b[39mraw_config,\n\u001b[0;32m    819\u001b[0m         validate\u001b[39m=\u001b[39mvalidate,\n\u001b[0;32m    820\u001b[0m     )\n\u001b[0;32m    821\u001b[0m pipe_index \u001b[39m=\u001b[39m \u001b[39mself\u001b[39m\u001b[39m.\u001b[39m_get_pipe_index(before, after, first, last)\n\u001b[0;32m    822\u001b[0m \u001b[39mself\u001b[39m\u001b[39m.\u001b[39m_pipe_meta[name] \u001b[39m=\u001b[39m \u001b[39mself\u001b[39m\u001b[39m.\u001b[39mget_factory_meta(factory_name)\n",
      "File \u001b[1;32mc:\\Users\\Utilisateur\\anaconda3\\Lib\\site-packages\\spacy\\language.py:683\u001b[0m, in \u001b[0;36mLanguage.create_pipe\u001b[1;34m(self, factory_name, name, config, raw_config, validate)\u001b[0m\n\u001b[0;32m    675\u001b[0m \u001b[39mif\u001b[39;00m \u001b[39mnot\u001b[39;00m \u001b[39mself\u001b[39m\u001b[39m.\u001b[39mhas_factory(factory_name):\n\u001b[0;32m    676\u001b[0m     err \u001b[39m=\u001b[39m Errors\u001b[39m.\u001b[39mE002\u001b[39m.\u001b[39mformat(\n\u001b[0;32m    677\u001b[0m         name\u001b[39m=\u001b[39mfactory_name,\n\u001b[0;32m    678\u001b[0m         opts\u001b[39m=\u001b[39m\u001b[39m\"\u001b[39m\u001b[39m, \u001b[39m\u001b[39m\"\u001b[39m\u001b[39m.\u001b[39mjoin(\u001b[39mself\u001b[39m\u001b[39m.\u001b[39mfactory_names),\n\u001b[1;32m   (...)\u001b[0m\n\u001b[0;32m    681\u001b[0m         lang_code\u001b[39m=\u001b[39m\u001b[39mself\u001b[39m\u001b[39m.\u001b[39mlang,\n\u001b[0;32m    682\u001b[0m     )\n\u001b[1;32m--> 683\u001b[0m     \u001b[39mraise\u001b[39;00m \u001b[39mValueError\u001b[39;00m(err)\n\u001b[0;32m    684\u001b[0m pipe_meta \u001b[39m=\u001b[39m \u001b[39mself\u001b[39m\u001b[39m.\u001b[39mget_factory_meta(factory_name)\n\u001b[0;32m    685\u001b[0m \u001b[39m# This is unideal, but the alternative would mean you always need to\u001b[39;00m\n\u001b[0;32m    686\u001b[0m \u001b[39m# specify the full config settings, which is not really viable.\u001b[39;00m\n",
      "\u001b[1;31mValueError\u001b[0m: [E002] Can't find factory for 'transformer' for language English (en). This usually happens when spaCy calls `nlp.create_pipe` with a custom component name that's not registered on the current language class. If you're using a Transformer, make sure to install 'spacy-transformers'. If you're using a custom component, make sure you've added the decorator `@Language.component` (for function components) or `@Language.factory` (for class components).\n\nAvailable factories: attribute_ruler, tok2vec, merge_noun_chunks, merge_entities, merge_subtokens, token_splitter, doc_cleaner, parser, beam_parser, lemmatizer, trainable_lemmatizer, entity_linker, entity_ruler, tagger, morphologizer, ner, beam_ner, senter, sentencizer, spancat, spancat_singlelabel, span_finder, future_entity_ruler, span_ruler, textcat, textcat_multilabel, en.lemmatizer"
     ]
    }
   ],
   "source": [
    "import en_core_web_trf\n",
    "\n",
    "nlp = en_core_web_trf.load()\n",
    "\n",
    "def normalize_texts(texts, normalization):\n",
    "    \"\"\"\n",
    "    :param texts: une liste de textes à normaliser\n",
    "    :param normalization: la normalisation à appliquer ('words' ou 'lemma')\n",
    "    :return: une liste de textes normalisés\n",
    "    \"\"\"\n",
    "    normalized_texts = []\n",
    "    for text in texts:\n",
    "        if normalization == 'words':\n",
    "            normalized_text = text.lower()\n",
    "        elif normalization == 'lemma':\n",
    "            doc = nlp(text)\n",
    "            normalized_text = ' '.join([token.lemma_ for token in doc])\n",
    "        else:\n",
    "            raise ValueError(\"Invalid normalization type. Allowed values are 'words' and 'lemma'.\")\n",
    "        normalized_texts.append(normalized_text)\n",
    "    return normalized_texts"
   ]
  },
  {
   "cell_type": "code",
   "execution_count": 42,
   "id": "38738d51",
   "metadata": {},
   "outputs": [],
   "source": [
    "# Importer ici les librairies dont vous avez besoin\n",
    "from sklearn.feature_extraction.text import CountVectorizer\n",
    "from sklearn.linear_model import LogisticRegression\n",
    "from sklearn.metrics import confusion_matrix\n",
    "from sklearn.naive_bayes import MultinomialNB\n",
    "\n",
    "\n",
    "\n",
    "\n",
    "\n",
    "def train_and_test_classifier(train_fn, test_fn, model='NB', normalization='words'):\n",
    "    \"\"\"\n",
    "    :param train_fn et test_fn: les 2 fichiers utilisées pour entraîner et tester les classificateurs.\n",
    "    :param model: le type de classificateur. NB = Naive Bayes, LR = Régression logistique.\n",
    "    :param normalization: la nomralisation appliquée aux mots des descriptions\n",
    "                 - 'word': les mots des textes sans normalization.\n",
    "                 - 'lemma': les lemmes des mots obtenus par lemmatisation avec Spacy.\n",
    "    :return: un dictionnaire contenant 3 valeurs:\n",
    "                 - l'accuracy à l'entraînement (validation croisée)\n",
    "                 - l'accuracy sur le jeu de test\n",
    "                 - la matrice de confusion calculée par scikit-learn sur les données de test\n",
    "    \"\"\"\n",
    "\n",
    "    # Charger les données d'entraînement et de test\n",
    "    train_list = load_incident_dataset(train_fn)\n",
    "    test_list = load_incident_dataset(test_fn)\n",
    "\n",
    "    # Extraire les textes et les étiquettes des données d'entraînement et de test\n",
    "    train_texts = [incident['text'] for incident in train_list]\n",
    "    train_labels = [incident['label'] for incident in train_list]\n",
    "\n",
    "    # Normalisation des mots des textes\n",
    "    #train_texts = normalize_texts(train_texts, normalization)\n",
    "\n",
    "    # Créer un objet CountVectorizer\n",
    "    # et les bigrammes des textes\n",
    "    vectorizer = CountVectorizer(lowercase=True)\n",
    "    X_train = vectorizer.fit_transform(train_texts)\n",
    "    y_train = train_labels\n",
    "\n",
    "    # Creation du classificateur\n",
    "    if model == 'NB':\n",
    "        classifier = MultinomialNB()\n",
    "    elif model == 'LR':\n",
    "        classifier = LogisticRegression(max_iter=600)\n",
    "    else:\n",
    "        print(\"Le modèle n'est pas reconnu\")\n",
    "        return None\n",
    "    \n",
    "    # Entraînement du classificateur\n",
    "    classifier.fit(X_train, y_train)\n",
    "\n",
    "    # Préparation des données de test\n",
    "    test_texts = [incident['text'] for incident in test_list]\n",
    "    test_labels = [incident['label'] for incident in test_list]\n",
    "    X_test = vectorizer.transform(test_texts)\n",
    "\n",
    "    # Prédiction des étiquettes sur les données de test\n",
    "    predicted_labels = classifier.predict(X_test)\n",
    "\n",
    "    # Calcul de l'accuracy sur les données de test\n",
    "    accuracy_test = classifier.score(X_test, test_labels)\n",
    "    accuracy_train = classifier.score(X_train, y_train)\n",
    "    confusion_matrix_result = confusion_matrix(test_labels, predicted_labels)\n",
    "\n",
    "    cross_validation(classifier, X_train, y_train)\n",
    "    #hold_out_evaluation(classifier, X_test, test_labels)\n",
    "    \n",
    "\n",
    "    # Les résultats à retourner\n",
    "    results = dict()\n",
    "    results['accuracy_train'] = accuracy_train\n",
    "    results['accuracy_test'] = accuracy_test\n",
    "    results['confusion_matrix'] = confusion_matrix_result  # la matrice de confusion obtenue de Scikit-learn\n",
    "    return results"
   ]
  },
  {
   "cell_type": "code",
   "execution_count": 29,
   "id": "c8a126c6",
   "metadata": {},
   "outputs": [],
   "source": [
    "from matplotlib import pyplot as plt\n",
    "import pandas as pd\n",
    "from sklearn.model_selection import cross_val_score\n",
    "import seaborn as sns\n",
    "\n",
    "\n",
    "def display_confusion_matrix(confusion_matrix, classes):\n",
    "    print(\"\\n\\nMatrice de confusion\")\n",
    "    df_cm = pd.DataFrame(confusion_matrix, index=classes, columns=classes)\n",
    "    f, ax = plt.subplots(figsize=(7, 5))\n",
    "    sns.heatmap(df_cm, annot=True, fmt=\"d\", linewidths=.5, ax=ax)\n",
    "    plt.ylabel('Vrai étiquette ')\n",
    "    plt.xlabel('Étiquette prédite')"
   ]
  },
  {
   "cell_type": "code",
   "execution_count": 30,
   "id": "6d9f89d0",
   "metadata": {},
   "outputs": [],
   "source": [
    "def cross_validation(classifier, X, y):\n",
    "    scores = cross_val_score(classifier, X, y, cv=5)\n",
    "    print(\"\\nÉvaluation par validation croisée (en entraînement) : \")\n",
    "    print(\"   Exactitude (accuracy) sur chaque partition\", scores)\n",
    "    print(\"   Exactitude moyenne: %0.2f (+/- %0.2f)\" % (scores.mean(), scores.std() * 2))"
   ]
  },
  {
   "cell_type": "code",
   "execution_count": 36,
   "id": "683a31ac",
   "metadata": {},
   "outputs": [],
   "source": [
    "# def hold_out_evaluation(classifier, X, y_true):\n",
    "#     y_pred = classifier.predict(X)\n",
    "#     print(\"\\nÉvaluation sur les données de tests\")\n",
    "#     print(\"   Accuracy = \", accuracy_score(y_true, y_pred))\n",
    "#     print(\"   Macro rappel (recall) = \", recall_score(y_true, y_pred, average='macro'))\n",
    "#     print(\"   Macro précision = \", precision_score(y_true, y_pred, average='macro'))\n",
    "#     print(\"   Micro rappel (recall) = \", recall_score(y_true, y_pred, average='micro'))\n",
    "#     print(\"   Micro précision = \", precision_score(y_true, y_pred, average='micro'))"
   ]
  },
  {
   "cell_type": "code",
   "execution_count": 43,
   "id": "342af14e",
   "metadata": {},
   "outputs": [
    {
     "name": "stdout",
     "output_type": "stream",
     "text": [
      "\n",
      "Évaluation par validation croisée (en entraînement) : \n",
      "   Exactitude (accuracy) sur chaque partition [0.70707071 0.7010101  0.6989899  0.67878788 0.67474747]\n",
      "   Exactitude moyenne: 0.69 (+/- 0.03)\n",
      "Accuracy on train set: 0.8569696969696969\n",
      "Accuracy on test set: 0.7090395480225988\n",
      "\n",
      "\n",
      "Matrice de confusion\n"
     ]
    },
    {
     "data": {
      "image/png": "[encoded data removed]",
      "text/plain": [
       "<Figure size 700x500 with 2 Axes>"
      ]
     },
     "metadata": {},
     "output_type": "display_data"
    }
   ],
   "source": [
    "classes = [i for i in range(9)]\n",
    "result = train_and_test_classifier(train_json_fn, test_json_fn, model='NB', normalization='words')\n",
    "#disp = ConfusionMatrixDisplay(confusion_matrix=result[\"confusion_matrix\"], display_labels=classes).plot()\n",
    "#plt.show()\n",
    "print(f\"Accuracy on train set: {result['accuracy_train']}\")\n",
    "print(f\"Accuracy on test set: {result['accuracy_test']}\")\n",
    "display_confusion_matrix(result[\"confusion_matrix\"], classes)"
   ]
  },
  {
   "cell_type": "code",
   "execution_count": null,
   "id": "10e3f458",
   "metadata": {},
   "outputs": [],
   "source": []
  },
  {
   "cell_type": "markdown",
   "id": "c9a9dbd2",
   "metadata": {},
   "source": [
    "## Section 3 - À quoi correspondent les classes? Explicabilité du modèle\n",
    "\n",
    "En utilisant les poids des modèles, tentez d'attribuer une signification aux différentes classes. Comme c'est une épreuve d'analyse de données, il est possible que certaines classes ne soient pas interprétables. Vous n'êtes pas tenu à l'impossible. L'important est d'utiliser ce qu'on observe dans les modèles pour fournir une explication.\n",
    "\n",
    "Vous pouvez ajouter tout le code et toutes les cellules dont vous avez besoin."
   ]
  },
  {
   "cell_type": "code",
   "execution_count": null,
   "id": "d0abbe15",
   "metadata": {},
   "outputs": [],
   "source": []
  },
  {
   "cell_type": "code",
   "execution_count": null,
   "id": "fbd9d7d1",
   "metadata": {},
   "outputs": [],
   "source": []
  },
  {
   "cell_type": "code",
   "execution_count": null,
   "id": "40076487",
   "metadata": {},
   "outputs": [],
   "source": []
  },
  {
   "cell_type": "code",
   "execution_count": null,
   "id": "b35ffcbf",
   "metadata": {},
   "outputs": [],
   "source": []
  },
  {
   "cell_type": "code",
   "execution_count": null,
   "id": "8706eba7",
   "metadata": {},
   "outputs": [],
   "source": []
  },
  {
   "cell_type": "markdown",
   "id": "8518aab0",
   "metadata": {},
   "source": [
    "## Section 4 - Section réservée pour nos tests (ne pas modifier)"
   ]
  },
  {
   "cell_type": "code",
   "execution_count": null,
   "id": "5d6b8bec",
   "metadata": {},
   "outputs": [],
   "source": []
  },
  {
   "cell_type": "code",
   "execution_count": null,
   "id": "3d3ab13b",
   "metadata": {},
   "outputs": [],
   "source": []
  },
  {
   "cell_type": "code",
   "execution_count": null,
   "id": "b811c1f8",
   "metadata": {},
   "outputs": [],
   "source": []
  },
  {
   "cell_type": "code",
   "execution_count": null,
   "id": "eb2f9746",
   "metadata": {},
   "outputs": [],
   "source": []
  },
  {
   "cell_type": "code",
   "execution_count": null,
   "id": "0e1912bf",
   "metadata": {},
   "outputs": [],
   "source": []
  }
 ],
 "metadata": {
  "kernelspec": {
   "display_name": "Python 3 (ipykernel)",
   "language": "python",
   "name": "python3"
  },
  "language_info": {
   "codemirror_mode": {
    "name": "ipython",
    "version": 3
   },
   "file_extension": ".py",
   "mimetype": "text/x-python",
   "name": "python",
   "nbconvert_exporter": "python",
   "pygments_lexer": "ipython3",
   "version": "3.11.4"
  }
 },
 "nbformat": 4,
 "nbformat_minor": 5
}
