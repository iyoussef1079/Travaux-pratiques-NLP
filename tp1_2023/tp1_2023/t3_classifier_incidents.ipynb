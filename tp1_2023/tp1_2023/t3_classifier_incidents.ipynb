{
 "cells": [
  {
   "cell_type": "markdown",
   "id": "4d53d4c2",
   "metadata": {},
   "source": [
    "# Tâche 3 - Classification automatique de descriptions d'incidents\n",
    "\n",
    "Cette tâche vise à classifier de courts textes décrivant des incidents qui se sont produits sur des chantiers de construction. Pour chaque incident, on retrouve une étiquette qui correspond au type d’incident (0 à 8). \n",
    "\n",
    "Les objectifs de cette tâche sont: \n",
    "- de se familiariser avec la classification de texte\n",
    "- d'apprendre à utiliser les fonctions de base de scikit-learn\n",
    "- de comprendre comment représenter un texte sous la forme d'un sac de mots (*bag of words*)\n",
    "- de faire l'évaluation d'un modèle de classification avec un corpus de test\n",
    "- de tenter d'interpréter les résultats d'un modèle à l'aide des poids d'attributs. \n",
    "\n",
    "Pour la première partie, vous devez construire une fonction (*train_and_test_classifier*) qui entraîne un modèle (les options étant la régression logistique et le naïf bayésien) et en faire l'évaluation sur des données d'entraînement et des données de test. Vous devez également évaluer l'impact de la lemmatisation de mots sur la performance des classificateurs. Deux fichiers de textes sont disponibles pour mener votre expérimentation (voir Section 1). \n",
    "\n",
    "Pour la deuxième partie, tentez de déterminer à quoi correspond chacune des classes d’incident. Faites une analyse des poids des modèles pour proposer des étiquettes pour chacune des classes. Vous pouvez vous inspirer des notebooks disponibles sur le site du cours. Expliquez clairement comment vous êtes arrivé à vos conclusions. L’important ici est de dégager le thème principal à partir de vos observations et non pas de trouver la formulation exacte des étiquettes. Veuillez noter que certaines classes sont (très) difficiles à identifier. \n",
    "\n",
    "Merci de respecter les signatures des fonctions *train_and_test_classifier* et *load_incident_dataset*.\n",
    "\n",
    "Note sur la lemmatisation: Cette normalisation de texte nécessite l'utilisation d'un modèle qui repose sur l'apprentissage automatique. En conséquence, son temps d'exécution est plus long que le stemming. Si jamais cela ralentit trop vos expérimentations, il est possible de ne faire le traitement qu'une seule fois en sauvegardant les résultats après la première lemmatisation d'un fichier. Cela n'est toutefois pas exigé pour la remise de votre travail et ne sera pas évalué. "
   ]
  },
  {
   "cell_type": "markdown",
   "id": "d64cb0b9",
   "metadata": {},
   "source": [
    "## Section 1 - Lecture des fichiers de données\n",
    "\n",
    "Voici les fichiers mis à votre disposition pour mener vos expérimentations. La fonction *load_incident_data* peut être utilisée pour lire les 2 fichiers (train et test). Rien à modifier dans cette section. "
   ]
  },
  {
   "cell_type": "code",
   "execution_count": 2,
   "id": "d7082859",
   "metadata": {},
   "outputs": [],
   "source": [
    "import json\n",
    "\n",
    "train_json_fn = \"./data/t3_train.json\"\n",
    "test_json_fn = \"./data/t3_test.json\"\n",
    "\n",
    "\n",
    "def load_incident_dataset(filename):\n",
    "    with open(filename, 'r') as fp:\n",
    "        incident_list = json.load(fp)\n",
    "    return incident_list"
   ]
  },
  {
   "cell_type": "code",
   "execution_count": 3,
   "id": "84aea833",
   "metadata": {},
   "outputs": [
    {
     "name": "stdout",
     "output_type": "stream",
     "text": [
      "Nombre d'incidents: 2475\n",
      "\n",
      "Un exemple:\n",
      " {'text': \" At approximately 12:15 p.m. on February 8  2011  Employee # 1 and four other  coworkers were working in the West storage Facility at Enterprise Products  located at Mont Belvieu  Texas. A major fire began but Employee # 1 wasn't  able to escape. The recovery effort was delayed until the evening of February  10  2011  due to the presence of hydrocarbon vapors and small residual fires.   \", 'label': '6'}\n"
     ]
    }
   ],
   "source": [
    "train_list = load_incident_dataset(train_json_fn)\n",
    "print(\"Nombre d'incidents:\", len(train_list))\n",
    "print(\"\\nUn exemple:\\n\", train_list[10])"
   ]
  },
  {
   "cell_type": "code",
   "execution_count": 4,
   "id": "88755bf5",
   "metadata": {},
   "outputs": [
    {
     "name": "stdout",
     "output_type": "stream",
     "text": [
      "Nombre d'incidents 1062\n",
      "\n",
      "Une description d'incident:  At approximately 2:00 p.m. on March 3  2005  Employee #1  an iron worker  was  performing connecting work at a height of approximately 14 ft above grade.  Employee #1 lost his balance and fell to the ground  landing on his feet. In  order to absorb the impact on his legs from the fall  Employee #1 bent down   striking his head on the spud wrench in the tool belt. He sustained 3 stitches  to his forehead  but he was not hospitalized.                                   \n",
      "\n",
      "Son étiquette: 5\n"
     ]
    }
   ],
   "source": [
    "test_list = load_incident_dataset(test_json_fn)\n",
    "print(\"Nombre d'incidents\", len(test_list))\n",
    "incident = test_list[10]\n",
    "print(\"\\nUne description d'incident:\", incident[\"text\"])\n",
    "print(\"\\nSon étiquette:\", incident[\"label\"])"
   ]
  },
  {
   "cell_type": "markdown",
   "id": "1a418049",
   "metadata": {},
   "source": [
    "## Section 2 - Entraînement et évaluation des modèles  \n",
    "\n",
    "Vous pouvez ajouter tout le code dont vous avez besoin pour l'entraînement. Merci de ne pas modifier la signature de la fonction d'entraînement et de bien expliquer votre démarche et vos résultats. N'oubliez pas de faire une recommandation de modèle. Vous pouvez ajouter des cellules au notebook si nécessaire. "
   ]
  },
  {
   "cell_type": "code",
   "execution_count": 19,
   "id": "abeb39cc",
   "metadata": {},
   "outputs": [],
   "source": [
    "# Import spaCy\n",
    "import spacy\n",
    "\n",
    "# Create the English nlp object\n",
    "nlp = spacy.load(\"en_core_web_sm\")\n",
    "\n",
    "def normalize_texts(texts, normalization):\n",
    "    \"\"\"\n",
    "    :param texts: une liste de textes à normaliser\n",
    "    :param normalization: la normalisation à appliquer ('words' ou 'lemma')\n",
    "    :return: une liste de textes normalisés\n",
    "    \"\"\"\n",
    "    normalized_texts = []\n",
    "    for text in texts:\n",
    "        if normalization == 'lemma':\n",
    "            doc = nlp(text)\n",
    "            normalized_text = ' '.join([token.lemma_ for token in doc])\n",
    "        else:\n",
    "            raise ValueError(\"Invalid normalization type. Allowed values are 'words' and 'lemma'.\")\n",
    "        normalized_texts.append(normalized_text)\n",
    "    return normalized_texts"
   ]
  },
  {
   "cell_type": "code",
   "execution_count": 22,
   "id": "38738d51",
   "metadata": {},
   "outputs": [],
   "source": [
    "# Importer ici les librairies dont vous avez besoin\n",
    "from sklearn.feature_extraction.text import CountVectorizer\n",
    "from sklearn.linear_model import LogisticRegression\n",
    "from sklearn.metrics import confusion_matrix\n",
    "from sklearn.naive_bayes import MultinomialNB\n",
    "\n",
    "\n",
    "\n",
    "\n",
    "\n",
    "def train_and_test_classifier(train_fn, test_fn, model='NB', normalization='words'):\n",
    "    \"\"\"\n",
    "    :param train_fn et test_fn: les 2 fichiers utilisées pour entraîner et tester les classificateurs.\n",
    "    :param model: le type de classificateur. NB = Naive Bayes, LR = Régression logistique.\n",
    "    :param normalization: la nomralisation appliquée aux mots des descriptions\n",
    "                 - 'word': les mots des textes sans normalization.\n",
    "                 - 'lemma': les lemmes des mots obtenus par lemmatisation avec Spacy.\n",
    "    :return: un dictionnaire contenant 3 valeurs:\n",
    "                 - l'accuracy à l'entraînement (validation croisée)\n",
    "                 - l'accuracy sur le jeu de test\n",
    "                 - la matrice de confusion calculée par scikit-learn sur les données de test\n",
    "    \"\"\"\n",
    "\n",
    "    # Charger les données d'entraînement et de test\n",
    "    train_list = load_incident_dataset(train_fn)\n",
    "    test_list = load_incident_dataset(test_fn)\n",
    "\n",
    "    # Extraire les textes et les étiquettes des données d'entraînement et de test\n",
    "    train_texts = [incident['text'] for incident in train_list]\n",
    "    train_labels = [incident['label'] for incident in train_list]\n",
    "\n",
    "    # Normalisation des mots des textes\n",
    "    if(normalization == 'lemma'):\n",
    "        train_texts = normalize_texts(train_texts, normalization)\n",
    "\n",
    "    # Créer un objet CountVectorizer\n",
    "    # et les bigrammes des textes\n",
    "    vectorizer = CountVectorizer(lowercase=True)\n",
    "    X_train = vectorizer.fit_transform(train_texts)\n",
    "    y_train = train_labels\n",
    "\n",
    "    # Creation du classificateur\n",
    "    if model == 'NB':\n",
    "        classifier = MultinomialNB()\n",
    "    elif model == 'LR':\n",
    "        classifier = LogisticRegression(max_iter=600)\n",
    "    else:\n",
    "        print(\"Le modèle n'est pas reconnu\")\n",
    "        return None\n",
    "    \n",
    "    # Entraînement du classificateur\n",
    "    classifier.fit(X_train, y_train)\n",
    "\n",
    "    # Préparation des données de test\n",
    "    test_texts = [incident['text'] for incident in test_list]\n",
    "    test_labels = [incident['label'] for incident in test_list]\n",
    "    X_test = vectorizer.transform(test_texts)\n",
    "\n",
    "    # Prédiction des étiquettes sur les données de test\n",
    "    predicted_labels = classifier.predict(X_test)\n",
    "\n",
    "    # Calcul de l'accuracy sur les données de test\n",
    "    accuracy_test = classifier.score(X_test, test_labels)\n",
    "    accuracy_train = classifier.score(X_train, y_train)\n",
    "    confusion_matrix_result = confusion_matrix(test_labels, predicted_labels)\n",
    "    \n",
    "\n",
    "    # Les résultats à retourner\n",
    "    results = dict()\n",
    "    results['accuracy_train'] = accuracy_train\n",
    "    results['accuracy_test'] = accuracy_test\n",
    "    results['confusion_matrix'] = confusion_matrix_result  # la matrice de confusion obtenue de Scikit-learn\n",
    "    return results"
   ]
  },
  {
   "cell_type": "code",
   "execution_count": 23,
   "id": "c8a126c6",
   "metadata": {},
   "outputs": [],
   "source": [
    "from matplotlib import pyplot as plt\n",
    "import pandas as pd\n",
    "from sklearn.model_selection import cross_val_score\n",
    "import seaborn as sns\n",
    "\n",
    "\n",
    "def display_confusion_matrix(confusion_matrix, classes):\n",
    "    print(\"\\n\\nMatrice de confusion\")\n",
    "    df_cm = pd.DataFrame(confusion_matrix, index=classes, columns=classes)\n",
    "    f, ax = plt.subplots(figsize=(7, 5))\n",
    "    sns.heatmap(df_cm, annot=True, fmt=\"d\", linewidths=.5, ax=ax)\n",
    "    plt.ylabel('Vrai étiquette ')\n",
    "    plt.xlabel('Étiquette prédite')"
   ]
  },
  {
   "cell_type": "code",
   "execution_count": 24,
   "id": "6d9f89d0",
   "metadata": {},
   "outputs": [],
   "source": [
    "def cross_validation(classifier, X, y):\n",
    "    scores = cross_val_score(classifier, X, y, cv=5)\n",
    "    print(\"\\nÉvaluation par validation croisée (en entraînement) : \")\n",
    "    print(\"   Exactitude (accuracy) sur chaque partition\", scores)\n",
    "    print(\"   Exactitude moyenne: %0.2f (+/- %0.2f)\" % (scores.mean(), scores.std() * 2))"
   ]
  },
  {
   "cell_type": "code",
   "execution_count": null,
   "id": "683a31ac",
   "metadata": {},
   "outputs": [],
   "source": [
    "# def hold_out_evaluation(classifier, X, y_true):\n",
    "#     y_pred = classifier.predict(X)\n",
    "#     print(\"\\nÉvaluation sur les données de tests\")\n",
    "#     print(\"   Accuracy = \", accuracy_score(y_true, y_pred))\n",
    "#     print(\"   Macro rappel (recall) = \", recall_score(y_true, y_pred, average='macro'))\n",
    "#     print(\"   Macro précision = \", precision_score(y_true, y_pred, average='macro'))\n",
    "#     print(\"   Micro rappel (recall) = \", recall_score(y_true, y_pred, average='micro'))\n",
    "#     print(\"   Micro précision = \", precision_score(y_true, y_pred, average='micro'))"
   ]
  },
  {
   "cell_type": "code",
   "execution_count": 26,
   "id": "342af14e",
   "metadata": {},
   "outputs": [
    {
     "name": "stdout",
     "output_type": "stream",
     "text": [
      "Accuracy on train set: 0.8464646464646465\n",
      "Accuracy on test set: 0.6930320150659134\n",
      "\n",
      "\n",
      "Matrice de confusion\n"
     ]
    },
    {
     "data": {
      "image/png": "[encoded data removed]",
      "text/plain": [
       "<Figure size 700x500 with 2 Axes>"
      ]
     },
     "metadata": {},
     "output_type": "display_data"
    }
   ],
   "source": [
    "classes = [i for i in range(9)]\n",
    "result = train_and_test_classifier(train_json_fn, test_json_fn, model='NB', normalization='lemma')\n",
    "#disp = ConfusionMatrixDisplay(confusion_matrix=result[\"confusion_matrix\"], display_labels=classes).plot()\n",
    "#plt.show()\n",
    "print(f\"Accuracy on train set: {result['accuracy_train']}\")\n",
    "print(f\"Accuracy on test set: {result['accuracy_test']}\")\n",
    "display_confusion_matrix(result[\"confusion_matrix\"], classes)"
   ]
  },
  {
   "cell_type": "code",
   "execution_count": null,
   "id": "10e3f458",
   "metadata": {},
   "outputs": [],
   "source": []
  },
  {
   "cell_type": "markdown",
   "id": "c9a9dbd2",
   "metadata": {},
   "source": [
    "## Section 3 - À quoi correspondent les classes? Explicabilité du modèle\n",
    "\n",
    "En utilisant les poids des modèles, tentez d'attribuer une signification aux différentes classes. Comme c'est une épreuve d'analyse de données, il est possible que certaines classes ne soient pas interprétables. Vous n'êtes pas tenu à l'impossible. L'important est d'utiliser ce qu'on observe dans les modèles pour fournir une explication.\n",
    "\n",
    "Vous pouvez ajouter tout le code et toutes les cellules dont vous avez besoin."
   ]
  },
  {
   "cell_type": "code",
   "execution_count": null,
   "id": "d0abbe15",
   "metadata": {},
   "outputs": [],
   "source": []
  },
  {
   "cell_type": "code",
   "execution_count": null,
   "id": "fbd9d7d1",
   "metadata": {},
   "outputs": [],
   "source": []
  },
  {
   "cell_type": "code",
   "execution_count": null,
   "id": "40076487",
   "metadata": {},
   "outputs": [],
   "source": []
  },
  {
   "cell_type": "code",
   "execution_count": null,
   "id": "b35ffcbf",
   "metadata": {},
   "outputs": [],
   "source": []
  },
  {
   "cell_type": "code",
   "execution_count": 17,
   "id": "8706eba7",
   "metadata": {},
   "outputs": [],
   "source": []
  },
  {
   "cell_type": "markdown",
   "id": "8518aab0",
   "metadata": {},
   "source": [
    "## Section 4 - Section réservée pour nos tests (ne pas modifier)"
   ]
  },
  {
   "cell_type": "code",
   "execution_count": null,
   "id": "5d6b8bec",
   "metadata": {},
   "outputs": [],
   "source": []
  },
  {
   "cell_type": "code",
   "execution_count": null,
   "id": "3d3ab13b",
   "metadata": {},
   "outputs": [],
   "source": []
  },
  {
   "cell_type": "code",
   "execution_count": null,
   "id": "b811c1f8",
   "metadata": {},
   "outputs": [],
   "source": []
  },
  {
   "cell_type": "code",
   "execution_count": null,
   "id": "eb2f9746",
   "metadata": {},
   "outputs": [],
   "source": []
  },
  {
   "cell_type": "code",
   "execution_count": null,
   "id": "0e1912bf",
   "metadata": {},
   "outputs": [],
   "source": []
  }
 ],
 "metadata": {
  "kernelspec": {
   "display_name": "Python 3 (ipykernel)",
   "language": "python",
   "name": "python3"
  },
  "language_info": {
   "codemirror_mode": {
    "name": "ipython",
    "version": 3
   },
   "file_extension": ".py",
   "mimetype": "text/x-python",
   "name": "python",
   "nbconvert_exporter": "python",
   "pygments_lexer": "ipython3",
   "version": "3.9.18"
  }
 },
 "nbformat": 4,
 "nbformat_minor": 5
}
