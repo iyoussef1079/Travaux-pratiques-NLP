{
 "cells": [
  {
   "cell_type": "markdown",
   "id": "d582d91d",
   "metadata": {},
   "source": [
    "# Tâche 2 - Comme le disait le proverbe - les bons mots pour le dire\n",
    "\n",
    "L'objectif de cette tâche est de compléter des proverbes à l'aide de modèles de langue N-grammes en insérant des mots aux bons endroits dans un texte masqué. Il s'agit d'une tâche de type *cloze test* qui consiste à choisir le meilleur mot à insérer dans un texte en fonction de son contexte. \n",
    "\n",
    "Voir l'énoncé du travail #1 pour une description plus détaillée de cette tâche. \n",
    "\n",
    "Fichiers:\n",
    "- *proverbes.txt*: il contient plus de 3000 proverbes, un par ligne de texte. Pour l'entraînement des modèles de langues N-grammes. \n",
    "- *test_proverbes_v1.json*: il contient des proverbes masqués, les mots à insérer et la bonne formulation du proverbe. À utiliser pour évaluer la capacité des modèles à mettre les mots aux bons endroits. \n",
    "\n",
    "Consignes: \n",
    "- Utilisez NLTK pour construire les modèles de langue.\n",
    "- Utilisez des expressions régulières (une seule ou plusieurs) pour remplacer les * et les ** par des mots. \n",
    "- Utilisez NLTK pour faire la tokenisation des proverbes. \n",
    "- N'oubliez pas de faire le *padding* des proverbes avec des symboles de début \\<BOS\\> et de fin \\<EOS\\>.\n",
    "- Ne pas modifier les fonctions *load_proverbs* et *load_tests*.\n",
    "- Ne pas modifier la signature de la fonction *replace_stars_with_words*.\n",
    "- Utilisez la variable *models* pour conserver les modèles après entraînement. \n",
    "- Ne pas modifier la signature de la fonction *train_models*.\n",
    "- Ne pas modifier la signature de la fonction *fill_masked_proverb*. \n",
    "- Des modifications aux signatures pourraient entraîner des déductions dans la correction. \n",
    "- Vous pouvez ajouter des cellules au notebook et toutes les fonctions utilitaires que vous voulez. "
   ]
  },
  {
   "cell_type": "markdown",
   "id": "8a3ec4af",
   "metadata": {},
   "source": [
    "## Section 1 - Lecture des fichiers de données (proverbes et tests)"
   ]
  },
  {
   "cell_type": "code",
   "execution_count": 16,
   "id": "e10ec998",
   "metadata": {},
   "outputs": [],
   "source": [
    "import json\n",
    "\n",
    "# Ne pas modifier le chemin de ces 2 fichiers pour faciliter notre correction\n",
    "proverbs_fn = \"./data/proverbes.txt\"    \n",
    "test_v1_fn = './data/test_proverbes_v1.json'\n",
    "\n",
    "def load_proverbs(filename):\n",
    "    with open(filename, 'r', encoding='utf-8') as f:\n",
    "        raw_lines = f.readlines()\n",
    "    return [x.strip() for x in raw_lines]\n",
    "\n",
    "\n",
    "def load_tests(filename):\n",
    "    with open(filename, 'r', encoding='utf-8') as fp:\n",
    "        test_data = json.load(fp)\n",
    "    return test_data"
   ]
  },
  {
   "cell_type": "code",
   "execution_count": 17,
   "id": "c9fbbdd5",
   "metadata": {},
   "outputs": [],
   "source": [
    "proverbs = load_proverbs(proverbs_fn)"
   ]
  },
  {
   "cell_type": "code",
   "execution_count": 18,
   "id": "dcd0c9a9",
   "metadata": {},
   "outputs": [
    {
     "name": "stdout",
     "output_type": "stream",
     "text": [
      "Nombre de proverbes pour l'entraînement: 3108\n",
      "Un exemple de proverbe: accord vaut mieux qu’argent\n"
     ]
    }
   ],
   "source": [
    "print(\"Nombre de proverbes pour l'entraînement: {}\".format(len(proverbs)))\n",
    "print(\"Un exemple de proverbe: \" + proverbs[5])"
   ]
  },
  {
   "cell_type": "code",
   "execution_count": 19,
   "id": "ee39d050",
   "metadata": {},
   "outputs": [],
   "source": [
    "tests = load_tests(test_v1_fn)"
   ]
  },
  {
   "cell_type": "code",
   "execution_count": 20,
   "id": "e80bd88a",
   "metadata": {},
   "outputs": [
    {
     "data": {
      "text/html": [
       "<div>\n",
       "<style scoped>\n",
       "    .dataframe tbody tr th:only-of-type {\n",
       "        vertical-align: middle;\n",
       "    }\n",
       "\n",
       "    .dataframe tbody tr th {\n",
       "        vertical-align: top;\n",
       "    }\n",
       "\n",
       "    .dataframe thead th {\n",
       "        text-align: right;\n",
       "    }\n",
       "</style>\n",
       "<table border=\"1\" class=\"dataframe\">\n",
       "  <thead>\n",
       "    <tr style=\"text-align: right;\">\n",
       "      <th></th>\n",
       "      <th>Masked</th>\n",
       "      <th>Word_list</th>\n",
       "      <th>Proverb</th>\n",
       "    </tr>\n",
       "  </thead>\n",
       "  <tbody>\n",
       "    <tr>\n",
       "      <th>0</th>\n",
       "      <td>a beau * qui ** de loin</td>\n",
       "      <td>[vient, mentir]</td>\n",
       "      <td>a beau mentir qui vient de loin</td>\n",
       "    </tr>\n",
       "    <tr>\n",
       "      <th>1</th>\n",
       "      <td>a * mentir qui vient de **</td>\n",
       "      <td>[beau, loin]</td>\n",
       "      <td>a beau mentir qui vient de loin</td>\n",
       "    </tr>\n",
       "    <tr>\n",
       "      <th>2</th>\n",
       "      <td>l’* fait le **</td>\n",
       "      <td>[larron, occasion]</td>\n",
       "      <td>l’occasion fait le larron</td>\n",
       "    </tr>\n",
       "    <tr>\n",
       "      <th>3</th>\n",
       "      <td>*-toi, le ciel t’**</td>\n",
       "      <td>[aidera, aide]</td>\n",
       "      <td>aide-toi, le ciel t’aidera</td>\n",
       "    </tr>\n",
       "    <tr>\n",
       "      <th>4</th>\n",
       "      <td>année de *, ** de blé</td>\n",
       "      <td>[année, gelée]</td>\n",
       "      <td>année de gelée, année de blé</td>\n",
       "    </tr>\n",
       "    <tr>\n",
       "      <th>5</th>\n",
       "      <td>après la *, le ** temps</td>\n",
       "      <td>[beau, pluie]</td>\n",
       "      <td>après la pluie, le beau temps</td>\n",
       "    </tr>\n",
       "    <tr>\n",
       "      <th>6</th>\n",
       "      <td>aux échecs, les * sont les plus près des **</td>\n",
       "      <td>[fous, rois]</td>\n",
       "      <td>aux échecs, les fous sont les plus près des rois</td>\n",
       "    </tr>\n",
       "    <tr>\n",
       "      <th>7</th>\n",
       "      <td>ce que * veut, ** le veut</td>\n",
       "      <td>[femme, dieu]</td>\n",
       "      <td>ce que femme veut, dieu le veut</td>\n",
       "    </tr>\n",
       "    <tr>\n",
       "      <th>8</th>\n",
       "      <td>bien mal * ne ** jamais</td>\n",
       "      <td>[profite, acquis]</td>\n",
       "      <td>bien mal acquis ne profite jamais</td>\n",
       "    </tr>\n",
       "    <tr>\n",
       "      <th>9</th>\n",
       "      <td>bon * ne querelle pas ses **</td>\n",
       "      <td>[outils, ouvrier]</td>\n",
       "      <td>bon ouvrier ne querelle pas ses outils</td>\n",
       "    </tr>\n",
       "    <tr>\n",
       "      <th>10</th>\n",
       "      <td>ce n’est pas tous les * **</td>\n",
       "      <td>[fête, jours]</td>\n",
       "      <td>ce n’est pas tous les jours fête</td>\n",
       "    </tr>\n",
       "    <tr>\n",
       "      <th>11</th>\n",
       "      <td>pour le *, c’est tous les jours **</td>\n",
       "      <td>[fête, fou]</td>\n",
       "      <td>pour le fou, c’est tous les jours fête</td>\n",
       "    </tr>\n",
       "    <tr>\n",
       "      <th>12</th>\n",
       "      <td>* et **, sont deux</td>\n",
       "      <td>[dire, faire]</td>\n",
       "      <td>dire et faire, sont deux</td>\n",
       "    </tr>\n",
       "    <tr>\n",
       "      <th>13</th>\n",
       "      <td>mieux vaut * que **</td>\n",
       "      <td>[prévenir, guérir]</td>\n",
       "      <td>mieux vaut prévenir que guérir</td>\n",
       "    </tr>\n",
       "    <tr>\n",
       "      <th>14</th>\n",
       "      <td>d’* sac on ne peut tirer ** moutures</td>\n",
       "      <td>[un, deux]</td>\n",
       "      <td>d’un sac on ne peut tirer deux moutures</td>\n",
       "    </tr>\n",
       "    <tr>\n",
       "      <th>15</th>\n",
       "      <td>à qui * aide, ** ne peut nuire</td>\n",
       "      <td>[nul, dieu]</td>\n",
       "      <td>à qui dieu aide, nul ne peut nuire</td>\n",
       "    </tr>\n",
       "    <tr>\n",
       "      <th>16</th>\n",
       "      <td>il n’y a * de ** de cent jours</td>\n",
       "      <td>[point, rose]</td>\n",
       "      <td>il n’y a point de rose de cent jours</td>\n",
       "    </tr>\n",
       "    <tr>\n",
       "      <th>17</th>\n",
       "      <td>il faut le * pour le **</td>\n",
       "      <td>[voir, croire]</td>\n",
       "      <td>il faut le voir pour le croire</td>\n",
       "    </tr>\n",
       "    <tr>\n",
       "      <th>18</th>\n",
       "      <td>on ne vend * le poisson qui est encore ** la mer</td>\n",
       "      <td>[pas, dans]</td>\n",
       "      <td>on ne vend pas le poisson qui est encore dans ...</td>\n",
       "    </tr>\n",
       "    <tr>\n",
       "      <th>19</th>\n",
       "      <td>la langue d’un * vaut mieux que celle d’un **</td>\n",
       "      <td>[muet, menteur]</td>\n",
       "      <td>la langue d’un muet vaut mieux que celle d’un ...</td>\n",
       "    </tr>\n",
       "    <tr>\n",
       "      <th>20</th>\n",
       "      <td>* femme fait le ** homme</td>\n",
       "      <td>[bon, bonne]</td>\n",
       "      <td>bonne femme fait le bon homme</td>\n",
       "    </tr>\n",
       "    <tr>\n",
       "      <th>21</th>\n",
       "      <td>bonne * fait le bon **</td>\n",
       "      <td>[homme, femme]</td>\n",
       "      <td>bonne femme fait le bon homme</td>\n",
       "    </tr>\n",
       "    <tr>\n",
       "      <th>22</th>\n",
       "      <td>* ** femme veut, dieu le veut</td>\n",
       "      <td>[ce, que]</td>\n",
       "      <td>ce que femme veut, dieu le veut</td>\n",
       "    </tr>\n",
       "    <tr>\n",
       "      <th>23</th>\n",
       "      <td>ce * femme veut, dieu ** veut</td>\n",
       "      <td>[que, le]</td>\n",
       "      <td>ce que femme veut, dieu le veut</td>\n",
       "    </tr>\n",
       "    <tr>\n",
       "      <th>24</th>\n",
       "      <td>grand *, grand **</td>\n",
       "      <td>[parleur, menteur]</td>\n",
       "      <td>grand parleur, grand menteur</td>\n",
       "    </tr>\n",
       "    <tr>\n",
       "      <th>25</th>\n",
       "      <td>grand parleur, * **</td>\n",
       "      <td>[grand, menteur]</td>\n",
       "      <td>grand parleur, grand menteur</td>\n",
       "    </tr>\n",
       "    <tr>\n",
       "      <th>26</th>\n",
       "      <td>* poisson pourrit par ** tête</td>\n",
       "      <td>[le, la]</td>\n",
       "      <td>le poisson pourrit par la tête</td>\n",
       "    </tr>\n",
       "    <tr>\n",
       "      <th>27</th>\n",
       "      <td>le * pourrit par la **</td>\n",
       "      <td>[tête, poisson]</td>\n",
       "      <td>le poisson pourrit par la tête</td>\n",
       "    </tr>\n",
       "    <tr>\n",
       "      <th>28</th>\n",
       "      <td>* ** prévenir que guérir</td>\n",
       "      <td>[mieux, vaut]</td>\n",
       "      <td>mieux vaut prévenir que guérir</td>\n",
       "    </tr>\n",
       "    <tr>\n",
       "      <th>29</th>\n",
       "      <td>quand la * est **, elle tombe</td>\n",
       "      <td>[poire, mûre]</td>\n",
       "      <td>quand la poire est mûre, elle tombe</td>\n",
       "    </tr>\n",
       "    <tr>\n",
       "      <th>30</th>\n",
       "      <td>quand la poire est *, elle **</td>\n",
       "      <td>[tombe, mûre]</td>\n",
       "      <td>quand la poire est mûre, elle tombe</td>\n",
       "    </tr>\n",
       "  </tbody>\n",
       "</table>\n",
       "</div>"
      ],
      "text/plain": [
       "                                              Masked           Word_list  \\\n",
       "0                            a beau * qui ** de loin     [vient, mentir]   \n",
       "1                         a * mentir qui vient de **        [beau, loin]   \n",
       "2                                     l’* fait le **  [larron, occasion]   \n",
       "3                                *-toi, le ciel t’**      [aidera, aide]   \n",
       "4                              année de *, ** de blé      [année, gelée]   \n",
       "5                            après la *, le ** temps       [beau, pluie]   \n",
       "6        aux échecs, les * sont les plus près des **        [fous, rois]   \n",
       "7                          ce que * veut, ** le veut       [femme, dieu]   \n",
       "8                            bien mal * ne ** jamais   [profite, acquis]   \n",
       "9                       bon * ne querelle pas ses **   [outils, ouvrier]   \n",
       "10                        ce n’est pas tous les * **       [fête, jours]   \n",
       "11                pour le *, c’est tous les jours **         [fête, fou]   \n",
       "12                                * et **, sont deux       [dire, faire]   \n",
       "13                               mieux vaut * que **  [prévenir, guérir]   \n",
       "14              d’* sac on ne peut tirer ** moutures          [un, deux]   \n",
       "15                    à qui * aide, ** ne peut nuire         [nul, dieu]   \n",
       "16                    il n’y a * de ** de cent jours       [point, rose]   \n",
       "17                           il faut le * pour le **      [voir, croire]   \n",
       "18  on ne vend * le poisson qui est encore ** la mer         [pas, dans]   \n",
       "19     la langue d’un * vaut mieux que celle d’un **     [muet, menteur]   \n",
       "20                          * femme fait le ** homme        [bon, bonne]   \n",
       "21                            bonne * fait le bon **      [homme, femme]   \n",
       "22                     * ** femme veut, dieu le veut           [ce, que]   \n",
       "23                     ce * femme veut, dieu ** veut           [que, le]   \n",
       "24                                 grand *, grand **  [parleur, menteur]   \n",
       "25                               grand parleur, * **    [grand, menteur]   \n",
       "26                     * poisson pourrit par ** tête            [le, la]   \n",
       "27                            le * pourrit par la **     [tête, poisson]   \n",
       "28                          * ** prévenir que guérir       [mieux, vaut]   \n",
       "29                     quand la * est **, elle tombe       [poire, mûre]   \n",
       "30                     quand la poire est *, elle **       [tombe, mûre]   \n",
       "\n",
       "                                              Proverb  \n",
       "0                     a beau mentir qui vient de loin  \n",
       "1                     a beau mentir qui vient de loin  \n",
       "2                           l’occasion fait le larron  \n",
       "3                          aide-toi, le ciel t’aidera  \n",
       "4                        année de gelée, année de blé  \n",
       "5                       après la pluie, le beau temps  \n",
       "6    aux échecs, les fous sont les plus près des rois  \n",
       "7                     ce que femme veut, dieu le veut  \n",
       "8                   bien mal acquis ne profite jamais  \n",
       "9              bon ouvrier ne querelle pas ses outils  \n",
       "10                   ce n’est pas tous les jours fête  \n",
       "11             pour le fou, c’est tous les jours fête  \n",
       "12                           dire et faire, sont deux  \n",
       "13                     mieux vaut prévenir que guérir  \n",
       "14            d’un sac on ne peut tirer deux moutures  \n",
       "15                 à qui dieu aide, nul ne peut nuire  \n",
       "16               il n’y a point de rose de cent jours  \n",
       "17                     il faut le voir pour le croire  \n",
       "18  on ne vend pas le poisson qui est encore dans ...  \n",
       "19  la langue d’un muet vaut mieux que celle d’un ...  \n",
       "20                      bonne femme fait le bon homme  \n",
       "21                      bonne femme fait le bon homme  \n",
       "22                    ce que femme veut, dieu le veut  \n",
       "23                    ce que femme veut, dieu le veut  \n",
       "24                       grand parleur, grand menteur  \n",
       "25                       grand parleur, grand menteur  \n",
       "26                     le poisson pourrit par la tête  \n",
       "27                     le poisson pourrit par la tête  \n",
       "28                     mieux vaut prévenir que guérir  \n",
       "29                quand la poire est mûre, elle tombe  \n",
       "30                quand la poire est mûre, elle tombe  "
      ]
     },
     "execution_count": 20,
     "metadata": {},
     "output_type": "execute_result"
    }
   ],
   "source": [
    "import pandas as pd\n",
    "\n",
    "def get_dataframe(test_proverbs):\n",
    "    return pd.DataFrame.from_dict(test_proverbs, orient='columns', dtype=None, columns=None)\n",
    "\n",
    "df = get_dataframe(tests)\n",
    "df"
   ]
  },
  {
   "cell_type": "markdown",
   "id": "300b071c",
   "metadata": {},
   "source": [
    "## Section 2 - Code pour substituer les masques (étoiles) par des mots\n",
    "\n",
    "Expliquez ici comment vous procédez pour remplacer les étoiles des proverbes masqués par des mots... N'oubliez pas qu'il faut faire usage d'expressions régulières (une ou plusieurs - au choix). \n",
    "\n"
   ]
  },
  {
   "cell_type": "code",
   "execution_count": 21,
   "id": "a7ba3203",
   "metadata": {},
   "outputs": [],
   "source": [
    "import re\n",
    "\n",
    "def replace_stars_with_words(masked, word1, word2):\n",
    "    \"\"\"Remplace les * par word1 et word2 dans cet ordre. Retourne le proverbe complet.\"\"\"\n",
    "    # votre code\n",
    "    proverb = re.sub(r\"\\*\\*\", word2, masked)\n",
    "    proverb = re.sub(r\"\\*\", word1, proverb)\n",
    "    return proverb  # Retourne le proverbe avec des mots à la place des étoiles"
   ]
  },
  {
   "cell_type": "code",
   "execution_count": null,
   "id": "61b8048b",
   "metadata": {},
   "outputs": [],
   "source": []
  },
  {
   "cell_type": "code",
   "execution_count": null,
   "id": "c7bbe9f5",
   "metadata": {},
   "outputs": [],
   "source": []
  },
  {
   "cell_type": "markdown",
   "id": "3c57364c",
   "metadata": {},
   "source": [
    "## Section 3 - Construction des modèles de langue N-grammes. \n",
    "\n",
    "La fonction ***train_models*** prend en entrée une liste de proverbes et construit les trois modèles unigramme, bigramme et trigramme.\n",
    "\n",
    "Les 3 modèles entraînés sont conservés dans *models*, un dictionnaire Python qui prend la forme \n",
    "\n",
    "<pre>\n",
    "{\n",
    "   1: modele_unigramme, \n",
    "   2: modele_bigramme, \n",
    "   3: modele_trigramme\n",
    "}\n",
    "</pre>\n",
    "\n",
    "avec comme clé la valeur N du modèle et comme valeur le modèle construit par NLTK.\n",
    "\n",
    "Expliquez ici comment vous procéder pour construire vos modèles avec NLTK, pour obtenir les n-grammes de mots, pour déterminer le vocabulaire, etc...\n",
    "\n"
   ]
  },
  {
   "cell_type": "code",
   "execution_count": 26,
   "id": "5d4c6390",
   "metadata": {},
   "outputs": [
    {
     "data": {
      "text/plain": [
       "[('<BOS>', '<BOS>', 'a'),\n",
       " ('<BOS>', 'a', 'beau'),\n",
       " ('a', 'beau', 'mentir'),\n",
       " ('beau', 'mentir', 'qui'),\n",
       " ('mentir', 'qui', 'vient'),\n",
       " ('qui', 'vient', 'de'),\n",
       " ('vient', 'de', 'loin'),\n",
       " ('de', 'loin', '<EOS>'),\n",
       " ('loin', '<EOS>', '<EOS>'),\n",
       " ('<BOS>', '<BOS>', 'a'),\n",
       " ('<BOS>', 'a', 'beau'),\n",
       " ('a', 'beau', 'se'),\n",
       " ('beau', 'se', 'lever'),\n",
       " ('se', 'lever', 'tard'),\n",
       " ('lever', 'tard', ','),\n",
       " ('tard', ',', 'qui'),\n",
       " (',', 'qui', 'a'),\n",
       " ('qui', 'a', 'bruit'),\n",
       " ('a', 'bruit', 'de'),\n",
       " ('bruit', 'de', 'se'),\n",
       " ('de', 'se', 'lever'),\n",
       " ('se', 'lever', 'matin'),\n",
       " ('lever', 'matin', '<EOS>'),\n",
       " ('matin', '<EOS>', '<EOS>'),\n",
       " ('<BOS>', '<BOS>', 'abandon'),\n",
       " ('<BOS>', 'abandon', 'fait'),\n",
       " ('abandon', 'fait', 'larron'),\n",
       " ('fait', 'larron', '<EOS>'),\n",
       " ('larron', '<EOS>', '<EOS>'),\n",
       " ('<BOS>', '<BOS>', 'abeilles'),\n",
       " ('<BOS>', 'abeilles', 'sans'),\n",
       " ('abeilles', 'sans', 'reine'),\n",
       " ('sans', 'reine', ','),\n",
       " ('reine', ',', 'ruche'),\n",
       " (',', 'ruche', 'perdue'),\n",
       " ('ruche', 'perdue', '<EOS>'),\n",
       " ('perdue', '<EOS>', '<EOS>'),\n",
       " ('<BOS>', '<BOS>', 'abondance'),\n",
       " ('<BOS>', 'abondance', 'de'),\n",
       " ('abondance', 'de', 'biens'),\n",
       " ('de', 'biens', 'ne'),\n",
       " ('biens', 'ne', 'nuit'),\n",
       " ('ne', 'nuit', 'pas'),\n",
       " ('nuit', 'pas', '<EOS>'),\n",
       " ('pas', '<EOS>', '<EOS>'),\n",
       " ('<BOS>', '<BOS>', 'accord'),\n",
       " ('<BOS>', 'accord', 'vaut'),\n",
       " ('accord', 'vaut', 'mieux'),\n",
       " ('vaut', 'mieux', 'qu'),\n",
       " ('mieux', 'qu', '’'),\n",
       " ('qu', '’', 'argent'),\n",
       " ('’', 'argent', '<EOS>'),\n",
       " ('argent', '<EOS>', '<EOS>'),\n",
       " ('<BOS>', '<BOS>', 'accueille'),\n",
       " ('<BOS>', 'accueille', 'le'),\n",
       " ('accueille', 'le', 'pauvre'),\n",
       " ('le', 'pauvre', 'avec'),\n",
       " ('pauvre', 'avec', 'bonté'),\n",
       " ('avec', 'bonté', ','),\n",
       " ('bonté', ',', 'fût-il'),\n",
       " (',', 'fût-il', 'un'),\n",
       " ('fût-il', 'un', 'infidèle'),\n",
       " ('un', 'infidèle', '<EOS>'),\n",
       " ('infidèle', '<EOS>', '<EOS>'),\n",
       " ('<BOS>', '<BOS>', 'achète'),\n",
       " ('<BOS>', 'achète', 'en'),\n",
       " ('achète', 'en', 'foire'),\n",
       " ('en', 'foire', ','),\n",
       " ('foire', ',', 'et'),\n",
       " (',', 'et', 'vends'),\n",
       " ('et', 'vends', 'à'),\n",
       " ('vends', 'à', 'la'),\n",
       " ('à', 'la', 'maison'),\n",
       " ('la', 'maison', '<EOS>'),\n",
       " ('maison', '<EOS>', '<EOS>'),\n",
       " ('<BOS>', '<BOS>', 'acquiers'),\n",
       " ('<BOS>', 'acquiers', 'bonne'),\n",
       " ('acquiers', 'bonne', 'renommée'),\n",
       " ('bonne', 'renommée', ','),\n",
       " ('renommée', ',', 'et'),\n",
       " (',', 'et', 'dors'),\n",
       " ('et', 'dors', 'grasse'),\n",
       " ('dors', 'grasse', 'matinée'),\n",
       " ('grasse', 'matinée', '<EOS>'),\n",
       " ('matinée', '<EOS>', '<EOS>'),\n",
       " ('<BOS>', '<BOS>', 'adieu'),\n",
       " ('<BOS>', 'adieu', 'paniers'),\n",
       " ('adieu', 'paniers', ','),\n",
       " ('paniers', ',', 'vendanges'),\n",
       " (',', 'vendanges', 'sont'),\n",
       " ('vendanges', 'sont', 'faites'),\n",
       " ('sont', 'faites', '<EOS>'),\n",
       " ('faites', '<EOS>', '<EOS>'),\n",
       " ('<BOS>', '<BOS>', 'affaire'),\n",
       " ('<BOS>', 'affaire', 'menée'),\n",
       " ('affaire', 'menée', 'sans'),\n",
       " ('menée', 'sans', 'bruit'),\n",
       " ('sans', 'bruit', 'se'),\n",
       " ('bruit', 'se', 'fait'),\n",
       " ('se', 'fait', 'avec'),\n",
       " ('fait', 'avec', 'plus'),\n",
       " ('avec', 'plus', 'de'),\n",
       " ('plus', 'de', 'fruit'),\n",
       " ('de', 'fruit', '<EOS>'),\n",
       " ('fruit', '<EOS>', '<EOS>'),\n",
       " ('<BOS>', '<BOS>', 'affaires'),\n",
       " ('<BOS>', 'affaires', 'voisines'),\n",
       " ('affaires', 'voisines', 'peuvent'),\n",
       " ('voisines', 'peuvent', 'nourrir'),\n",
       " ('peuvent', 'nourrir', 'leur'),\n",
       " ('nourrir', 'leur', 'maître'),\n",
       " ('leur', 'maître', ';'),\n",
       " ('maître', ';', 'affaires'),\n",
       " (';', 'affaires', 'éloignées'),\n",
       " ('affaires', 'éloignées', 'le'),\n",
       " ('éloignées', 'le', 'mangent'),\n",
       " ('le', 'mangent', 'à'),\n",
       " ('mangent', 'à', 'coup'),\n",
       " ('à', 'coup', 'sûr'),\n",
       " ('coup', 'sûr', '<EOS>'),\n",
       " ('sûr', '<EOS>', '<EOS>'),\n",
       " ('<BOS>', '<BOS>', 'agir'),\n",
       " ('<BOS>', 'agir', 'dans'),\n",
       " ('agir', 'dans', 'la'),\n",
       " ('dans', 'la', 'colère'),\n",
       " ('la', 'colère', ','),\n",
       " ('colère', ',', 'c'),\n",
       " (',', 'c', '’'),\n",
       " ('c', '’', 'est'),\n",
       " ('’', 'est', 's'),\n",
       " ('est', 's', '’'),\n",
       " ('s', '’', 'embarquer'),\n",
       " ('’', 'embarquer', 'durant'),\n",
       " ('embarquer', 'durant', 'la'),\n",
       " ('durant', 'la', 'tempête'),\n",
       " ('la', 'tempête', '<EOS>'),\n",
       " ('tempête', '<EOS>', '<EOS>'),\n",
       " ('<BOS>', '<BOS>', 'agis'),\n",
       " ('<BOS>', 'agis', 'envers'),\n",
       " ('agis', 'envers', 'autrui'),\n",
       " ('envers', 'autrui', 'comme'),\n",
       " ('autrui', 'comme', 'dieu'),\n",
       " ('comme', 'dieu', 'agit'),\n",
       " ('dieu', 'agit', 'envers'),\n",
       " ('agit', 'envers', 'toi'),\n",
       " ('envers', 'toi', '<EOS>'),\n",
       " ('toi', '<EOS>', '<EOS>'),\n",
       " ('<BOS>', '<BOS>', 'agneau'),\n",
       " ('<BOS>', 'agneau', 'en'),\n",
       " ('agneau', 'en', 'peau'),\n",
       " ('en', 'peau', 'de'),\n",
       " ('peau', 'de', 'tigre'),\n",
       " ('de', 'tigre', ','),\n",
       " ('tigre', ',', 'craint'),\n",
       " (',', 'craint', 'encore'),\n",
       " ('craint', 'encore', 'le'),\n",
       " ('encore', 'le', 'loup'),\n",
       " ('le', 'loup', '<EOS>'),\n",
       " ('loup', '<EOS>', '<EOS>'),\n",
       " ('<BOS>', '<BOS>', 'ahhnaf-ben-kaïsi'),\n",
       " ('<BOS>', 'ahhnaf-ben-kaïsi', ','),\n",
       " ('ahhnaf-ben-kaïsi', ',', 'loué'),\n",
       " (',', 'loué', 'de'),\n",
       " ('loué', 'de', 'sa'),\n",
       " ('de', 'sa', 'douceur'),\n",
       " ('sa', 'douceur', ','),\n",
       " ('douceur', ',', 'répondit'),\n",
       " (',', 'répondit', ':'),\n",
       " ('répondit', ':', 'pardieu'),\n",
       " (':', 'pardieu', 'si'),\n",
       " ('pardieu', 'si', 'je'),\n",
       " ('si', 'je', 'ne'),\n",
       " ('je', 'ne', 'riposte'),\n",
       " ('ne', 'riposte', 'pas'),\n",
       " ('riposte', 'pas', 'à'),\n",
       " ('pas', 'à', 'un'),\n",
       " ('à', 'un', 'mot'),\n",
       " ('un', 'mot', 'piquant'),\n",
       " ('mot', 'piquant', ','),\n",
       " ('piquant', ',', 'ce'),\n",
       " (',', 'ce', 'n'),\n",
       " ('ce', 'n', '’'),\n",
       " ('n', '’', 'est'),\n",
       " ('’', 'est', 'que'),\n",
       " ('est', 'que', 'dans'),\n",
       " ('que', 'dans', 'la'),\n",
       " ('dans', 'la', 'crainte'),\n",
       " ('la', 'crainte', 'd'),\n",
       " ('crainte', 'd', '’'),\n",
       " ('d', '’', 'attraper'),\n",
       " ('’', 'attraper', 'quelque'),\n",
       " ('attraper', 'quelque', 'chose'),\n",
       " ('quelque', 'chose', 'de'),\n",
       " ('chose', 'de', 'pis'),\n",
       " ('de', 'pis', '<EOS>'),\n",
       " ('pis', '<EOS>', '<EOS>'),\n",
       " ('<BOS>', '<BOS>', 'aide-toi'),\n",
       " ('<BOS>', 'aide-toi', ','),\n",
       " ('aide-toi', ',', 'le'),\n",
       " (',', 'le', 'ciel'),\n",
       " ('le', 'ciel', 't'),\n",
       " ('ciel', 't', '’'),\n",
       " ('t', '’', 'aidera'),\n",
       " ('’', 'aidera', '<EOS>'),\n",
       " ('aidera', '<EOS>', '<EOS>'),\n",
       " ('<BOS>', '<BOS>', 'aile'),\n",
       " ('<BOS>', 'aile', 'de'),\n",
       " ('aile', 'de', 'perdrix'),\n",
       " ('de', 'perdrix', ','),\n",
       " ('perdrix', ',', 'cuisse'),\n",
       " (',', 'cuisse', 'de'),\n",
       " ('cuisse', 'de', 'bécasse'),\n",
       " ('de', 'bécasse', '<EOS>'),\n",
       " ('bécasse', '<EOS>', '<EOS>'),\n",
       " ('<BOS>', '<BOS>', 'aime'),\n",
       " ('<BOS>', 'aime', 'le'),\n",
       " ('aime', 'le', 'travail'),\n",
       " ('le', 'travail', ','),\n",
       " ('travail', ',', 'fuis'),\n",
       " (',', 'fuis', 'la'),\n",
       " ('fuis', 'la', 'dignité'),\n",
       " ('la', 'dignité', ','),\n",
       " ('dignité', ',', 'et'),\n",
       " (',', 'et', 'ne'),\n",
       " ('et', 'ne', 'fais'),\n",
       " ('ne', 'fais', 'pas'),\n",
       " ('fais', 'pas', 'connaissance'),\n",
       " ('pas', 'connaissance', 'avec'),\n",
       " ('connaissance', 'avec', 'les'),\n",
       " ('avec', 'les', 'princes'),\n",
       " ('les', 'princes', '<EOS>'),\n",
       " ('princes', '<EOS>', '<EOS>'),\n",
       " ('<BOS>', '<BOS>', 'aimer'),\n",
       " ('<BOS>', 'aimer', 'un'),\n",
       " ('aimer', 'un', 'méchant'),\n",
       " ('un', 'méchant', ','),\n",
       " ('méchant', ',', 'c'),\n",
       " (',', 'c', '’'),\n",
       " ('c', '’', 'est'),\n",
       " ('’', 'est', 'se'),\n",
       " ('est', 'se', 'perdre'),\n",
       " ('se', 'perdre', '<EOS>'),\n",
       " ('perdre', '<EOS>', '<EOS>'),\n",
       " ('<BOS>', '<BOS>', 'alléguer'),\n",
       " ('<BOS>', 'alléguer', 'l'),\n",
       " ('alléguer', 'l', '’'),\n",
       " ('l', '’', 'impossible'),\n",
       " ('’', 'impossible', 'aux'),\n",
       " ('impossible', 'aux', 'rois'),\n",
       " ('aux', 'rois', ','),\n",
       " ('rois', ',', 'c'),\n",
       " (',', 'c', '’'),\n",
       " ('c', '’', 'est'),\n",
       " ('’', 'est', 'un'),\n",
       " ('est', 'un', 'abus'),\n",
       " ('un', 'abus', '<EOS>'),\n",
       " ('abus', '<EOS>', '<EOS>'),\n",
       " ('<BOS>', '<BOS>', 'ami'),\n",
       " ('<BOS>', 'ami', 'de'),\n",
       " ('ami', 'de', 'table'),\n",
       " ('de', 'table', 'est'),\n",
       " ('table', 'est', 'bien'),\n",
       " ('est', 'bien', 'variable'),\n",
       " ('bien', 'variable', '<EOS>'),\n",
       " ('variable', '<EOS>', '<EOS>'),\n",
       " ('<BOS>', '<BOS>', 'ami'),\n",
       " ('<BOS>', 'ami', 'de'),\n",
       " ('ami', 'de', 'tous'),\n",
       " ('de', 'tous', ','),\n",
       " ('tous', ',', 'ami'),\n",
       " (',', 'ami', 'de'),\n",
       " ('ami', 'de', 'personne'),\n",
       " ('de', 'personne', '<EOS>'),\n",
       " ('personne', '<EOS>', '<EOS>'),\n",
       " ('<BOS>', '<BOS>', 'ami'),\n",
       " ('<BOS>', 'ami', 'fidèle'),\n",
       " ('ami', 'fidèle', 'et'),\n",
       " ('fidèle', 'et', 'richesses'),\n",
       " ('et', 'richesses', 'bien'),\n",
       " ('richesses', 'bien', 'acquises'),\n",
       " ('bien', 'acquises', ','),\n",
       " ('acquises', ',', 'deux'),\n",
       " (',', 'deux', 'choses'),\n",
       " ('deux', 'choses', 'fort'),\n",
       " ('choses', 'fort', 'rares'),\n",
       " ('fort', 'rares', '<EOS>'),\n",
       " ('rares', '<EOS>', '<EOS>'),\n",
       " ('<BOS>', '<BOS>', 'amitié'),\n",
       " ('<BOS>', 'amitié', 'd'),\n",
       " ('amitié', 'd', '’'),\n",
       " ('d', '’', 'un'),\n",
       " ('’', 'un', 'jour'),\n",
       " ('un', 'jour', ','),\n",
       " ('jour', ',', 'souvenir'),\n",
       " (',', 'souvenir', 'd'),\n",
       " ('souvenir', 'd', '’'),\n",
       " ('d', '’', 'une'),\n",
       " ('’', 'une', 'minute'),\n",
       " ('une', 'minute', '<EOS>'),\n",
       " ('minute', '<EOS>', '<EOS>'),\n",
       " ('<BOS>', '<BOS>', 'amour'),\n",
       " ('<BOS>', 'amour', 'fait'),\n",
       " ('amour', 'fait', 'beaucoup'),\n",
       " ('fait', 'beaucoup', ','),\n",
       " ('beaucoup', ',', 'mais'),\n",
       " (',', 'mais', 'argent'),\n",
       " ('mais', 'argent', 'fait'),\n",
       " ('argent', 'fait', 'tout'),\n",
       " ('fait', 'tout', '<EOS>'),\n",
       " ('tout', '<EOS>', '<EOS>'),\n",
       " ('<BOS>', '<BOS>', 'ancienneté'),\n",
       " ('<BOS>', 'ancienneté', 'a'),\n",
       " ('ancienneté', 'a', 'autorité'),\n",
       " ('a', 'autorité', '<EOS>'),\n",
       " ('autorité', '<EOS>', '<EOS>'),\n",
       " ('<BOS>', '<BOS>', 'angevin'),\n",
       " ('<BOS>', 'angevin', ','),\n",
       " ('angevin', ',', 'sac'),\n",
       " (',', 'sac', 'à'),\n",
       " ('sac', 'à', 'vin'),\n",
       " ('à', 'vin', '<EOS>'),\n",
       " ('vin', '<EOS>', '<EOS>'),\n",
       " ('<BOS>', '<BOS>', 'anneau'),\n",
       " ('<BOS>', 'anneau', 'trop'),\n",
       " ('anneau', 'trop', 'étroit'),\n",
       " ('trop', 'étroit', ','),\n",
       " ('étroit', ',', 'ne'),\n",
       " (',', 'ne', 'le'),\n",
       " ('ne', 'le', 'mets'),\n",
       " ('le', 'mets', 'à'),\n",
       " ('mets', 'à', 'ton'),\n",
       " ('à', 'ton', 'doigt'),\n",
       " ('ton', 'doigt', '<EOS>'),\n",
       " ('doigt', '<EOS>', '<EOS>'),\n",
       " ('<BOS>', '<BOS>', 'année'),\n",
       " ('<BOS>', 'année', 'de'),\n",
       " ('année', 'de', 'gelée'),\n",
       " ('de', 'gelée', ','),\n",
       " ('gelée', ',', 'année'),\n",
       " (',', 'année', 'de'),\n",
       " ('année', 'de', 'blé'),\n",
       " ('de', 'blé', '<EOS>'),\n",
       " ('blé', '<EOS>', '<EOS>'),\n",
       " ('<BOS>', '<BOS>', 'année'),\n",
       " ('<BOS>', 'année', 'de'),\n",
       " ('année', 'de', 'vin'),\n",
       " ('de', 'vin', ','),\n",
       " ('vin', ',', 'point'),\n",
       " (',', 'point', 'd'),\n",
       " ('point', 'd', '’'),\n",
       " ('d', '’', 'avoine'),\n",
       " ('’', 'avoine', '<EOS>'),\n",
       " ('avoine', '<EOS>', '<EOS>'),\n",
       " ('<BOS>', '<BOS>', 'année'),\n",
       " ('<BOS>', 'année', 'en'),\n",
       " ('année', 'en', 'foin'),\n",
       " ('en', 'foin', 'fertile'),\n",
       " ('foin', 'fertile', ','),\n",
       " ('fertile', ',', 'année'),\n",
       " (',', 'année', ','),\n",
       " ('année', ',', 'hélas'),\n",
       " (',', 'hélas', 'stérile'),\n",
       " ('hélas', 'stérile', '<EOS>'),\n",
       " ('stérile', '<EOS>', '<EOS>'),\n",
       " ('<BOS>', '<BOS>', 'appelle'),\n",
       " ('<BOS>', 'appelle', 'frère'),\n",
       " ('appelle', 'frère', 'un'),\n",
       " ('frère', 'un', 'serf'),\n",
       " ('un', 'serf', ','),\n",
       " ('serf', ',', 'il'),\n",
       " (',', 'il', 'voudra'),\n",
       " ('il', 'voudra', 's'),\n",
       " ('voudra', 's', '’'),\n",
       " ('s', '’', 'appeler'),\n",
       " ('’', 'appeler', 'père'),\n",
       " ('appeler', 'père', '<EOS>'),\n",
       " ('père', '<EOS>', '<EOS>'),\n",
       " ('<BOS>', '<BOS>', 'apprenti'),\n",
       " ('<BOS>', 'apprenti', 'n'),\n",
       " ('apprenti', 'n', '’'),\n",
       " ('n', '’', 'est'),\n",
       " ('’', 'est', 'pas'),\n",
       " ('est', 'pas', 'maître'),\n",
       " ('pas', 'maître', '<EOS>'),\n",
       " ('maître', '<EOS>', '<EOS>'),\n",
       " ('<BOS>', '<BOS>', 'apprivoise'),\n",
       " ('<BOS>', 'apprivoise', 'le'),\n",
       " ('apprivoise', 'le', 'loup'),\n",
       " ('le', 'loup', ','),\n",
       " ('loup', ',', 'il'),\n",
       " (',', 'il', 'rêvera'),\n",
       " ('il', 'rêvera', 'toujours'),\n",
       " ('rêvera', 'toujours', 'au'),\n",
       " ('toujours', 'au', 'bois'),\n",
       " ('au', 'bois', '<EOS>'),\n",
       " ('bois', '<EOS>', '<EOS>'),\n",
       " ('<BOS>', '<BOS>', 'après'),\n",
       " ('<BOS>', 'après', 'bon'),\n",
       " ('après', 'bon', 'vin'),\n",
       " ('bon', 'vin', ','),\n",
       " ('vin', ',', 'bon'),\n",
       " (',', 'bon', 'cheval'),\n",
       " ('bon', 'cheval', '<EOS>'),\n",
       " ('cheval', '<EOS>', '<EOS>'),\n",
       " ('<BOS>', '<BOS>', 'après'),\n",
       " ('<BOS>', 'après', 'la'),\n",
       " ('après', 'la', 'bataille'),\n",
       " ('la', 'bataille', ','),\n",
       " ('bataille', ',', 'bien'),\n",
       " (',', 'bien', 'des'),\n",
       " ('bien', 'des', 'braves'),\n",
       " ('des', 'braves', '<EOS>'),\n",
       " ('braves', '<EOS>', '<EOS>'),\n",
       " ('<BOS>', '<BOS>', 'après'),\n",
       " ('<BOS>', 'après', 'la'),\n",
       " ('après', 'la', 'fête'),\n",
       " ('la', 'fête', ','),\n",
       " ('fête', ',', 'on'),\n",
       " (',', 'on', 'gratte'),\n",
       " ('on', 'gratte', 'sa'),\n",
       " ('gratte', 'sa', 'tête'),\n",
       " ('sa', 'tête', '<EOS>'),\n",
       " ('tête', '<EOS>', '<EOS>'),\n",
       " ('<BOS>', '<BOS>', 'après'),\n",
       " ('<BOS>', 'après', 'la'),\n",
       " ('après', 'la', 'mort'),\n",
       " ('la', 'mort', ','),\n",
       " ('mort', ',', 'les'),\n",
       " (',', 'les', 'médecins'),\n",
       " ('les', 'médecins', '<EOS>'),\n",
       " ('médecins', '<EOS>', '<EOS>'),\n",
       " ('<BOS>', '<BOS>', 'après'),\n",
       " ('<BOS>', 'après', 'la'),\n",
       " ('après', 'la', 'panse'),\n",
       " ('la', 'panse', ','),\n",
       " ('panse', ',', 'vient'),\n",
       " (',', 'vient', 'la'),\n",
       " ('vient', 'la', 'danse'),\n",
       " ('la', 'danse', '<EOS>'),\n",
       " ('danse', '<EOS>', '<EOS>'),\n",
       " ('<BOS>', '<BOS>', 'après'),\n",
       " ('<BOS>', 'après', 'la'),\n",
       " ('après', 'la', 'pluie'),\n",
       " ('la', 'pluie', ','),\n",
       " ('pluie', ',', 'le'),\n",
       " (',', 'le', 'beau'),\n",
       " ('le', 'beau', 'temps'),\n",
       " ('beau', 'temps', '<EOS>'),\n",
       " ('temps', '<EOS>', '<EOS>'),\n",
       " ('<BOS>', '<BOS>', 'après'),\n",
       " ('<BOS>', 'après', 'la'),\n",
       " ('après', 'la', 'soupe'),\n",
       " ('la', 'soupe', ','),\n",
       " ('soupe', ',', 'un'),\n",
       " (',', 'un', 'verre'),\n",
       " ('un', 'verre', 'de'),\n",
       " ('verre', 'de', 'vin'),\n",
       " ('de', 'vin', 'ote'),\n",
       " ('vin', 'ote', 'une'),\n",
       " ('ote', 'une', 'visite'),\n",
       " ('une', 'visite', 'au'),\n",
       " ('visite', 'au', 'médecin'),\n",
       " ('au', 'médecin', '<EOS>'),\n",
       " ('médecin', '<EOS>', '<EOS>'),\n",
       " ('<BOS>', '<BOS>', 'après'),\n",
       " ('<BOS>', 'après', 'le'),\n",
       " ('après', 'le', 'beau'),\n",
       " ('le', 'beau', 'temps'),\n",
       " ('beau', 'temps', 'vient'),\n",
       " ('temps', 'vient', 'le'),\n",
       " ('vient', 'le', 'laid'),\n",
       " ('le', 'laid', ';'),\n",
       " ('laid', ';', 'et'),\n",
       " (';', 'et', 'après'),\n",
       " ('et', 'après', 'la'),\n",
       " ('après', 'la', 'guerre'),\n",
       " ('la', 'guerre', ','),\n",
       " ('guerre', ',', 'la'),\n",
       " (',', 'la', 'paix'),\n",
       " ('la', 'paix', '<EOS>'),\n",
       " ('paix', '<EOS>', '<EOS>'),\n",
       " ('<BOS>', '<BOS>', 'après'),\n",
       " ('<BOS>', 'après', 'le'),\n",
       " ('après', 'le', 'fait'),\n",
       " ('le', 'fait', ','),\n",
       " ('fait', ',', 'ne'),\n",
       " (',', 'ne', 'vaut'),\n",
       " ('ne', 'vaut', 'le'),\n",
       " ('vaut', 'le', 'souhait'),\n",
       " ('le', 'souhait', '<EOS>'),\n",
       " ('souhait', '<EOS>', '<EOS>'),\n",
       " ('<BOS>', '<BOS>', 'après'),\n",
       " ('<BOS>', 'après', 'l'),\n",
       " ('après', 'l', '’'),\n",
       " ('l', '’', 'effort'),\n",
       " ('’', 'effort', ','),\n",
       " ('effort', ',', 'le'),\n",
       " (',', 'le', 'réconfort'),\n",
       " ('le', 'réconfort', '<EOS>'),\n",
       " ('réconfort', '<EOS>', '<EOS>'),\n",
       " ('<BOS>', '<BOS>', 'arbre'),\n",
       " ('<BOS>', 'arbre', 'qui'),\n",
       " ('arbre', 'qui', 'ne'),\n",
       " ('qui', 'ne', 'porte'),\n",
       " ('ne', 'porte', 'pas'),\n",
       " ('porte', 'pas', 'de'),\n",
       " ('pas', 'de', 'fruits'),\n",
       " ('de', 'fruits', ','),\n",
       " ('fruits', ',', 'on'),\n",
       " (',', 'on', 'ne'),\n",
       " ('on', 'ne', 'lui'),\n",
       " ('ne', 'lui', 'jette'),\n",
       " ('lui', 'jette', 'pas'),\n",
       " ('jette', 'pas', 'de'),\n",
       " ('pas', 'de', 'pierres'),\n",
       " ('de', 'pierres', '<EOS>'),\n",
       " ('pierres', '<EOS>', '<EOS>'),\n",
       " ('<BOS>', '<BOS>', 'arbre'),\n",
       " ('<BOS>', 'arbre', 'renversé'),\n",
       " ('arbre', 'renversé', 'par'),\n",
       " ('renversé', 'par', 'le'),\n",
       " ('par', 'le', 'vent'),\n",
       " ('le', 'vent', ','),\n",
       " ('vent', ',', 'avait'),\n",
       " (',', 'avait', 'plus'),\n",
       " ('avait', 'plus', 'de'),\n",
       " ('plus', 'de', 'branches'),\n",
       " ('de', 'branches', 'que'),\n",
       " ('branches', 'que', 'de'),\n",
       " ('que', 'de', 'racines'),\n",
       " ('de', 'racines', '<EOS>'),\n",
       " ('racines', '<EOS>', '<EOS>'),\n",
       " ('<BOS>', '<BOS>', 'argent'),\n",
       " ('<BOS>', 'argent', 'changé'),\n",
       " ('argent', 'changé', ','),\n",
       " ('changé', ',', 'argent'),\n",
       " (',', 'argent', 'mangé'),\n",
       " ('argent', 'mangé', '<EOS>'),\n",
       " ('mangé', '<EOS>', '<EOS>'),\n",
       " ('<BOS>', '<BOS>', 'argent'),\n",
       " ('<BOS>', 'argent', 'comptant'),\n",
       " ('argent', 'comptant', 'porte'),\n",
       " ('comptant', 'porte', 'médecine'),\n",
       " ('porte', 'médecine', '<EOS>'),\n",
       " ('médecine', '<EOS>', '<EOS>'),\n",
       " ('<BOS>', '<BOS>', 'argent'),\n",
       " ('<BOS>', 'argent', 'fait'),\n",
       " ('argent', 'fait', 'rage'),\n",
       " ('fait', 'rage', 'et'),\n",
       " ('rage', 'et', 'amour'),\n",
       " ('et', 'amour', 'mariage'),\n",
       " ('amour', 'mariage', '<EOS>'),\n",
       " ('mariage', '<EOS>', '<EOS>'),\n",
       " ('<BOS>', '<BOS>', 'arracher'),\n",
       " ('<BOS>', 'arracher', ','),\n",
       " ('arracher', ',', 'mais'),\n",
       " (',', 'mais', 'se'),\n",
       " ('mais', 'se', 'sauver'),\n",
       " ('se', 'sauver', '<EOS>'),\n",
       " ('sauver', '<EOS>', '<EOS>'),\n",
       " ('<BOS>', '<BOS>', 'artésien'),\n",
       " ('<BOS>', 'artésien', ','),\n",
       " ('artésien', ',', 'tête'),\n",
       " (',', 'tête', 'de'),\n",
       " ('tête', 'de', 'chien'),\n",
       " ('de', 'chien', '<EOS>'),\n",
       " ('chien', '<EOS>', '<EOS>'),\n",
       " ('<BOS>', '<BOS>', 'as-tu'),\n",
       " ('<BOS>', 'as-tu', 'donné'),\n",
       " ('as-tu', 'donné', 'parole'),\n",
       " ('donné', 'parole', '?'),\n",
       " ('parole', '?', 'tiens-la'),\n",
       " ('?', 'tiens-la', ';'),\n",
       " ('tiens-la', ';', 'ne'),\n",
       " (';', 'ne', 'l'),\n",
       " ('ne', 'l', '’'),\n",
       " ('l', '’', 'as-tu'),\n",
       " ('’', 'as-tu', 'pas'),\n",
       " ('as-tu', 'pas', 'donnée'),\n",
       " ('pas', 'donnée', '?'),\n",
       " ('donnée', '?', 'tiens'),\n",
       " ('?', 'tiens', 'bon'),\n",
       " ('tiens', 'bon', '<EOS>'),\n",
       " ('bon', '<EOS>', '<EOS>'),\n",
       " ('<BOS>', '<BOS>', 'as-tu'),\n",
       " ('<BOS>', 'as-tu', 'vu'),\n",
       " ('as-tu', 'vu', 'mon'),\n",
       " ('vu', 'mon', 'âne'),\n",
       " ('mon', 'âne', 'rouge'),\n",
       " ('âne', 'rouge', '?'),\n",
       " ('rouge', '?', 'ni'),\n",
       " ('?', 'ni', 'rouge'),\n",
       " ('ni', 'rouge', ','),\n",
       " ('rouge', ',', 'ni'),\n",
       " (',', 'ni', 'gris'),\n",
       " ('ni', 'gris', '<EOS>'),\n",
       " ('gris', '<EOS>', '<EOS>'),\n",
       " ('<BOS>', '<BOS>', 'assez'),\n",
       " ('<BOS>', 'assez', 'boit'),\n",
       " ('assez', 'boit', ','),\n",
       " ('boit', ',', 'qui'),\n",
       " (',', 'qui', 'a'),\n",
       " ('qui', 'a', 'deuil'),\n",
       " ('a', 'deuil', '<EOS>'),\n",
       " ('deuil', '<EOS>', '<EOS>'),\n",
       " ('<BOS>', '<BOS>', 'assez'),\n",
       " ('<BOS>', 'assez', 'tôt'),\n",
       " ('assez', 'tôt', 'se'),\n",
       " ('tôt', 'se', 'fait'),\n",
       " ('se', 'fait', 'ce'),\n",
       " ('fait', 'ce', 'qui'),\n",
       " ('ce', 'qui', 'bien'),\n",
       " ('qui', 'bien', 'se'),\n",
       " ('bien', 'se', 'fait'),\n",
       " ('se', 'fait', '<EOS>'),\n",
       " ('fait', '<EOS>', '<EOS>'),\n",
       " ('<BOS>', '<BOS>', 'assez'),\n",
       " ('<BOS>', 'assez', 'écorche'),\n",
       " ('assez', 'écorche', ','),\n",
       " ('écorche', ',', 'qui'),\n",
       " (',', 'qui', 'le'),\n",
       " ('qui', 'le', 'pied'),\n",
       " ('le', 'pied', 'tient'),\n",
       " ('pied', 'tient', '<EOS>'),\n",
       " ('tient', '<EOS>', '<EOS>'),\n",
       " ('<BOS>', '<BOS>', 'assez'),\n",
       " ('<BOS>', 'assez', ','),\n",
       " ('assez', ',', 'demande'),\n",
       " (',', 'demande', 'qui'),\n",
       " ('demande', 'qui', 'bien'),\n",
       " ('qui', 'bien', 'sert'),\n",
       " ('bien', 'sert', '<EOS>'),\n",
       " ('sert', '<EOS>', '<EOS>'),\n",
       " ('<BOS>', '<BOS>', 'assieds-toi'),\n",
       " ('<BOS>', 'assieds-toi', 'de'),\n",
       " ('assieds-toi', 'de', 'travers'),\n",
       " ('de', 'travers', ','),\n",
       " ('travers', ',', 'si'),\n",
       " (',', 'si', 'tu'),\n",
       " ('si', 'tu', 'veux'),\n",
       " ('tu', 'veux', ';'),\n",
       " ('veux', ';', 'mais'),\n",
       " (';', 'mais', 'parle'),\n",
       " ('mais', 'parle', 'droit'),\n",
       " ('parle', 'droit', '<EOS>'),\n",
       " ('droit', '<EOS>', '<EOS>'),\n",
       " ('<BOS>', '<BOS>', 'assieds-toi'),\n",
       " ('<BOS>', 'assieds-toi', 'en'),\n",
       " ('assieds-toi', 'en', 'haut'),\n",
       " ('en', 'haut', ','),\n",
       " ('haut', ',', 'et'),\n",
       " (',', 'et', 'regarde'),\n",
       " ('et', 'regarde', 'en'),\n",
       " ('regarde', 'en', 'bas'),\n",
       " ('en', 'bas', '<EOS>'),\n",
       " ('bas', '<EOS>', '<EOS>'),\n",
       " ('<BOS>', '<BOS>', 'attends'),\n",
       " ('<BOS>', 'attends', ','),\n",
       " ('attends', ',', 'et'),\n",
       " (',', 'et', 'tu'),\n",
       " ('et', 'tu', 'te'),\n",
       " ('tu', 'te', 'tireras'),\n",
       " ('te', 'tireras', 'd'),\n",
       " ('tireras', 'd', '’'),\n",
       " ('d', '’', 'affaire'),\n",
       " ('’', 'affaire', ';'),\n",
       " ('affaire', ';', 'si'),\n",
       " (';', 'si', 'tu'),\n",
       " ('si', 'tu', 'te'),\n",
       " ('tu', 'te', 'hâtes'),\n",
       " ('te', 'hâtes', ','),\n",
       " ('hâtes', ',', 'tu'),\n",
       " (',', 'tu', 'en'),\n",
       " ('tu', 'en', 'auras'),\n",
       " ('en', 'auras', 'du'),\n",
       " ('auras', 'du', 'regret'),\n",
       " ('du', 'regret', '<EOS>'),\n",
       " ('regret', '<EOS>', '<EOS>'),\n",
       " ('<BOS>', '<BOS>', 'au'),\n",
       " ('<BOS>', 'au', 'besoin'),\n",
       " ('au', 'besoin', 'on'),\n",
       " ('besoin', 'on', 'connaît'),\n",
       " ('on', 'connaît', 'les'),\n",
       " ('connaît', 'les', 'amis'),\n",
       " ('les', 'amis', '<EOS>'),\n",
       " ('amis', '<EOS>', '<EOS>'),\n",
       " ('<BOS>', '<BOS>', 'au'),\n",
       " ('<BOS>', 'au', 'besoing'),\n",
       " ('au', 'besoing', 'puet'),\n",
       " ('besoing', 'puet', 'l'),\n",
       " ('puet', 'l', '’'),\n",
       " ('l', '’', 'on'),\n",
       " ('’', 'on', 'esprouver'),\n",
       " ('on', 'esprouver', 'qui'),\n",
       " ('esprouver', 'qui', 'est'),\n",
       " ('qui', 'est', 'bon'),\n",
       " ('est', 'bon', 'ami'),\n",
       " ('bon', 'ami', '<EOS>'),\n",
       " ('ami', '<EOS>', '<EOS>'),\n",
       " ('<BOS>', '<BOS>', 'au'),\n",
       " ('<BOS>', 'au', 'bon'),\n",
       " ('au', 'bon', 'joueur'),\n",
       " ('bon', 'joueur', ','),\n",
       " ('joueur', ',', 'la'),\n",
       " (',', 'la', 'balle'),\n",
       " ('la', 'balle', 'lui'),\n",
       " ('balle', 'lui', 'vient'),\n",
       " ('lui', 'vient', '<EOS>'),\n",
       " ('vient', '<EOS>', '<EOS>'),\n",
       " ('<BOS>', '<BOS>', 'au'),\n",
       " ('<BOS>', 'au', 'bout'),\n",
       " ('au', 'bout', 'du'),\n",
       " ('bout', 'du', 'fossé'),\n",
       " ('du', 'fossé', 'la'),\n",
       " ('fossé', 'la', 'culbute'),\n",
       " ('la', 'culbute', '<EOS>'),\n",
       " ('culbute', '<EOS>', '<EOS>'),\n",
       " ('<BOS>', '<BOS>', 'au'),\n",
       " ('<BOS>', 'au', 'chien'),\n",
       " ('au', 'chien', 'qui'),\n",
       " ('chien', 'qui', 'mord'),\n",
       " ('qui', 'mord', ','),\n",
       " ('mord', ',', 'il'),\n",
       " (',', 'il', 'faut'),\n",
       " ('il', 'faut', 'jeter'),\n",
       " ('faut', 'jeter', 'des'),\n",
       " ('jeter', 'des', 'pierres'),\n",
       " ('des', 'pierres', '<EOS>'),\n",
       " ('pierres', '<EOS>', '<EOS>'),\n",
       " ('<BOS>', '<BOS>', 'au'),\n",
       " ('<BOS>', 'au', 'diable'),\n",
       " ('au', 'diable', 'tant'),\n",
       " ('diable', 'tant', 'de'),\n",
       " ('tant', 'de', 'maîtres'),\n",
       " ('de', 'maîtres', ','),\n",
       " ('maîtres', ',', 'dit'),\n",
       " (',', 'dit', 'le'),\n",
       " ('dit', 'le', 'crapaud'),\n",
       " ('le', 'crapaud', 'sous'),\n",
       " ('crapaud', 'sous', 'la'),\n",
       " ('sous', 'la', 'herse'),\n",
       " ('la', 'herse', '<EOS>'),\n",
       " ('herse', '<EOS>', '<EOS>'),\n",
       " ('<BOS>', '<BOS>', 'au'),\n",
       " ('<BOS>', 'au', 'doux'),\n",
       " ('au', 'doux', ','),\n",
       " ('doux', ',', 'parle'),\n",
       " (',', 'parle', 'doucement'),\n",
       " ('parle', 'doucement', '<EOS>'),\n",
       " ('doucement', '<EOS>', '<EOS>'),\n",
       " ('<BOS>', '<BOS>', 'au'),\n",
       " ('<BOS>', 'au', 'festin'),\n",
       " ('au', 'festin', 'et'),\n",
       " ('festin', 'et', 'au'),\n",
       " ('et', 'au', 'cabaret'),\n",
       " ('au', 'cabaret', ','),\n",
       " ('cabaret', ',', 'beaucoup'),\n",
       " (',', 'beaucoup', 'd'),\n",
       " ('beaucoup', 'd', '’'),\n",
       " ('d', '’', 'amis'),\n",
       " ('’', 'amis', '<EOS>'),\n",
       " ('amis', '<EOS>', '<EOS>'),\n",
       " ('<BOS>', '<BOS>', 'au'),\n",
       " ('<BOS>', 'au', 'long'),\n",
       " ('au', 'long', 'aller'),\n",
       " ('long', 'aller', 'la'),\n",
       " ('aller', 'la', 'lime'),\n",
       " ('la', 'lime', 'mange'),\n",
       " ('lime', 'mange', 'le'),\n",
       " ('mange', 'le', 'fer'),\n",
       " ('le', 'fer', '<EOS>'),\n",
       " ('fer', '<EOS>', '<EOS>'),\n",
       " ('<BOS>', '<BOS>', 'au'),\n",
       " ('<BOS>', 'au', 'long'),\n",
       " ('au', 'long', 'aller'),\n",
       " ('long', 'aller', ','),\n",
       " ('aller', ',', 'petit'),\n",
       " (',', 'petit', 'faix'),\n",
       " ('petit', 'faix', 'pèse'),\n",
       " ('faix', 'pèse', '<EOS>'),\n",
       " ('pèse', '<EOS>', '<EOS>'),\n",
       " ('<BOS>', '<BOS>', 'au'),\n",
       " ('<BOS>', 'au', 'mauvais'),\n",
       " ('au', 'mauvais', 'chemin'),\n",
       " ('mauvais', 'chemin', ','),\n",
       " ('chemin', ',', 'double'),\n",
       " (',', 'double', 'le'),\n",
       " ('double', 'le', 'pas'),\n",
       " ('le', 'pas', '<EOS>'),\n",
       " ('pas', '<EOS>', '<EOS>'),\n",
       " ('<BOS>', '<BOS>', 'au'),\n",
       " ('<BOS>', 'au', 'pourceau'),\n",
       " ('au', 'pourceau', 'l'),\n",
       " ('pourceau', 'l', '’'),\n",
       " ('l', '’', 'ordure'),\n",
       " ('’', 'ordure', 'ne'),\n",
       " ('ordure', 'ne', 'pue'),\n",
       " ('ne', 'pue', 'point'),\n",
       " ('pue', 'point', '<EOS>'),\n",
       " ('point', '<EOS>', '<EOS>'),\n",
       " ('<BOS>', '<BOS>', 'au'),\n",
       " ('<BOS>', 'au', 'premier'),\n",
       " ('au', 'premier', 'coup'),\n",
       " ('premier', 'coup', 'ne'),\n",
       " ('coup', 'ne', 'choit'),\n",
       " ('ne', 'choit', 'pas'),\n",
       " ('choit', 'pas', 'l'),\n",
       " ('pas', 'l', '’'),\n",
       " ('l', '’', 'arbre'),\n",
       " ('’', 'arbre', '<EOS>'),\n",
       " ('arbre', '<EOS>', '<EOS>'),\n",
       " ('<BOS>', '<BOS>', 'au'),\n",
       " ('<BOS>', 'au', 'prêter'),\n",
       " ('au', 'prêter', ','),\n",
       " ('prêter', ',', 'ami'),\n",
       " (',', 'ami', ';'),\n",
       " ('ami', ';', 'au'),\n",
       " (';', 'au', 'rendre'),\n",
       " ('au', 'rendre', ','),\n",
       " ('rendre', ',', 'ennemi'),\n",
       " (',', 'ennemi', '<EOS>'),\n",
       " ('ennemi', '<EOS>', '<EOS>'),\n",
       " ('<BOS>', '<BOS>', 'au'),\n",
       " ('<BOS>', 'au', 'prêter'),\n",
       " ('au', 'prêter', ','),\n",
       " ('prêter', ',', 'dieu'),\n",
       " (',', 'dieu', ';'),\n",
       " ('dieu', ';', 'au'),\n",
       " (';', 'au', 'rendre'),\n",
       " ('au', 'rendre', ','),\n",
       " ('rendre', ',', 'diable'),\n",
       " (',', 'diable', '<EOS>'),\n",
       " ('diable', '<EOS>', '<EOS>'),\n",
       " ('<BOS>', '<BOS>', 'au'),\n",
       " ('<BOS>', 'au', 'riche'),\n",
       " ('au', 'riche', ','),\n",
       " ('riche', ',', 'la'),\n",
       " (',', 'la', 'bastonnade'),\n",
       " ('la', 'bastonnade', ';'),\n",
       " ('bastonnade', ';', 'au'),\n",
       " (';', 'au', 'pauvre'),\n",
       " ('au', 'pauvre', 'l'),\n",
       " ('pauvre', 'l', '’'),\n",
       " ('l', '’', 'amende'),\n",
       " ('’', 'amende', '<EOS>'),\n",
       " ('amende', '<EOS>', '<EOS>'),\n",
       " ('<BOS>', '<BOS>', 'au'),\n",
       " ('<BOS>', 'au', 'royaume'),\n",
       " ('au', 'royaume', 'des'),\n",
       " ('royaume', 'des', 'aveugles'),\n",
       " ('des', 'aveugles', ','),\n",
       " ('aveugles', ',', 'les'),\n",
       " (',', 'les', 'borgnes'),\n",
       " ('les', 'borgnes', 'sont'),\n",
       " ('borgnes', 'sont', 'rois'),\n",
       " ('sont', 'rois', '<EOS>'),\n",
       " ('rois', '<EOS>', '<EOS>'),\n",
       " ('<BOS>', '<BOS>', 'au'),\n",
       " ('<BOS>', 'au', 'sage'),\n",
       " ('au', 'sage', ','),\n",
       " ('sage', ',', 'un'),\n",
       " (',', 'un', 'signe'),\n",
       " ('un', 'signe', 'suffit'),\n",
       " ('signe', 'suffit', ';'),\n",
       " ('suffit', ';', 'au'),\n",
       " (';', 'au', 'sot'),\n",
       " ('au', 'sot', ','),\n",
       " ('sot', ',', 'à'),\n",
       " (',', 'à', 'peine'),\n",
       " ('à', 'peine', 'le'),\n",
       " ('peine', 'le', 'bâton'),\n",
       " ('le', 'bâton', '<EOS>'),\n",
       " ('bâton', '<EOS>', '<EOS>'),\n",
       " ('<BOS>', '<BOS>', 'aujourd'),\n",
       " ('<BOS>', 'aujourd', '’'),\n",
       " ('aujourd', '’', 'hui'),\n",
       " ('’', 'hui', 'en'),\n",
       " ('hui', 'en', 'chair'),\n",
       " ('en', 'chair', ','),\n",
       " ('chair', ',', 'demain'),\n",
       " (',', 'demain', 'en'),\n",
       " ('demain', 'en', 'bière'),\n",
       " ('en', 'bière', '<EOS>'),\n",
       " ('bière', '<EOS>', '<EOS>'),\n",
       " ('<BOS>', '<BOS>', 'auprès'),\n",
       " ('<BOS>', 'auprès', 'de'),\n",
       " ('auprès', 'de', 'ce'),\n",
       " ('de', 'ce', 'qui'),\n",
       " ('ce', 'qui', 'est'),\n",
       " ('qui', 'est', 'sec'),\n",
       " ('est', 'sec', ','),\n",
       " ('sec', ',', 'ce'),\n",
       " (',', 'ce', 'qui'),\n",
       " ('ce', 'qui', 'est'),\n",
       " ('qui', 'est', 'humide'),\n",
       " ('est', 'humide', 'brûle'),\n",
       " ('humide', 'brûle', '<EOS>'),\n",
       " ('brûle', '<EOS>', '<EOS>'),\n",
       " ('<BOS>', '<BOS>', 'aussitôt'),\n",
       " ('<BOS>', 'aussitôt', 'dit'),\n",
       " ('aussitôt', 'dit', ','),\n",
       " ('dit', ',', 'aussitôt'),\n",
       " (',', 'aussitôt', 'fait'),\n",
       " ('aussitôt', 'fait', '<EOS>'),\n",
       " ('fait', '<EOS>', '<EOS>'),\n",
       " ('<BOS>', '<BOS>', 'autant'),\n",
       " ('<BOS>', 'autant', 'de'),\n",
       " ('autant', 'de', 'trous'),\n",
       " ('de', 'trous', ','),\n",
       " ('trous', ',', 'autant'),\n",
       " (',', 'autant', 'de'),\n",
       " ('autant', 'de', 'chevilles'),\n",
       " ('de', 'chevilles', '<EOS>'),\n",
       " ('chevilles', '<EOS>', '<EOS>'),\n",
       " ('<BOS>', '<BOS>', 'autant'),\n",
       " ('<BOS>', 'autant', 'meurt'),\n",
       " ('autant', 'meurt', 'veau'),\n",
       " ('meurt', 'veau', 'que'),\n",
       " ('veau', 'que', 'vache'),\n",
       " ('que', 'vache', '<EOS>'),\n",
       " ('vache', '<EOS>', '<EOS>'),\n",
       " ('<BOS>', '<BOS>', 'autant'),\n",
       " ('<BOS>', 'autant', 'pèche'),\n",
       " ('autant', 'pèche', 'celui'),\n",
       " ('pèche', 'celui', 'qui'),\n",
       " ('celui', 'qui', 'tient'),\n",
       " ('qui', 'tient', 'le'),\n",
       " ('tient', 'le', 'sac'),\n",
       " ('le', 'sac', ','),\n",
       " ('sac', ',', 'que'),\n",
       " (',', 'que', 'celui'),\n",
       " ('que', 'celui', 'qui'),\n",
       " ('celui', 'qui', 'met'),\n",
       " ('qui', 'met', 'dedans'),\n",
       " ('met', 'dedans', '<EOS>'),\n",
       " ('dedans', '<EOS>', '<EOS>'),\n",
       " ('<BOS>', '<BOS>', 'autant'),\n",
       " ('<BOS>', 'autant', 'vaut'),\n",
       " ('autant', 'vaut', 'bien'),\n",
       " ('vaut', 'bien', 'battu'),\n",
       " ('bien', 'battu', 'que'),\n",
       " ('battu', 'que', 'mal'),\n",
       " ('que', 'mal', 'battu'),\n",
       " ('mal', 'battu', '<EOS>'),\n",
       " ('battu', '<EOS>', '<EOS>'),\n",
       " ('<BOS>', '<BOS>', 'autant'),\n",
       " ('<BOS>', 'autant', 'vaut'),\n",
       " ('autant', 'vaut', 'boire'),\n",
       " ('vaut', 'boire', 'le'),\n",
       " ('boire', 'le', 'poison'),\n",
       " ('le', 'poison', ','),\n",
       " ('poison', ',', 'que'),\n",
       " (',', 'que', 'de'),\n",
       " ('que', 'de', 's'),\n",
       " ('de', 's', '’'),\n",
       " ('s', '’', 'abandonner'),\n",
       " ('’', 'abandonner', 'à'),\n",
       " ('abandonner', 'à', 'la'),\n",
       " ('à', 'la', 'tristesse'),\n",
       " ('la', 'tristesse', '<EOS>'),\n",
       " ('tristesse', '<EOS>', '<EOS>'),\n",
       " ('<BOS>', '<BOS>', 'autant'),\n",
       " ('<BOS>', 'autant', 'vaut'),\n",
       " ('autant', 'vaut', 'celui'),\n",
       " ('vaut', 'celui', 'qui'),\n",
       " ('celui', 'qui', 'chasse'),\n",
       " ('qui', 'chasse', 'et'),\n",
       " ('chasse', 'et', 'rien'),\n",
       " ('et', 'rien', 'ne'),\n",
       " ('rien', 'ne', 'prend'),\n",
       " ('ne', 'prend', ','),\n",
       " ('prend', ',', 'que'),\n",
       " (',', 'que', 'celui'),\n",
       " ('que', 'celui', 'qui'),\n",
       " ('celui', 'qui', 'lit'),\n",
       " ('qui', 'lit', 'et'),\n",
       " ('lit', 'et', 'rien'),\n",
       " ('et', 'rien', 'n'),\n",
       " ('rien', 'n', '’'),\n",
       " ('n', '’', 'entend'),\n",
       " ('’', 'entend', '<EOS>'),\n",
       " ('entend', '<EOS>', '<EOS>'),\n",
       " ('<BOS>', '<BOS>', 'autre'),\n",
       " ('<BOS>', 'autre', 'chose'),\n",
       " ('autre', 'chose', 'est'),\n",
       " ('chose', 'est', 'dire'),\n",
       " ('est', 'dire', ','),\n",
       " ('dire', ',', 'et'),\n",
       " (',', 'et', 'autre'),\n",
       " ('et', 'autre', 'chose'),\n",
       " ('autre', 'chose', 'faire'),\n",
       " ('chose', 'faire', '<EOS>'),\n",
       " ('faire', '<EOS>', '<EOS>'),\n",
       " ('<BOS>', '<BOS>', 'autre'),\n",
       " ('<BOS>', 'autre', 'pays'),\n",
       " ('autre', 'pays', ','),\n",
       " ('pays', ',', 'autre'),\n",
       " (',', 'autre', 'guise'),\n",
       " ('autre', 'guise', '<EOS>'),\n",
       " ('guise', '<EOS>', '<EOS>'),\n",
       " ...]"
      ]
     },
     "metadata": {},
     "output_type": "display_data"
    }
   ],
   "source": [
    "import nltk\n",
    "from nltk.util import ngrams, pad_sequence\n",
    "from nltk import word_tokenize\n",
    "from nltk.lm.models import Laplace\n",
    "from nltk import word_tokenize, bigrams, trigrams\n",
    "\n",
    "\n",
    "# autres librairies à importer pour la partie sur les N-grammes?\n",
    "\n",
    "BOS = '<BOS>'  # Jeton de début de proverbe\n",
    "EOS = '<EOS>'  # Jeton de fin de proverbe\n",
    "\n",
    "models = train_models(proverbs)  # les modèles entraînés - [1: modele_unigramme, 2: modele_bigramme, 3: modele_trigramme] "
   ]
  },
  {
   "cell_type": "code",
   "execution_count": 23,
   "id": "9c739125",
   "metadata": {},
   "outputs": [],
   "source": [
    "\n",
    "\n",
    "def build_vocabulary(text_list):\n",
    "    all_unigrams = list()\n",
    "    for sentence in text_list:\n",
    "        word_list = word_tokenize(sentence.lower())\n",
    "        all_unigrams = all_unigrams + word_list\n",
    "    voc = set(all_unigrams)\n",
    "    voc.add(BOS)\n",
    "    voc.add(EOS)\n",
    "    return list(voc)"
   ]
  },
  {
   "cell_type": "code",
   "execution_count": 24,
   "id": "6e460425",
   "metadata": {},
   "outputs": [],
   "source": [
    "\n",
    "def get_ngrams(text_list, n=2):\n",
    "    all_ngrams = list()\n",
    "    for sentence in text_list:\n",
    "        tokens = word_tokenize(sentence.lower())\n",
    "        padded_sent = list(pad_sequence(tokens, pad_left=True, left_pad_symbol=BOS, pad_right=True, right_pad_symbol=EOS, n=n))\n",
    "        all_ngrams = all_ngrams + list(ngrams(padded_sent, n=n))      \n",
    "    return all_ngrams"
   ]
  },
  {
   "cell_type": "code",
   "execution_count": 25,
   "id": "03383121",
   "metadata": {},
   "outputs": [],
   "source": [
    "def train_models(proverbs):\n",
    "    \"\"\" Vous ajoutez à partir d'ici le code dont vous avez besoin\n",
    "        pour construire les différents modèles N-grammes.\n",
    "        Cette fonction doit construire tous les modèles en une seule passe.\n",
    "        Voir les consignes de l'énoncé du travail pratique concernant les modèles à entraîner.\n",
    "\n",
    "        Vous pouvez ajouter les fonctions/méthodes et variables que vous jugerez nécessaire.\n",
    "        Merci de ne pas modifier la signature et le comportement de cette fonction (nom, arguments, sauvegarde des modèles).\n",
    "    \"\"\"\n",
    "\n",
    "    # Votre code à partir d'ici...  \n",
    "    vocabulary = build_vocabulary(proverbs)\n",
    "    \n",
    "    unigram = get_ngrams(proverbs, n=1)\n",
    "    bigram = get_ngrams(proverbs, n=2)\n",
    "    trigram = get_ngrams(proverbs, n=3)\n",
    "    display(trigram)\n",
    "\n",
    "\n",
    "    model1 = Laplace(1)\n",
    "    model1.fit([unigram], vocabulary_text=vocabulary)\n",
    "    \n",
    "    model2 = Laplace(2)\n",
    "    model2.fit([bigram], vocabulary_text=vocabulary)\n",
    "    \n",
    "    model3 = Laplace(3)\n",
    "    model3.fit([trigram], vocabulary_text=vocabulary)\n",
    "\n",
    "    \n",
    "    # Sauvegarde de vos modèles \n",
    "    models = {\n",
    "        1: model1,\n",
    "        2: model2,\n",
    "        3: model3\n",
    "    }\n",
    "    return models\n",
    "    "
   ]
  },
  {
   "cell_type": "code",
   "execution_count": null,
   "id": "dd160430",
   "metadata": {},
   "outputs": [],
   "source": []
  },
  {
   "cell_type": "code",
   "execution_count": null,
   "id": "b755d014",
   "metadata": {},
   "outputs": [],
   "source": []
  },
  {
   "cell_type": "markdown",
   "id": "0a05719e",
   "metadata": {},
   "source": [
    "## Section 4 - Compléter un proverbe"
   ]
  },
  {
   "cell_type": "code",
   "execution_count": null,
   "id": "fdf0b1b1",
   "metadata": {},
   "outputs": [],
   "source": [
    "def fill_masked_proverb(masked, word_list, n=3, criteria=\"perplexity\"):\n",
    "    \"\"\" Fonction qui complète un texte à trous (des mots masqués) en ajoutant \n",
    "        les bons mots aux bons endroits (un \"cloze test\").\n",
    "\n",
    "        Le paramètre criteria indique la mesure qu'on utilise \n",
    "        pour choisir le mot le plus approprié: \"logprob\" ou \"perplexity\".\n",
    "        On retourne l'estimation de cette mesure sur le proverbe complet,\n",
    "        c.-à-d. en utilisant tous les mots du proverbe.\n",
    "\n",
    "        Le paramètre n désigne le modèle utilisé.\n",
    "        1 - unigramme NLTK, 2 - bigramme NLTK, 3 - trigramme NLTK\n",
    "        \n",
    "        Cette fonction retourne la solution (le proverbe complété) et \n",
    "        la valeur de logprob ou perplexité (selon le paramètre en entrée de la fonction). \n",
    "    \"\"\"\n",
    "\n",
    "    # Votre code à partir d'ici. Vous pouvez modifier comme bon vous semble.\n",
    "    result = replace_stars_with_words(masked, word_list[0], word_list[1]).split()\n",
    "    result2 = replace_stars_with_words(masked, word_list[1], word_list[0]).split()\n",
    "\n",
    "    display(models[n].perplexity(result))\n",
    "    display(models[n].logscore(result))\n",
    "    display(models[n].perplexity(result2))\n",
    "    display(models[n].logscore(result2))\n",
    "\n",
    "    #---- À retirer à partir d'ici ----------\n",
    "    best_perplexity = 1500\n",
    "    best_logprob = -100\n",
    "    result = 'bonne femme fait le bon homme'\n",
    "    #---- À retirer ce qui précède ----------\n",
    "\n",
    "    if criteria == \"perplexity\":\n",
    "        score = best_perplexity\n",
    "    else:\n",
    "        score = best_logprob\n",
    "    return result, score"
   ]
  },
  {
   "cell_type": "markdown",
   "id": "9df87177",
   "metadata": {},
   "source": [
    "New code"
   ]
  },
  {
   "cell_type": "code",
   "execution_count": 32,
   "id": "c8ed1dc3",
   "metadata": {},
   "outputs": [],
   "source": [
    "from itertools import permutations\n",
    "\n",
    "def fill_masked_proverb(masked, word_list, n=3, criteria=\"perplexity\"):\n",
    "    # Tokenize the masked proverb\n",
    "    proverb_tokens = nltk.word_tokenize(masked)\n",
    "\n",
    "    # Create the N-gram model based on the specified 'n'\n",
    "    ngram_model = models[n]\n",
    "\n",
    "    # Initialize variables to store the best result and score\n",
    "    best_result = \"\"\n",
    "    best_score = float('inf') if criteria == \"perplexity\" else float('-inf')\n",
    "\n",
    "    # Generate all possible word permutations (4 combinations)\n",
    "    word_permutations = list(permutations(word_list, 2))\n",
    "\n",
    "    # Iterate through each word permutation\n",
    "    for word1, word2 in word_permutations:\n",
    "        # Replace the '*' in the proverb with the current words\n",
    "        current_result = replace_stars_with_words(masked, word1, word2)\n",
    "        completed_proverb = replace_stars_with_words(masked, word1, word2)\n",
    "        completed_proverb = get_ngrams([completed_proverb], n)\n",
    "        \n",
    "        \n",
    "        # Calculate logprob or perplexity based on the chosen criteria\n",
    "        if criteria == \"perplexity\":\n",
    "            score = ngram_model.perplexity(completed_proverb)\n",
    "            # display(\"perplex of: \")\n",
    "            # display(completed_proverb)\n",
    "            # display(score)\n",
    "            # print(current_result + str(score))\n",
    "        else:\n",
    "            score = ngram_model.logscore(completed_proverb)\n",
    "            # display(\"logprob of: \")\n",
    "            # display(completed_proverb)\n",
    "            # display(score)\n",
    "            # print(current_result + str(score))\n",
    "\n",
    "        # Update the best result and score if the current score is better\n",
    "        if (criteria == \"perplexity\" and score < best_score) or (criteria == \"logprob\" and score > best_score):\n",
    "            best_score = score\n",
    "            best_result = current_result\n",
    "\n",
    "    return best_result, best_score"
   ]
  },
  {
   "cell_type": "markdown",
   "id": "1cbf4bc8",
   "metadata": {},
   "source": [
    "Un exemple pour illustrer l'utilisation de cette fonction"
   ]
  },
  {
   "cell_type": "code",
   "execution_count": 42,
   "id": "5dcfecbc",
   "metadata": {},
   "outputs": [
    {
     "data": {
      "text/plain": [
       "('Les roses sont rouges et les tulipes sont bleues', 2839.375674238856)"
      ]
     },
     "execution_count": 42,
     "metadata": {},
     "output_type": "execute_result"
    }
   ],
   "source": [
    "masked =  \"Les roses sont * et les tulipes sont **\"   \n",
    "word_list = ['rouges', 'bleues']    \n",
    "fill_masked_proverb(masked, word_list, n=3, criteria=\"perplexity\")"
   ]
  },
  {
   "cell_type": "code",
   "execution_count": null,
   "id": "cd5ba65e",
   "metadata": {},
   "outputs": [],
   "source": []
  },
  {
   "cell_type": "markdown",
   "id": "5720e938",
   "metadata": {},
   "source": [
    "## Section 5 - Expérimentations et analyse de vos résultats\n",
    "\n",
    "Décrivez ici les résultats obtenus et présentez l'évaluation obtenue sur le fichier de test. Vous pouvez ajouter le nombre de cellules que vous souhaitez. "
   ]
  },
  {
   "cell_type": "code",
   "execution_count": 34,
   "id": "bb078efc",
   "metadata": {},
   "outputs": [
    {
     "data": {
      "text/plain": [
       "\"perplexity: 1 ->('a beau vient qui mentir de loin', 434.15031558678913)\""
      ]
     },
     "metadata": {},
     "output_type": "display_data"
    },
    {
     "data": {
      "text/plain": [
       "\"logprob: 1 ->('a beau vient qui mentir de loin', -15.278993850906799)\""
      ]
     },
     "metadata": {},
     "output_type": "display_data"
    },
    {
     "data": {
      "text/plain": [
       "\"perplexity: 2 ->('a beau mentir qui vient de loin', 1274.5300428347618)\""
      ]
     },
     "metadata": {},
     "output_type": "display_data"
    },
    {
     "data": {
      "text/plain": [
       "\"logprob: 2 ->('a beau vient qui mentir de loin', -12.126704472843189)\""
      ]
     },
     "metadata": {},
     "output_type": "display_data"
    },
    {
     "data": {
      "text/plain": [
       "\"perplexity: 3 ->('a beau mentir qui vient de loin', 1803.3372555720612)\""
      ]
     },
     "metadata": {},
     "output_type": "display_data"
    },
    {
     "data": {
      "text/plain": [
       "\"logprob: 3 ->('a beau vient qui mentir de loin', -12.126704472843189)\""
      ]
     },
     "metadata": {},
     "output_type": "display_data"
    },
    {
     "data": {
      "text/plain": [
       "\"perplexity: 1 ->('a loin mentir qui vient de beau', 434.1503155867886)\""
      ]
     },
     "metadata": {},
     "output_type": "display_data"
    },
    {
     "data": {
      "text/plain": [
       "\"logprob: 1 ->('a beau mentir qui vient de loin', -15.278993850906799)\""
      ]
     },
     "metadata": {},
     "output_type": "display_data"
    },
    {
     "data": {
      "text/plain": [
       "\"perplexity: 2 ->('a beau mentir qui vient de loin', 1274.5300428347618)\""
      ]
     },
     "metadata": {},
     "output_type": "display_data"
    },
    {
     "data": {
      "text/plain": [
       "\"logprob: 2 ->('a beau mentir qui vient de loin', -12.126704472843189)\""
      ]
     },
     "metadata": {},
     "output_type": "display_data"
    },
    {
     "data": {
      "text/plain": [
       "\"perplexity: 3 ->('a beau mentir qui vient de loin', 1803.3372555720612)\""
      ]
     },
     "metadata": {},
     "output_type": "display_data"
    },
    {
     "data": {
      "text/plain": [
       "\"logprob: 3 ->('a beau mentir qui vient de loin', -12.126704472843189)\""
      ]
     },
     "metadata": {},
     "output_type": "display_data"
    },
    {
     "data": {
      "text/plain": [
       "\"perplexity: 1 ->('l’larron fait le occasion', 294.2095232621012)\""
      ]
     },
     "metadata": {},
     "output_type": "display_data"
    },
    {
     "data": {
      "text/plain": [
       "\"logprob: 1 ->('l’larron fait le occasion', -15.278993850906799)\""
      ]
     },
     "metadata": {},
     "output_type": "display_data"
    },
    {
     "data": {
      "text/plain": [
       "\"perplexity: 2 ->('l’occasion fait le larron', 387.0857519607624)\""
      ]
     },
     "metadata": {},
     "output_type": "display_data"
    },
    {
     "data": {
      "text/plain": [
       "\"logprob: 2 ->('l’larron fait le occasion', -12.126704472843189)\""
      ]
     },
     "metadata": {},
     "output_type": "display_data"
    },
    {
     "data": {
      "text/plain": [
       "\"perplexity: 3 ->('l’occasion fait le larron', 679.8140555421946)\""
      ]
     },
     "metadata": {},
     "output_type": "display_data"
    },
    {
     "data": {
      "text/plain": [
       "\"logprob: 3 ->('l’larron fait le occasion', -12.126704472843189)\""
      ]
     },
     "metadata": {},
     "output_type": "display_data"
    },
    {
     "data": {
      "text/plain": [
       "\"perplexity: 1 ->('aidera-toi, le ciel t’aide', 559.2972069523098)\""
      ]
     },
     "metadata": {},
     "output_type": "display_data"
    },
    {
     "data": {
      "text/plain": [
       "\"logprob: 1 ->('aidera-toi, le ciel t’aide', -15.278993850906799)\""
      ]
     },
     "metadata": {},
     "output_type": "display_data"
    },
    {
     "data": {
      "text/plain": [
       "\"perplexity: 2 ->('aidera-toi, le ciel t’aide', 1112.741343977163)\""
      ]
     },
     "metadata": {},
     "output_type": "display_data"
    },
    {
     "data": {
      "text/plain": [
       "\"logprob: 2 ->('aidera-toi, le ciel t’aide', -12.126704472843189)\""
      ]
     },
     "metadata": {},
     "output_type": "display_data"
    },
    {
     "data": {
      "text/plain": [
       "\"perplexity: 3 ->('aide-toi, le ciel t’aidera', 2376.010535293619)\""
      ]
     },
     "metadata": {},
     "output_type": "display_data"
    },
    {
     "data": {
      "text/plain": [
       "\"logprob: 3 ->('aidera-toi, le ciel t’aide', -12.126704472843189)\""
      ]
     },
     "metadata": {},
     "output_type": "display_data"
    },
    {
     "data": {
      "text/plain": [
       "\"perplexity: 1 ->('année de année, gelée de blé', 671.8262356027944)\""
      ]
     },
     "metadata": {},
     "output_type": "display_data"
    },
    {
     "data": {
      "text/plain": [
       "\"logprob: 1 ->('année de année, gelée de blé', -15.278993850906799)\""
      ]
     },
     "metadata": {},
     "output_type": "display_data"
    },
    {
     "data": {
      "text/plain": [
       "\"perplexity: 2 ->('année de gelée, année de blé', 1533.8494257688799)\""
      ]
     },
     "metadata": {},
     "output_type": "display_data"
    },
    {
     "data": {
      "text/plain": [
       "\"logprob: 2 ->('année de année, gelée de blé', -12.126704472843189)\""
      ]
     },
     "metadata": {},
     "output_type": "display_data"
    },
    {
     "data": {
      "text/plain": [
       "\"perplexity: 3 ->('année de gelée, année de blé', 1812.8699134684505)\""
      ]
     },
     "metadata": {},
     "output_type": "display_data"
    },
    {
     "data": {
      "text/plain": [
       "\"logprob: 3 ->('année de année, gelée de blé', -12.126704472843189)\""
      ]
     },
     "metadata": {},
     "output_type": "display_data"
    },
    {
     "data": {
      "text/plain": [
       "\"perplexity: 1 ->('après la beau, le pluie temps', 292.99932975288795)\""
      ]
     },
     "metadata": {},
     "output_type": "display_data"
    },
    {
     "data": {
      "text/plain": [
       "\"logprob: 1 ->('après la beau, le pluie temps', -15.278993850906799)\""
      ]
     },
     "metadata": {},
     "output_type": "display_data"
    },
    {
     "data": {
      "text/plain": [
       "\"perplexity: 2 ->('après la pluie, le beau temps', 549.795128922859)\""
      ]
     },
     "metadata": {},
     "output_type": "display_data"
    },
    {
     "data": {
      "text/plain": [
       "\"logprob: 2 ->('après la beau, le pluie temps', -12.126704472843189)\""
      ]
     },
     "metadata": {},
     "output_type": "display_data"
    },
    {
     "data": {
      "text/plain": [
       "\"perplexity: 3 ->('après la pluie, le beau temps', 1107.8713269707812)\""
      ]
     },
     "metadata": {},
     "output_type": "display_data"
    },
    {
     "data": {
      "text/plain": [
       "\"logprob: 3 ->('après la beau, le pluie temps', -12.126704472843189)\""
      ]
     },
     "metadata": {},
     "output_type": "display_data"
    },
    {
     "data": {
      "text/plain": [
       "\"perplexity: 1 ->('aux échecs, les fous sont les plus près des rois', 458.2571256544822)\""
      ]
     },
     "metadata": {},
     "output_type": "display_data"
    },
    {
     "data": {
      "text/plain": [
       "\"logprob: 1 ->('aux échecs, les fous sont les plus près des rois', -15.278993850906799)\""
      ]
     },
     "metadata": {},
     "output_type": "display_data"
    },
    {
     "data": {
      "text/plain": [
       "\"perplexity: 2 ->('aux échecs, les fous sont les plus près des rois', 756.6905234977802)\""
      ]
     },
     "metadata": {},
     "output_type": "display_data"
    },
    {
     "data": {
      "text/plain": [
       "\"logprob: 2 ->('aux échecs, les fous sont les plus près des rois', -12.126704472843189)\""
      ]
     },
     "metadata": {},
     "output_type": "display_data"
    },
    {
     "data": {
      "text/plain": [
       "\"perplexity: 3 ->('aux échecs, les fous sont les plus près des rois', 1557.1067673680873)\""
      ]
     },
     "metadata": {},
     "output_type": "display_data"
    },
    {
     "data": {
      "text/plain": [
       "\"logprob: 3 ->('aux échecs, les fous sont les plus près des rois', -12.126704472843189)\""
      ]
     },
     "metadata": {},
     "output_type": "display_data"
    },
    {
     "data": {
      "text/plain": [
       "\"perplexity: 1 ->('ce que femme veut, dieu le veut', 199.92761896076655)\""
      ]
     },
     "metadata": {},
     "output_type": "display_data"
    },
    {
     "data": {
      "text/plain": [
       "\"logprob: 1 ->('ce que femme veut, dieu le veut', -15.278993850906799)\""
      ]
     },
     "metadata": {},
     "output_type": "display_data"
    },
    {
     "data": {
      "text/plain": [
       "\"perplexity: 2 ->('ce que femme veut, dieu le veut', 723.0899272440836)\""
      ]
     },
     "metadata": {},
     "output_type": "display_data"
    },
    {
     "data": {
      "text/plain": [
       "\"logprob: 2 ->('ce que femme veut, dieu le veut', -12.126704472843189)\""
      ]
     },
     "metadata": {},
     "output_type": "display_data"
    },
    {
     "data": {
      "text/plain": [
       "\"perplexity: 3 ->('ce que femme veut, dieu le veut', 1196.7163999336085)\""
      ]
     },
     "metadata": {},
     "output_type": "display_data"
    },
    {
     "data": {
      "text/plain": [
       "\"logprob: 3 ->('ce que femme veut, dieu le veut', -12.126704472843189)\""
      ]
     },
     "metadata": {},
     "output_type": "display_data"
    },
    {
     "data": {
      "text/plain": [
       "\"perplexity: 1 ->('bien mal profite ne acquis jamais', 943.3748299993829)\""
      ]
     },
     "metadata": {},
     "output_type": "display_data"
    },
    {
     "data": {
      "text/plain": [
       "\"logprob: 1 ->('bien mal profite ne acquis jamais', -15.278993850906799)\""
      ]
     },
     "metadata": {},
     "output_type": "display_data"
    },
    {
     "data": {
      "text/plain": [
       "\"perplexity: 2 ->('bien mal acquis ne profite jamais', 1288.890734846945)\""
      ]
     },
     "metadata": {},
     "output_type": "display_data"
    },
    {
     "data": {
      "text/plain": [
       "\"logprob: 2 ->('bien mal profite ne acquis jamais', -12.126704472843189)\""
      ]
     },
     "metadata": {},
     "output_type": "display_data"
    },
    {
     "data": {
      "text/plain": [
       "\"perplexity: 3 ->('bien mal acquis ne profite jamais', 1416.2650759891033)\""
      ]
     },
     "metadata": {},
     "output_type": "display_data"
    },
    {
     "data": {
      "text/plain": [
       "\"logprob: 3 ->('bien mal profite ne acquis jamais', -12.126704472843189)\""
      ]
     },
     "metadata": {},
     "output_type": "display_data"
    },
    {
     "data": {
      "text/plain": [
       "\"perplexity: 1 ->('bon outils ne querelle pas ses ouvrier', 744.5506256726524)\""
      ]
     },
     "metadata": {},
     "output_type": "display_data"
    },
    {
     "data": {
      "text/plain": [
       "\"logprob: 1 ->('bon outils ne querelle pas ses ouvrier', -15.278993850906799)\""
      ]
     },
     "metadata": {},
     "output_type": "display_data"
    },
    {
     "data": {
      "text/plain": [
       "\"perplexity: 2 ->('bon ouvrier ne querelle pas ses outils', 1148.0503629535992)\""
      ]
     },
     "metadata": {},
     "output_type": "display_data"
    },
    {
     "data": {
      "text/plain": [
       "\"logprob: 2 ->('bon outils ne querelle pas ses ouvrier', -12.126704472843189)\""
      ]
     },
     "metadata": {},
     "output_type": "display_data"
    },
    {
     "data": {
      "text/plain": [
       "\"perplexity: 3 ->('bon ouvrier ne querelle pas ses outils', 1315.9389510520746)\""
      ]
     },
     "metadata": {},
     "output_type": "display_data"
    },
    {
     "data": {
      "text/plain": [
       "\"logprob: 3 ->('bon outils ne querelle pas ses ouvrier', -12.126704472843189)\""
      ]
     },
     "metadata": {},
     "output_type": "display_data"
    },
    {
     "data": {
      "text/plain": [
       "\"perplexity: 1 ->('ce n’est pas tous les fête jours', 214.04367830604437)\""
      ]
     },
     "metadata": {},
     "output_type": "display_data"
    },
    {
     "data": {
      "text/plain": [
       "\"logprob: 1 ->('ce n’est pas tous les fête jours', -15.278993850906799)\""
      ]
     },
     "metadata": {},
     "output_type": "display_data"
    },
    {
     "data": {
      "text/plain": [
       "\"perplexity: 2 ->('ce n’est pas tous les jours fête', 223.3179148965538)\""
      ]
     },
     "metadata": {},
     "output_type": "display_data"
    },
    {
     "data": {
      "text/plain": [
       "\"logprob: 2 ->('ce n’est pas tous les fête jours', -12.126704472843189)\""
      ]
     },
     "metadata": {},
     "output_type": "display_data"
    },
    {
     "data": {
      "text/plain": [
       "\"perplexity: 3 ->('ce n’est pas tous les jours fête', 448.1899617514355)\""
      ]
     },
     "metadata": {},
     "output_type": "display_data"
    },
    {
     "data": {
      "text/plain": [
       "\"logprob: 3 ->('ce n’est pas tous les fête jours', -12.126704472843189)\""
      ]
     },
     "metadata": {},
     "output_type": "display_data"
    },
    {
     "data": {
      "text/plain": [
       "\"perplexity: 1 ->('pour le fête, c’est tous les jours fou', 235.6020049179169)\""
      ]
     },
     "metadata": {},
     "output_type": "display_data"
    },
    {
     "data": {
      "text/plain": [
       "\"logprob: 1 ->('pour le fête, c’est tous les jours fou', -15.278993850906799)\""
      ]
     },
     "metadata": {},
     "output_type": "display_data"
    },
    {
     "data": {
      "text/plain": [
       "\"perplexity: 2 ->('pour le fou, c’est tous les jours fête', 393.78036189764686)\""
      ]
     },
     "metadata": {},
     "output_type": "display_data"
    },
    {
     "data": {
      "text/plain": [
       "\"logprob: 2 ->('pour le fête, c’est tous les jours fou', -12.126704472843189)\""
      ]
     },
     "metadata": {},
     "output_type": "display_data"
    },
    {
     "data": {
      "text/plain": [
       "\"perplexity: 3 ->('pour le fou, c’est tous les jours fête', 950.8258738005812)\""
      ]
     },
     "metadata": {},
     "output_type": "display_data"
    },
    {
     "data": {
      "text/plain": [
       "\"logprob: 3 ->('pour le fête, c’est tous les jours fou', -12.126704472843189)\""
      ]
     },
     "metadata": {},
     "output_type": "display_data"
    },
    {
     "data": {
      "text/plain": [
       "\"perplexity: 1 ->('dire et faire, sont deux', 246.59321837342426)\""
      ]
     },
     "metadata": {},
     "output_type": "display_data"
    },
    {
     "data": {
      "text/plain": [
       "\"logprob: 1 ->('dire et faire, sont deux', -15.278993850906799)\""
      ]
     },
     "metadata": {},
     "output_type": "display_data"
    },
    {
     "data": {
      "text/plain": [
       "\"perplexity: 2 ->('dire et faire, sont deux', 836.1471559804386)\""
      ]
     },
     "metadata": {},
     "output_type": "display_data"
    },
    {
     "data": {
      "text/plain": [
       "\"logprob: 2 ->('dire et faire, sont deux', -12.126704472843189)\""
      ]
     },
     "metadata": {},
     "output_type": "display_data"
    },
    {
     "data": {
      "text/plain": [
       "\"perplexity: 3 ->('dire et faire, sont deux', 1200.5147460427463)\""
      ]
     },
     "metadata": {},
     "output_type": "display_data"
    },
    {
     "data": {
      "text/plain": [
       "\"logprob: 3 ->('dire et faire, sont deux', -12.126704472843189)\""
      ]
     },
     "metadata": {},
     "output_type": "display_data"
    },
    {
     "data": {
      "text/plain": [
       "\"perplexity: 1 ->('mieux vaut prévenir que guérir', 935.3732551884195)\""
      ]
     },
     "metadata": {},
     "output_type": "display_data"
    },
    {
     "data": {
      "text/plain": [
       "\"logprob: 1 ->('mieux vaut prévenir que guérir', -15.278993850906799)\""
      ]
     },
     "metadata": {},
     "output_type": "display_data"
    },
    {
     "data": {
      "text/plain": [
       "\"perplexity: 2 ->('mieux vaut prévenir que guérir', 657.1576145141154)\""
      ]
     },
     "metadata": {},
     "output_type": "display_data"
    },
    {
     "data": {
      "text/plain": [
       "\"logprob: 2 ->('mieux vaut prévenir que guérir', -12.126704472843189)\""
      ]
     },
     "metadata": {},
     "output_type": "display_data"
    },
    {
     "data": {
      "text/plain": [
       "\"perplexity: 3 ->('mieux vaut prévenir que guérir', 769.36756133643)\""
      ]
     },
     "metadata": {},
     "output_type": "display_data"
    },
    {
     "data": {
      "text/plain": [
       "\"logprob: 3 ->('mieux vaut prévenir que guérir', -12.126704472843189)\""
      ]
     },
     "metadata": {},
     "output_type": "display_data"
    },
    {
     "data": {
      "text/plain": [
       "\"perplexity: 1 ->('d’un sac on ne peut tirer deux moutures', 403.91848590272986)\""
      ]
     },
     "metadata": {},
     "output_type": "display_data"
    },
    {
     "data": {
      "text/plain": [
       "\"logprob: 1 ->('d’un sac on ne peut tirer deux moutures', -15.278993850906799)\""
      ]
     },
     "metadata": {},
     "output_type": "display_data"
    },
    {
     "data": {
      "text/plain": [
       "\"perplexity: 2 ->('d’un sac on ne peut tirer deux moutures', 488.19155852476814)\""
      ]
     },
     "metadata": {},
     "output_type": "display_data"
    },
    {
     "data": {
      "text/plain": [
       "\"logprob: 2 ->('d’un sac on ne peut tirer deux moutures', -12.126704472843189)\""
      ]
     },
     "metadata": {},
     "output_type": "display_data"
    },
    {
     "data": {
      "text/plain": [
       "\"perplexity: 3 ->('d’un sac on ne peut tirer deux moutures', 1155.7701557752084)\""
      ]
     },
     "metadata": {},
     "output_type": "display_data"
    },
    {
     "data": {
      "text/plain": [
       "\"logprob: 3 ->('d’un sac on ne peut tirer deux moutures', -12.126704472843189)\""
      ]
     },
     "metadata": {},
     "output_type": "display_data"
    },
    {
     "data": {
      "text/plain": [
       "\"perplexity: 1 ->('à qui nul aide, dieu ne peut nuire', 375.52079963825605)\""
      ]
     },
     "metadata": {},
     "output_type": "display_data"
    },
    {
     "data": {
      "text/plain": [
       "\"logprob: 1 ->('à qui nul aide, dieu ne peut nuire', -15.278993850906799)\""
      ]
     },
     "metadata": {},
     "output_type": "display_data"
    },
    {
     "data": {
      "text/plain": [
       "\"perplexity: 2 ->('à qui dieu aide, nul ne peut nuire', 751.2648345803655)\""
      ]
     },
     "metadata": {},
     "output_type": "display_data"
    },
    {
     "data": {
      "text/plain": [
       "\"logprob: 2 ->('à qui nul aide, dieu ne peut nuire', -12.126704472843189)\""
      ]
     },
     "metadata": {},
     "output_type": "display_data"
    },
    {
     "data": {
      "text/plain": [
       "\"perplexity: 3 ->('à qui dieu aide, nul ne peut nuire', 1345.6322146824257)\""
      ]
     },
     "metadata": {},
     "output_type": "display_data"
    },
    {
     "data": {
      "text/plain": [
       "\"logprob: 3 ->('à qui nul aide, dieu ne peut nuire', -12.126704472843189)\""
      ]
     },
     "metadata": {},
     "output_type": "display_data"
    },
    {
     "data": {
      "text/plain": [
       "\"perplexity: 1 ->('il n’y a point de rose de cent jours', 254.75368721972123)\""
      ]
     },
     "metadata": {},
     "output_type": "display_data"
    },
    {
     "data": {
      "text/plain": [
       "\"logprob: 1 ->('il n’y a point de rose de cent jours', -15.278993850906799)\""
      ]
     },
     "metadata": {},
     "output_type": "display_data"
    },
    {
     "data": {
      "text/plain": [
       "\"perplexity: 2 ->('il n’y a point de rose de cent jours', 260.5325263406725)\""
      ]
     },
     "metadata": {},
     "output_type": "display_data"
    },
    {
     "data": {
      "text/plain": [
       "\"logprob: 2 ->('il n’y a point de rose de cent jours', -12.126704472843189)\""
      ]
     },
     "metadata": {},
     "output_type": "display_data"
    },
    {
     "data": {
      "text/plain": [
       "\"perplexity: 3 ->('il n’y a point de rose de cent jours', 424.6014121809335)\""
      ]
     },
     "metadata": {},
     "output_type": "display_data"
    },
    {
     "data": {
      "text/plain": [
       "\"logprob: 3 ->('il n’y a point de rose de cent jours', -12.126704472843189)\""
      ]
     },
     "metadata": {},
     "output_type": "display_data"
    },
    {
     "data": {
      "text/plain": [
       "\"perplexity: 1 ->('il faut le voir pour le croire', 261.6202283822203)\""
      ]
     },
     "metadata": {},
     "output_type": "display_data"
    },
    {
     "data": {
      "text/plain": [
       "\"logprob: 1 ->('il faut le voir pour le croire', -15.278993850906799)\""
      ]
     },
     "metadata": {},
     "output_type": "display_data"
    },
    {
     "data": {
      "text/plain": [
       "\"perplexity: 2 ->('il faut le voir pour le croire', 544.9483466042567)\""
      ]
     },
     "metadata": {},
     "output_type": "display_data"
    },
    {
     "data": {
      "text/plain": [
       "\"logprob: 2 ->('il faut le voir pour le croire', -12.126704472843189)\""
      ]
     },
     "metadata": {},
     "output_type": "display_data"
    },
    {
     "data": {
      "text/plain": [
       "\"perplexity: 3 ->('il faut le voir pour le croire', 813.5129741860222)\""
      ]
     },
     "metadata": {},
     "output_type": "display_data"
    },
    {
     "data": {
      "text/plain": [
       "\"logprob: 3 ->('il faut le voir pour le croire', -12.126704472843189)\""
      ]
     },
     "metadata": {},
     "output_type": "display_data"
    },
    {
     "data": {
      "text/plain": [
       "\"perplexity: 1 ->('on ne vend pas le poisson qui est encore dans la mer', 266.96538821223555)\""
      ]
     },
     "metadata": {},
     "output_type": "display_data"
    },
    {
     "data": {
      "text/plain": [
       "\"logprob: 1 ->('on ne vend pas le poisson qui est encore dans la mer', -15.278993850906799)\""
      ]
     },
     "metadata": {},
     "output_type": "display_data"
    },
    {
     "data": {
      "text/plain": [
       "\"perplexity: 2 ->('on ne vend pas le poisson qui est encore dans la mer', 490.44513347493694)\""
      ]
     },
     "metadata": {},
     "output_type": "display_data"
    },
    {
     "data": {
      "text/plain": [
       "\"logprob: 2 ->('on ne vend pas le poisson qui est encore dans la mer', -12.126704472843189)\""
      ]
     },
     "metadata": {},
     "output_type": "display_data"
    },
    {
     "data": {
      "text/plain": [
       "\"perplexity: 3 ->('on ne vend pas le poisson qui est encore dans la mer', 1140.570035768997)\""
      ]
     },
     "metadata": {},
     "output_type": "display_data"
    },
    {
     "data": {
      "text/plain": [
       "\"logprob: 3 ->('on ne vend pas le poisson qui est encore dans la mer', -12.126704472843189)\""
      ]
     },
     "metadata": {},
     "output_type": "display_data"
    },
    {
     "data": {
      "text/plain": [
       "\"perplexity: 1 ->('la langue d’un muet vaut mieux que celle d’un menteur', 243.97139262518937)\""
      ]
     },
     "metadata": {},
     "output_type": "display_data"
    },
    {
     "data": {
      "text/plain": [
       "\"logprob: 1 ->('la langue d’un muet vaut mieux que celle d’un menteur', -15.278993850906799)\""
      ]
     },
     "metadata": {},
     "output_type": "display_data"
    },
    {
     "data": {
      "text/plain": [
       "\"perplexity: 2 ->('la langue d’un muet vaut mieux que celle d’un menteur', 310.137284487743)\""
      ]
     },
     "metadata": {},
     "output_type": "display_data"
    },
    {
     "data": {
      "text/plain": [
       "\"logprob: 2 ->('la langue d’un muet vaut mieux que celle d’un menteur', -12.126704472843189)\""
      ]
     },
     "metadata": {},
     "output_type": "display_data"
    },
    {
     "data": {
      "text/plain": [
       "\"perplexity: 3 ->('la langue d’un muet vaut mieux que celle d’un menteur', 850.176382139804)\""
      ]
     },
     "metadata": {},
     "output_type": "display_data"
    },
    {
     "data": {
      "text/plain": [
       "\"logprob: 3 ->('la langue d’un muet vaut mieux que celle d’un menteur', -12.126704472843189)\""
      ]
     },
     "metadata": {},
     "output_type": "display_data"
    },
    {
     "data": {
      "text/plain": [
       "\"perplexity: 1 ->('bon femme fait le bonne homme', 301.89383147747196)\""
      ]
     },
     "metadata": {},
     "output_type": "display_data"
    },
    {
     "data": {
      "text/plain": [
       "\"logprob: 1 ->('bon femme fait le bonne homme', -15.278993850906799)\""
      ]
     },
     "metadata": {},
     "output_type": "display_data"
    },
    {
     "data": {
      "text/plain": [
       "\"perplexity: 2 ->('bonne femme fait le bon homme', 832.73931698213)\""
      ]
     },
     "metadata": {},
     "output_type": "display_data"
    },
    {
     "data": {
      "text/plain": [
       "\"logprob: 2 ->('bon femme fait le bonne homme', -12.126704472843189)\""
      ]
     },
     "metadata": {},
     "output_type": "display_data"
    },
    {
     "data": {
      "text/plain": [
       "\"perplexity: 3 ->('bonne femme fait le bon homme', 1276.597239484895)\""
      ]
     },
     "metadata": {},
     "output_type": "display_data"
    },
    {
     "data": {
      "text/plain": [
       "\"logprob: 3 ->('bon femme fait le bonne homme', -12.126704472843189)\""
      ]
     },
     "metadata": {},
     "output_type": "display_data"
    },
    {
     "data": {
      "text/plain": [
       "\"perplexity: 1 ->('bonne femme fait le bon homme', 301.89383147747196)\""
      ]
     },
     "metadata": {},
     "output_type": "display_data"
    },
    {
     "data": {
      "text/plain": [
       "\"logprob: 1 ->('bonne homme fait le bon femme', -15.278993850906799)\""
      ]
     },
     "metadata": {},
     "output_type": "display_data"
    },
    {
     "data": {
      "text/plain": [
       "\"perplexity: 2 ->('bonne femme fait le bon homme', 832.73931698213)\""
      ]
     },
     "metadata": {},
     "output_type": "display_data"
    },
    {
     "data": {
      "text/plain": [
       "\"logprob: 2 ->('bonne homme fait le bon femme', -12.126704472843189)\""
      ]
     },
     "metadata": {},
     "output_type": "display_data"
    },
    {
     "data": {
      "text/plain": [
       "\"perplexity: 3 ->('bonne femme fait le bon homme', 1276.597239484895)\""
      ]
     },
     "metadata": {},
     "output_type": "display_data"
    },
    {
     "data": {
      "text/plain": [
       "\"logprob: 3 ->('bonne homme fait le bon femme', -12.126704472843189)\""
      ]
     },
     "metadata": {},
     "output_type": "display_data"
    },
    {
     "data": {
      "text/plain": [
       "\"perplexity: 1 ->('ce que femme veut, dieu le veut', 199.92761896076655)\""
      ]
     },
     "metadata": {},
     "output_type": "display_data"
    },
    {
     "data": {
      "text/plain": [
       "\"logprob: 1 ->('ce que femme veut, dieu le veut', -15.278993850906799)\""
      ]
     },
     "metadata": {},
     "output_type": "display_data"
    },
    {
     "data": {
      "text/plain": [
       "\"perplexity: 2 ->('ce que femme veut, dieu le veut', 723.0899272440836)\""
      ]
     },
     "metadata": {},
     "output_type": "display_data"
    },
    {
     "data": {
      "text/plain": [
       "\"logprob: 2 ->('ce que femme veut, dieu le veut', -12.126704472843189)\""
      ]
     },
     "metadata": {},
     "output_type": "display_data"
    },
    {
     "data": {
      "text/plain": [
       "\"perplexity: 3 ->('ce que femme veut, dieu le veut', 1196.7163999336085)\""
      ]
     },
     "metadata": {},
     "output_type": "display_data"
    },
    {
     "data": {
      "text/plain": [
       "\"logprob: 3 ->('ce que femme veut, dieu le veut', -12.126704472843189)\""
      ]
     },
     "metadata": {},
     "output_type": "display_data"
    },
    {
     "data": {
      "text/plain": [
       "\"perplexity: 1 ->('ce le femme veut, dieu que veut', 199.92761896076644)\""
      ]
     },
     "metadata": {},
     "output_type": "display_data"
    },
    {
     "data": {
      "text/plain": [
       "\"logprob: 1 ->('ce que femme veut, dieu le veut', -15.278993850906799)\""
      ]
     },
     "metadata": {},
     "output_type": "display_data"
    },
    {
     "data": {
      "text/plain": [
       "\"perplexity: 2 ->('ce que femme veut, dieu le veut', 723.0899272440836)\""
      ]
     },
     "metadata": {},
     "output_type": "display_data"
    },
    {
     "data": {
      "text/plain": [
       "\"logprob: 2 ->('ce que femme veut, dieu le veut', -12.126704472843189)\""
      ]
     },
     "metadata": {},
     "output_type": "display_data"
    },
    {
     "data": {
      "text/plain": [
       "\"perplexity: 3 ->('ce que femme veut, dieu le veut', 1196.7163999336085)\""
      ]
     },
     "metadata": {},
     "output_type": "display_data"
    },
    {
     "data": {
      "text/plain": [
       "\"logprob: 3 ->('ce que femme veut, dieu le veut', -12.126704472843189)\""
      ]
     },
     "metadata": {},
     "output_type": "display_data"
    },
    {
     "data": {
      "text/plain": [
       "\"perplexity: 1 ->('grand menteur, grand parleur', 924.0972717761347)\""
      ]
     },
     "metadata": {},
     "output_type": "display_data"
    },
    {
     "data": {
      "text/plain": [
       "\"logprob: 1 ->('grand parleur, grand menteur', -15.278993850906799)\""
      ]
     },
     "metadata": {},
     "output_type": "display_data"
    },
    {
     "data": {
      "text/plain": [
       "\"perplexity: 2 ->('grand parleur, grand menteur', 1361.9741465253405)\""
      ]
     },
     "metadata": {},
     "output_type": "display_data"
    },
    {
     "data": {
      "text/plain": [
       "\"logprob: 2 ->('grand parleur, grand menteur', -12.126704472843189)\""
      ]
     },
     "metadata": {},
     "output_type": "display_data"
    },
    {
     "data": {
      "text/plain": [
       "\"perplexity: 3 ->('grand parleur, grand menteur', 1663.4019953848767)\""
      ]
     },
     "metadata": {},
     "output_type": "display_data"
    },
    {
     "data": {
      "text/plain": [
       "\"logprob: 3 ->('grand parleur, grand menteur', -12.126704472843189)\""
      ]
     },
     "metadata": {},
     "output_type": "display_data"
    },
    {
     "data": {
      "text/plain": [
       "\"perplexity: 1 ->('grand parleur, menteur grand', 924.0972717761347)\""
      ]
     },
     "metadata": {},
     "output_type": "display_data"
    },
    {
     "data": {
      "text/plain": [
       "\"logprob: 1 ->('grand parleur, grand menteur', -15.278993850906799)\""
      ]
     },
     "metadata": {},
     "output_type": "display_data"
    },
    {
     "data": {
      "text/plain": [
       "\"perplexity: 2 ->('grand parleur, grand menteur', 1361.9741465253405)\""
      ]
     },
     "metadata": {},
     "output_type": "display_data"
    },
    {
     "data": {
      "text/plain": [
       "\"logprob: 2 ->('grand parleur, grand menteur', -12.126704472843189)\""
      ]
     },
     "metadata": {},
     "output_type": "display_data"
    },
    {
     "data": {
      "text/plain": [
       "\"perplexity: 3 ->('grand parleur, grand menteur', 1663.4019953848767)\""
      ]
     },
     "metadata": {},
     "output_type": "display_data"
    },
    {
     "data": {
      "text/plain": [
       "\"logprob: 3 ->('grand parleur, grand menteur', -12.126704472843189)\""
      ]
     },
     "metadata": {},
     "output_type": "display_data"
    },
    {
     "data": {
      "text/plain": [
       "\"perplexity: 1 ->('le poisson pourrit par la tête', 642.4681347879072)\""
      ]
     },
     "metadata": {},
     "output_type": "display_data"
    },
    {
     "data": {
      "text/plain": [
       "\"logprob: 1 ->('le poisson pourrit par la tête', -15.278993850906799)\""
      ]
     },
     "metadata": {},
     "output_type": "display_data"
    },
    {
     "data": {
      "text/plain": [
       "\"perplexity: 2 ->('le poisson pourrit par la tête', 505.29241759843086)\""
      ]
     },
     "metadata": {},
     "output_type": "display_data"
    },
    {
     "data": {
      "text/plain": [
       "\"logprob: 2 ->('le poisson pourrit par la tête', -12.126704472843189)\""
      ]
     },
     "metadata": {},
     "output_type": "display_data"
    },
    {
     "data": {
      "text/plain": [
       "\"perplexity: 3 ->('le poisson pourrit par la tête', 891.4313734431025)\""
      ]
     },
     "metadata": {},
     "output_type": "display_data"
    },
    {
     "data": {
      "text/plain": [
       "\"logprob: 3 ->('le poisson pourrit par la tête', -12.126704472843189)\""
      ]
     },
     "metadata": {},
     "output_type": "display_data"
    },
    {
     "data": {
      "text/plain": [
       "\"perplexity: 1 ->('le tête pourrit par la poisson', 642.4681347879072)\""
      ]
     },
     "metadata": {},
     "output_type": "display_data"
    },
    {
     "data": {
      "text/plain": [
       "\"logprob: 1 ->('le tête pourrit par la poisson', -15.278993850906799)\""
      ]
     },
     "metadata": {},
     "output_type": "display_data"
    },
    {
     "data": {
      "text/plain": [
       "\"perplexity: 2 ->('le poisson pourrit par la tête', 505.29241759843086)\""
      ]
     },
     "metadata": {},
     "output_type": "display_data"
    },
    {
     "data": {
      "text/plain": [
       "\"logprob: 2 ->('le tête pourrit par la poisson', -12.126704472843189)\""
      ]
     },
     "metadata": {},
     "output_type": "display_data"
    },
    {
     "data": {
      "text/plain": [
       "\"perplexity: 3 ->('le poisson pourrit par la tête', 891.4313734431025)\""
      ]
     },
     "metadata": {},
     "output_type": "display_data"
    },
    {
     "data": {
      "text/plain": [
       "\"logprob: 3 ->('le tête pourrit par la poisson', -12.126704472843189)\""
      ]
     },
     "metadata": {},
     "output_type": "display_data"
    },
    {
     "data": {
      "text/plain": [
       "\"perplexity: 1 ->('mieux vaut prévenir que guérir', 935.3732551884195)\""
      ]
     },
     "metadata": {},
     "output_type": "display_data"
    },
    {
     "data": {
      "text/plain": [
       "\"logprob: 1 ->('mieux vaut prévenir que guérir', -15.278993850906799)\""
      ]
     },
     "metadata": {},
     "output_type": "display_data"
    },
    {
     "data": {
      "text/plain": [
       "\"perplexity: 2 ->('mieux vaut prévenir que guérir', 657.1576145141154)\""
      ]
     },
     "metadata": {},
     "output_type": "display_data"
    },
    {
     "data": {
      "text/plain": [
       "\"logprob: 2 ->('mieux vaut prévenir que guérir', -12.126704472843189)\""
      ]
     },
     "metadata": {},
     "output_type": "display_data"
    },
    {
     "data": {
      "text/plain": [
       "\"perplexity: 3 ->('mieux vaut prévenir que guérir', 769.36756133643)\""
      ]
     },
     "metadata": {},
     "output_type": "display_data"
    },
    {
     "data": {
      "text/plain": [
       "\"logprob: 3 ->('mieux vaut prévenir que guérir', -12.126704472843189)\""
      ]
     },
     "metadata": {},
     "output_type": "display_data"
    },
    {
     "data": {
      "text/plain": [
       "\"perplexity: 1 ->('quand la poire est mûre, elle tombe', 559.5728134522325)\""
      ]
     },
     "metadata": {},
     "output_type": "display_data"
    },
    {
     "data": {
      "text/plain": [
       "\"logprob: 1 ->('quand la poire est mûre, elle tombe', -15.278993850906799)\""
      ]
     },
     "metadata": {},
     "output_type": "display_data"
    },
    {
     "data": {
      "text/plain": [
       "\"perplexity: 2 ->('quand la poire est mûre, elle tombe', 1265.0539534717645)\""
      ]
     },
     "metadata": {},
     "output_type": "display_data"
    },
    {
     "data": {
      "text/plain": [
       "\"logprob: 2 ->('quand la poire est mûre, elle tombe', -12.126704472843189)\""
      ]
     },
     "metadata": {},
     "output_type": "display_data"
    },
    {
     "data": {
      "text/plain": [
       "\"perplexity: 3 ->('quand la poire est mûre, elle tombe', 1385.5482220915662)\""
      ]
     },
     "metadata": {},
     "output_type": "display_data"
    },
    {
     "data": {
      "text/plain": [
       "\"logprob: 3 ->('quand la poire est mûre, elle tombe', -12.126704472843189)\""
      ]
     },
     "metadata": {},
     "output_type": "display_data"
    },
    {
     "data": {
      "text/plain": [
       "\"perplexity: 1 ->('quand la poire est tombe, elle mûre', 559.5728134522325)\""
      ]
     },
     "metadata": {},
     "output_type": "display_data"
    },
    {
     "data": {
      "text/plain": [
       "\"logprob: 1 ->('quand la poire est tombe, elle mûre', -15.278993850906799)\""
      ]
     },
     "metadata": {},
     "output_type": "display_data"
    },
    {
     "data": {
      "text/plain": [
       "\"perplexity: 2 ->('quand la poire est mûre, elle tombe', 1265.0539534717645)\""
      ]
     },
     "metadata": {},
     "output_type": "display_data"
    },
    {
     "data": {
      "text/plain": [
       "\"logprob: 2 ->('quand la poire est tombe, elle mûre', -12.126704472843189)\""
      ]
     },
     "metadata": {},
     "output_type": "display_data"
    },
    {
     "data": {
      "text/plain": [
       "\"perplexity: 3 ->('quand la poire est mûre, elle tombe', 1385.5482220915662)\""
      ]
     },
     "metadata": {},
     "output_type": "display_data"
    },
    {
     "data": {
      "text/plain": [
       "\"logprob: 3 ->('quand la poire est tombe, elle mûre', -12.126704472843189)\""
      ]
     },
     "metadata": {},
     "output_type": "display_data"
    }
   ],
   "source": [
    "for test in tests:\n",
    "    for i in range(1, 4):\n",
    "        display(f\"perplexity: {i} ->\" + str(fill_masked_proverb(test['Masked'], test['Word_list'], n=i, criteria=\"perplexity\")))\n",
    "        display(f\"logprob: {i} ->\" + str(fill_masked_proverb(test['Masked'], test['Word_list'], n=i, criteria=\"logprob\")))"
   ]
  },
  {
   "cell_type": "code",
   "execution_count": null,
   "id": "157a287a",
   "metadata": {},
   "outputs": [],
   "source": []
  },
  {
   "cell_type": "markdown",
   "id": "bcba2d5a",
   "metadata": {},
   "source": [
    "## Section 6 - Partie réservée pour faire nos tests lors de la correction\n",
    "\n",
    "Merci de ne pas modifier ni retirer cette section du notebook ! "
   ]
  },
  {
   "cell_type": "code",
   "execution_count": null,
   "id": "290fd2c8",
   "metadata": {},
   "outputs": [],
   "source": []
  },
  {
   "cell_type": "code",
   "execution_count": null,
   "id": "9b046259",
   "metadata": {},
   "outputs": [],
   "source": []
  },
  {
   "cell_type": "code",
   "execution_count": null,
   "id": "7ce7e9e2",
   "metadata": {},
   "outputs": [],
   "source": []
  },
  {
   "cell_type": "code",
   "execution_count": null,
   "id": "02a13ce2",
   "metadata": {},
   "outputs": [],
   "source": []
  },
  {
   "cell_type": "code",
   "execution_count": null,
   "id": "27f99003",
   "metadata": {},
   "outputs": [],
   "source": []
  }
 ],
 "metadata": {
  "kernelspec": {
   "display_name": "Python 3 (ipykernel)",
   "language": "python",
   "name": "python3"
  },
  "language_info": {
   "codemirror_mode": {
    "name": "ipython",
    "version": 3
   },
   "file_extension": ".py",
   "mimetype": "text/x-python",
   "name": "python",
   "nbconvert_exporter": "python",
   "pygments_lexer": "ipython3",
   "version": "3.9.12"
  }
 },
 "nbformat": 4,
 "nbformat_minor": 5
}
