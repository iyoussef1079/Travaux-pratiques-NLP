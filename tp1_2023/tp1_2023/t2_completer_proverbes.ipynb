{
 "cells": [
  {
   "cell_type": "markdown",
   "id": "d582d91d",
   "metadata": {},
   "source": [
    "# Tâche 2 - Comme le disait le proverbe - les bons mots pour le dire\n",
    "\n",
    "L'objectif de cette tâche est de compléter des proverbes à l'aide de modèles de langue N-grammes en insérant des mots aux bons endroits dans un texte masqué. Il s'agit d'une tâche de type *cloze test* qui consiste à choisir le meilleur mot à insérer dans un texte en fonction de son contexte. \n",
    "\n",
    "Voir l'énoncé du travail #1 pour une description plus détaillée de cette tâche. \n",
    "\n",
    "Fichiers:\n",
    "- *proverbes.txt*: il contient plus de 3000 proverbes, un par ligne de texte. Pour l'entraînement des modèles de langues N-grammes. \n",
    "- *test_proverbes_v1.json*: il contient des proverbes masqués, les mots à insérer et la bonne formulation du proverbe. À utiliser pour évaluer la capacité des modèles à mettre les mots aux bons endroits. \n",
    "\n",
    "Consignes: \n",
    "- Utilisez NLTK pour construire les modèles de langue.\n",
    "- Utilisez des expressions régulières (une seule ou plusieurs) pour remplacer les * et les ** par des mots. \n",
    "- Utilisez NLTK pour faire la tokenisation des proverbes. \n",
    "- N'oubliez pas de faire le *padding* des proverbes avec des symboles de début \\<BOS\\> et de fin \\<EOS\\>.\n",
    "- Ne pas modifier les fonctions *load_proverbs* et *load_tests*.\n",
    "- Ne pas modifier la signature de la fonction *replace_stars_with_words*.\n",
    "- Utilisez la variable *models* pour conserver les modèles après entraînement. \n",
    "- Ne pas modifier la signature de la fonction *train_models*.\n",
    "- Ne pas modifier la signature de la fonction *fill_masked_proverb*. \n",
    "- Des modifications aux signatures pourraient entraîner des déductions dans la correction. \n",
    "- Vous pouvez ajouter des cellules au notebook et toutes les fonctions utilitaires que vous voulez. "
   ]
  },
  {
   "cell_type": "markdown",
   "id": "8a3ec4af",
   "metadata": {},
   "source": [
    "## Section 1 - Lecture des fichiers de données (proverbes et tests)"
   ]
  },
  {
   "cell_type": "code",
   "execution_count": 1,
   "id": "e10ec998",
   "metadata": {},
   "outputs": [],
   "source": [
    "import json\n",
    "\n",
    "# Ne pas modifier le chemin de ces 2 fichiers pour faciliter notre correction\n",
    "proverbs_fn = \"./data/proverbes.txt\"    \n",
    "test_v1_fn = './data/test_proverbes_v1.json'\n",
    "\n",
    "def load_proverbs(filename):\n",
    "    with open(filename, 'r', encoding='utf-8') as f:\n",
    "        raw_lines = f.readlines()\n",
    "    return [x.strip() for x in raw_lines]\n",
    "\n",
    "\n",
    "def load_tests(filename):\n",
    "    with open(filename, 'r', encoding='utf-8') as fp:\n",
    "        test_data = json.load(fp)\n",
    "    return test_data"
   ]
  },
  {
   "cell_type": "code",
   "execution_count": 2,
   "id": "c9fbbdd5",
   "metadata": {},
   "outputs": [],
   "source": [
    "proverbs = load_proverbs(proverbs_fn)"
   ]
  },
  {
   "cell_type": "code",
   "execution_count": 3,
   "id": "dcd0c9a9",
   "metadata": {},
   "outputs": [
    {
     "name": "stdout",
     "output_type": "stream",
     "text": [
      "Nombre de proverbes pour l'entraînement: 3108\n",
      "Un exemple de proverbe: accord vaut mieux qu’argent\n"
     ]
    }
   ],
   "source": [
    "print(\"Nombre de proverbes pour l'entraînement: {}\".format(len(proverbs)))\n",
    "print(\"Un exemple de proverbe: \" + proverbs[5])"
   ]
  },
  {
   "cell_type": "code",
   "execution_count": 4,
   "id": "ee39d050",
   "metadata": {},
   "outputs": [],
   "source": [
    "tests = load_tests(test_v1_fn)"
   ]
  },
  {
   "cell_type": "code",
   "execution_count": 5,
   "id": "e80bd88a",
   "metadata": {},
   "outputs": [
    {
     "data": {
      "text/html": [
       "<div>\n",
       "<style scoped>\n",
       "    .dataframe tbody tr th:only-of-type {\n",
       "        vertical-align: middle;\n",
       "    }\n",
       "\n",
       "    .dataframe tbody tr th {\n",
       "        vertical-align: top;\n",
       "    }\n",
       "\n",
       "    .dataframe thead th {\n",
       "        text-align: right;\n",
       "    }\n",
       "</style>\n",
       "<table border=\"1\" class=\"dataframe\">\n",
       "  <thead>\n",
       "    <tr style=\"text-align: right;\">\n",
       "      <th></th>\n",
       "      <th>Masked</th>\n",
       "      <th>Word_list</th>\n",
       "      <th>Proverb</th>\n",
       "    </tr>\n",
       "  </thead>\n",
       "  <tbody>\n",
       "    <tr>\n",
       "      <th>0</th>\n",
       "      <td>a beau * qui ** de loin</td>\n",
       "      <td>[vient, mentir]</td>\n",
       "      <td>a beau mentir qui vient de loin</td>\n",
       "    </tr>\n",
       "    <tr>\n",
       "      <th>1</th>\n",
       "      <td>a * mentir qui vient de **</td>\n",
       "      <td>[beau, loin]</td>\n",
       "      <td>a beau mentir qui vient de loin</td>\n",
       "    </tr>\n",
       "    <tr>\n",
       "      <th>2</th>\n",
       "      <td>l’* fait le **</td>\n",
       "      <td>[larron, occasion]</td>\n",
       "      <td>l’occasion fait le larron</td>\n",
       "    </tr>\n",
       "    <tr>\n",
       "      <th>3</th>\n",
       "      <td>*-toi, le ciel t’**</td>\n",
       "      <td>[aidera, aide]</td>\n",
       "      <td>aide-toi, le ciel t’aidera</td>\n",
       "    </tr>\n",
       "    <tr>\n",
       "      <th>4</th>\n",
       "      <td>année de *, ** de blé</td>\n",
       "      <td>[année, gelée]</td>\n",
       "      <td>année de gelée, année de blé</td>\n",
       "    </tr>\n",
       "    <tr>\n",
       "      <th>5</th>\n",
       "      <td>après la *, le ** temps</td>\n",
       "      <td>[beau, pluie]</td>\n",
       "      <td>après la pluie, le beau temps</td>\n",
       "    </tr>\n",
       "    <tr>\n",
       "      <th>6</th>\n",
       "      <td>aux échecs, les * sont les plus près des **</td>\n",
       "      <td>[fous, rois]</td>\n",
       "      <td>aux échecs, les fous sont les plus près des rois</td>\n",
       "    </tr>\n",
       "    <tr>\n",
       "      <th>7</th>\n",
       "      <td>ce que * veut, ** le veut</td>\n",
       "      <td>[femme, dieu]</td>\n",
       "      <td>ce que femme veut, dieu le veut</td>\n",
       "    </tr>\n",
       "    <tr>\n",
       "      <th>8</th>\n",
       "      <td>bien mal * ne ** jamais</td>\n",
       "      <td>[profite, acquis]</td>\n",
       "      <td>bien mal acquis ne profite jamais</td>\n",
       "    </tr>\n",
       "    <tr>\n",
       "      <th>9</th>\n",
       "      <td>bon * ne querelle pas ses **</td>\n",
       "      <td>[outils, ouvrier]</td>\n",
       "      <td>bon ouvrier ne querelle pas ses outils</td>\n",
       "    </tr>\n",
       "    <tr>\n",
       "      <th>10</th>\n",
       "      <td>ce n’est pas tous les * **</td>\n",
       "      <td>[fête, jours]</td>\n",
       "      <td>ce n’est pas tous les jours fête</td>\n",
       "    </tr>\n",
       "    <tr>\n",
       "      <th>11</th>\n",
       "      <td>pour le *, c’est tous les jours **</td>\n",
       "      <td>[fête, fou]</td>\n",
       "      <td>pour le fou, c’est tous les jours fête</td>\n",
       "    </tr>\n",
       "    <tr>\n",
       "      <th>12</th>\n",
       "      <td>* et **, sont deux</td>\n",
       "      <td>[dire, faire]</td>\n",
       "      <td>dire et faire, sont deux</td>\n",
       "    </tr>\n",
       "    <tr>\n",
       "      <th>13</th>\n",
       "      <td>mieux vaut * que **</td>\n",
       "      <td>[prévenir, guérir]</td>\n",
       "      <td>mieux vaut prévenir que guérir</td>\n",
       "    </tr>\n",
       "    <tr>\n",
       "      <th>14</th>\n",
       "      <td>d’* sac on ne peut tirer ** moutures</td>\n",
       "      <td>[un, deux]</td>\n",
       "      <td>d’un sac on ne peut tirer deux moutures</td>\n",
       "    </tr>\n",
       "    <tr>\n",
       "      <th>15</th>\n",
       "      <td>à qui * aide, ** ne peut nuire</td>\n",
       "      <td>[nul, dieu]</td>\n",
       "      <td>à qui dieu aide, nul ne peut nuire</td>\n",
       "    </tr>\n",
       "    <tr>\n",
       "      <th>16</th>\n",
       "      <td>il n’y a * de ** de cent jours</td>\n",
       "      <td>[point, rose]</td>\n",
       "      <td>il n’y a point de rose de cent jours</td>\n",
       "    </tr>\n",
       "    <tr>\n",
       "      <th>17</th>\n",
       "      <td>il faut le * pour le **</td>\n",
       "      <td>[voir, croire]</td>\n",
       "      <td>il faut le voir pour le croire</td>\n",
       "    </tr>\n",
       "    <tr>\n",
       "      <th>18</th>\n",
       "      <td>on ne vend * le poisson qui est encore ** la mer</td>\n",
       "      <td>[pas, dans]</td>\n",
       "      <td>on ne vend pas le poisson qui est encore dans ...</td>\n",
       "    </tr>\n",
       "    <tr>\n",
       "      <th>19</th>\n",
       "      <td>la langue d’un * vaut mieux que celle d’un **</td>\n",
       "      <td>[muet, menteur]</td>\n",
       "      <td>la langue d’un muet vaut mieux que celle d’un ...</td>\n",
       "    </tr>\n",
       "    <tr>\n",
       "      <th>20</th>\n",
       "      <td>* femme fait le ** homme</td>\n",
       "      <td>[bon, bonne]</td>\n",
       "      <td>bonne femme fait le bon homme</td>\n",
       "    </tr>\n",
       "    <tr>\n",
       "      <th>21</th>\n",
       "      <td>bonne * fait le bon **</td>\n",
       "      <td>[homme, femme]</td>\n",
       "      <td>bonne femme fait le bon homme</td>\n",
       "    </tr>\n",
       "    <tr>\n",
       "      <th>22</th>\n",
       "      <td>* ** femme veut, dieu le veut</td>\n",
       "      <td>[ce, que]</td>\n",
       "      <td>ce que femme veut, dieu le veut</td>\n",
       "    </tr>\n",
       "    <tr>\n",
       "      <th>23</th>\n",
       "      <td>ce * femme veut, dieu ** veut</td>\n",
       "      <td>[que, le]</td>\n",
       "      <td>ce que femme veut, dieu le veut</td>\n",
       "    </tr>\n",
       "    <tr>\n",
       "      <th>24</th>\n",
       "      <td>grand *, grand **</td>\n",
       "      <td>[parleur, menteur]</td>\n",
       "      <td>grand parleur, grand menteur</td>\n",
       "    </tr>\n",
       "    <tr>\n",
       "      <th>25</th>\n",
       "      <td>grand parleur, * **</td>\n",
       "      <td>[grand, menteur]</td>\n",
       "      <td>grand parleur, grand menteur</td>\n",
       "    </tr>\n",
       "    <tr>\n",
       "      <th>26</th>\n",
       "      <td>* poisson pourrit par ** tête</td>\n",
       "      <td>[le, la]</td>\n",
       "      <td>le poisson pourrit par la tête</td>\n",
       "    </tr>\n",
       "    <tr>\n",
       "      <th>27</th>\n",
       "      <td>le * pourrit par la **</td>\n",
       "      <td>[tête, poisson]</td>\n",
       "      <td>le poisson pourrit par la tête</td>\n",
       "    </tr>\n",
       "    <tr>\n",
       "      <th>28</th>\n",
       "      <td>* ** prévenir que guérir</td>\n",
       "      <td>[mieux, vaut]</td>\n",
       "      <td>mieux vaut prévenir que guérir</td>\n",
       "    </tr>\n",
       "    <tr>\n",
       "      <th>29</th>\n",
       "      <td>quand la * est **, elle tombe</td>\n",
       "      <td>[poire, mûre]</td>\n",
       "      <td>quand la poire est mûre, elle tombe</td>\n",
       "    </tr>\n",
       "    <tr>\n",
       "      <th>30</th>\n",
       "      <td>quand la poire est *, elle **</td>\n",
       "      <td>[tombe, mûre]</td>\n",
       "      <td>quand la poire est mûre, elle tombe</td>\n",
       "    </tr>\n",
       "  </tbody>\n",
       "</table>\n",
       "</div>"
      ],
      "text/plain": [
       "                                              Masked           Word_list   \n",
       "0                            a beau * qui ** de loin     [vient, mentir]  \\\n",
       "1                         a * mentir qui vient de **        [beau, loin]   \n",
       "2                                     l’* fait le **  [larron, occasion]   \n",
       "3                                *-toi, le ciel t’**      [aidera, aide]   \n",
       "4                              année de *, ** de blé      [année, gelée]   \n",
       "5                            après la *, le ** temps       [beau, pluie]   \n",
       "6        aux échecs, les * sont les plus près des **        [fous, rois]   \n",
       "7                          ce que * veut, ** le veut       [femme, dieu]   \n",
       "8                            bien mal * ne ** jamais   [profite, acquis]   \n",
       "9                       bon * ne querelle pas ses **   [outils, ouvrier]   \n",
       "10                        ce n’est pas tous les * **       [fête, jours]   \n",
       "11                pour le *, c’est tous les jours **         [fête, fou]   \n",
       "12                                * et **, sont deux       [dire, faire]   \n",
       "13                               mieux vaut * que **  [prévenir, guérir]   \n",
       "14              d’* sac on ne peut tirer ** moutures          [un, deux]   \n",
       "15                    à qui * aide, ** ne peut nuire         [nul, dieu]   \n",
       "16                    il n’y a * de ** de cent jours       [point, rose]   \n",
       "17                           il faut le * pour le **      [voir, croire]   \n",
       "18  on ne vend * le poisson qui est encore ** la mer         [pas, dans]   \n",
       "19     la langue d’un * vaut mieux que celle d’un **     [muet, menteur]   \n",
       "20                          * femme fait le ** homme        [bon, bonne]   \n",
       "21                            bonne * fait le bon **      [homme, femme]   \n",
       "22                     * ** femme veut, dieu le veut           [ce, que]   \n",
       "23                     ce * femme veut, dieu ** veut           [que, le]   \n",
       "24                                 grand *, grand **  [parleur, menteur]   \n",
       "25                               grand parleur, * **    [grand, menteur]   \n",
       "26                     * poisson pourrit par ** tête            [le, la]   \n",
       "27                            le * pourrit par la **     [tête, poisson]   \n",
       "28                          * ** prévenir que guérir       [mieux, vaut]   \n",
       "29                     quand la * est **, elle tombe       [poire, mûre]   \n",
       "30                     quand la poire est *, elle **       [tombe, mûre]   \n",
       "\n",
       "                                              Proverb  \n",
       "0                     a beau mentir qui vient de loin  \n",
       "1                     a beau mentir qui vient de loin  \n",
       "2                           l’occasion fait le larron  \n",
       "3                          aide-toi, le ciel t’aidera  \n",
       "4                        année de gelée, année de blé  \n",
       "5                       après la pluie, le beau temps  \n",
       "6    aux échecs, les fous sont les plus près des rois  \n",
       "7                     ce que femme veut, dieu le veut  \n",
       "8                   bien mal acquis ne profite jamais  \n",
       "9              bon ouvrier ne querelle pas ses outils  \n",
       "10                   ce n’est pas tous les jours fête  \n",
       "11             pour le fou, c’est tous les jours fête  \n",
       "12                           dire et faire, sont deux  \n",
       "13                     mieux vaut prévenir que guérir  \n",
       "14            d’un sac on ne peut tirer deux moutures  \n",
       "15                 à qui dieu aide, nul ne peut nuire  \n",
       "16               il n’y a point de rose de cent jours  \n",
       "17                     il faut le voir pour le croire  \n",
       "18  on ne vend pas le poisson qui est encore dans ...  \n",
       "19  la langue d’un muet vaut mieux que celle d’un ...  \n",
       "20                      bonne femme fait le bon homme  \n",
       "21                      bonne femme fait le bon homme  \n",
       "22                    ce que femme veut, dieu le veut  \n",
       "23                    ce que femme veut, dieu le veut  \n",
       "24                       grand parleur, grand menteur  \n",
       "25                       grand parleur, grand menteur  \n",
       "26                     le poisson pourrit par la tête  \n",
       "27                     le poisson pourrit par la tête  \n",
       "28                     mieux vaut prévenir que guérir  \n",
       "29                quand la poire est mûre, elle tombe  \n",
       "30                quand la poire est mûre, elle tombe  "
      ]
     },
     "execution_count": 5,
     "metadata": {},
     "output_type": "execute_result"
    }
   ],
   "source": [
    "import pandas as pd\n",
    "\n",
    "def get_dataframe(test_proverbs):\n",
    "    return pd.DataFrame.from_dict(test_proverbs, orient='columns', dtype=None, columns=None)\n",
    "\n",
    "df = get_dataframe(tests)\n",
    "df"
   ]
  },
  {
   "cell_type": "markdown",
   "id": "300b071c",
   "metadata": {},
   "source": [
    "## Section 2 - Code pour substituer les masques (étoiles) par des mots\n",
    "\n",
    "Expliquez ici comment vous procédez pour remplacer les étoiles des proverbes masqués par des mots... N'oubliez pas qu'il faut faire usage d'expressions régulières (une ou plusieurs - au choix). \n",
    "\n"
   ]
  },
  {
   "cell_type": "code",
   "execution_count": 6,
   "id": "a7ba3203",
   "metadata": {},
   "outputs": [],
   "source": [
    "import re\n",
    "\n",
    "def replace_stars_with_words(masked, word1, word2):\n",
    "    \"\"\"Remplace les * par word1 et word2 dans cet ordre. Retourne le proverbe complet.\"\"\"\n",
    "    # votre code\n",
    "    proverb = re.sub(r\"\\*\\*\", word2, masked)\n",
    "    proverb = re.sub(r\"\\*\", word1, proverb)\n",
    "    return proverb  # Retourne le proverbe avec des mots à la place des étoiles"
   ]
  },
  {
   "cell_type": "code",
   "execution_count": null,
   "id": "61b8048b",
   "metadata": {},
   "outputs": [],
   "source": []
  },
  {
   "cell_type": "code",
   "execution_count": null,
   "id": "c7bbe9f5",
   "metadata": {},
   "outputs": [],
   "source": []
  },
  {
   "cell_type": "markdown",
   "id": "3c57364c",
   "metadata": {},
   "source": [
    "## Section 3 - Construction des modèles de langue N-grammes. \n",
    "\n",
    "La fonction ***train_models*** prend en entrée une liste de proverbes et construit les trois modèles unigramme, bigramme et trigramme.\n",
    "\n",
    "Les 3 modèles entraînés sont conservés dans *models*, un dictionnaire Python qui prend la forme \n",
    "\n",
    "<pre>\n",
    "{\n",
    "   1: modele_unigramme, \n",
    "   2: modele_bigramme, \n",
    "   3: modele_trigramme\n",
    "}\n",
    "</pre>\n",
    "\n",
    "avec comme clé la valeur N du modèle et comme valeur le modèle construit par NLTK.\n",
    "\n",
    "Expliquez ici comment vous procéder pour construire vos modèles avec NLTK, pour obtenir les n-grammes de mots, pour déterminer le vocabulaire, etc...\n",
    "\n"
   ]
  },
  {
   "cell_type": "code",
   "execution_count": 11,
   "id": "5d4c6390",
   "metadata": {},
   "outputs": [
    {
     "ename": "LookupError",
     "evalue": "\n**********************************************************************\n  Resource \u001b[93mpunkt\u001b[0m not found.\n  Please use the NLTK Downloader to obtain the resource:\n\n  \u001b[31m>>> import nltk\n  >>> nltk.download('punkt')\n  \u001b[0m\n  For more information see: https://www.nltk.org/data.html\n\n  Attempted to load \u001b[93mtokenizers/punkt/english.pickle\u001b[0m\n\n  Searched in:\n    - 'C:\\\\Users\\\\Utilisateur/nltk_data'\n    - 'C:\\\\Program Files\\\\WindowsApps\\\\PythonSoftwareFoundation.Python.3.10_3.10.3056.0_x64__qbz5n2kfra8p0\\\\nltk_data'\n    - 'C:\\\\Program Files\\\\WindowsApps\\\\PythonSoftwareFoundation.Python.3.10_3.10.3056.0_x64__qbz5n2kfra8p0\\\\share\\\\nltk_data'\n    - 'C:\\\\Program Files\\\\WindowsApps\\\\PythonSoftwareFoundation.Python.3.10_3.10.3056.0_x64__qbz5n2kfra8p0\\\\lib\\\\nltk_data'\n    - 'C:\\\\Users\\\\Utilisateur\\\\AppData\\\\Roaming\\\\nltk_data'\n    - 'C:\\\\nltk_data'\n    - 'D:\\\\nltk_data'\n    - 'E:\\\\nltk_data'\n    - ''\n**********************************************************************\n",
     "output_type": "error",
     "traceback": [
      "\u001b[1;31m---------------------------------------------------------------------------\u001b[0m",
      "\u001b[1;31mLookupError\u001b[0m                               Traceback (most recent call last)",
      "\u001b[1;32mc:\\Users\\Utilisateur\\Desktop\\Ulaval\\A23\\NLP\\Travaux-pratiques-NLP\\tp1_2023\\tp1_2023\\t2_completer_proverbes.ipynb Cell 13\u001b[0m line \u001b[0;36m1\n\u001b[0;32m     <a href='vscode-notebook-cell:/c%3A/Users/Utilisateur/Desktop/Ulaval/A23/NLP/Travaux-pratiques-NLP/tp1_2023/tp1_2023/t2_completer_proverbes.ipynb#X15sZmlsZQ%3D%3D?line=9'>10</a>\u001b[0m BOS \u001b[39m=\u001b[39m \u001b[39m'\u001b[39m\u001b[39m<BOS>\u001b[39m\u001b[39m'\u001b[39m  \u001b[39m# Jeton de début de proverbe\u001b[39;00m\n\u001b[0;32m     <a href='vscode-notebook-cell:/c%3A/Users/Utilisateur/Desktop/Ulaval/A23/NLP/Travaux-pratiques-NLP/tp1_2023/tp1_2023/t2_completer_proverbes.ipynb#X15sZmlsZQ%3D%3D?line=10'>11</a>\u001b[0m EOS \u001b[39m=\u001b[39m \u001b[39m'\u001b[39m\u001b[39m<EOS>\u001b[39m\u001b[39m'\u001b[39m  \u001b[39m# Jeton de fin de proverbe\u001b[39;00m\n\u001b[1;32m---> <a href='vscode-notebook-cell:/c%3A/Users/Utilisateur/Desktop/Ulaval/A23/NLP/Travaux-pratiques-NLP/tp1_2023/tp1_2023/t2_completer_proverbes.ipynb#X15sZmlsZQ%3D%3D?line=12'>13</a>\u001b[0m models \u001b[39m=\u001b[39m train_models(proverbs)  \u001b[39m# les modèles entraînés - [1: modele_unigramme, 2: modele_bigramme, 3: modele_trigramme] \u001b[39;00m\n",
      "\u001b[1;32mc:\\Users\\Utilisateur\\Desktop\\Ulaval\\A23\\NLP\\Travaux-pratiques-NLP\\tp1_2023\\tp1_2023\\t2_completer_proverbes.ipynb Cell 13\u001b[0m line \u001b[0;36m1\n\u001b[0;32m      <a href='vscode-notebook-cell:/c%3A/Users/Utilisateur/Desktop/Ulaval/A23/NLP/Travaux-pratiques-NLP/tp1_2023/tp1_2023/t2_completer_proverbes.ipynb#X15sZmlsZQ%3D%3D?line=1'>2</a>\u001b[0m \u001b[39m\u001b[39m\u001b[39m\"\"\" Vous ajoutez à partir d'ici le code dont vous avez besoin\u001b[39;00m\n\u001b[0;32m      <a href='vscode-notebook-cell:/c%3A/Users/Utilisateur/Desktop/Ulaval/A23/NLP/Travaux-pratiques-NLP/tp1_2023/tp1_2023/t2_completer_proverbes.ipynb#X15sZmlsZQ%3D%3D?line=2'>3</a>\u001b[0m \u001b[39m    pour construire les différents modèles N-grammes.\u001b[39;00m\n\u001b[0;32m      <a href='vscode-notebook-cell:/c%3A/Users/Utilisateur/Desktop/Ulaval/A23/NLP/Travaux-pratiques-NLP/tp1_2023/tp1_2023/t2_completer_proverbes.ipynb#X15sZmlsZQ%3D%3D?line=3'>4</a>\u001b[0m \u001b[39m    Cette fonction doit construire tous les modèles en une seule passe.\u001b[39;00m\n\u001b[1;32m   (...)\u001b[0m\n\u001b[0;32m      <a href='vscode-notebook-cell:/c%3A/Users/Utilisateur/Desktop/Ulaval/A23/NLP/Travaux-pratiques-NLP/tp1_2023/tp1_2023/t2_completer_proverbes.ipynb#X15sZmlsZQ%3D%3D?line=7'>8</a>\u001b[0m \u001b[39m    Merci de ne pas modifier la signature et le comportement de cette fonction (nom, arguments, sauvegarde des modèles).\u001b[39;00m\n\u001b[0;32m      <a href='vscode-notebook-cell:/c%3A/Users/Utilisateur/Desktop/Ulaval/A23/NLP/Travaux-pratiques-NLP/tp1_2023/tp1_2023/t2_completer_proverbes.ipynb#X15sZmlsZQ%3D%3D?line=8'>9</a>\u001b[0m \u001b[39m\"\"\"\u001b[39;00m\n\u001b[0;32m     <a href='vscode-notebook-cell:/c%3A/Users/Utilisateur/Desktop/Ulaval/A23/NLP/Travaux-pratiques-NLP/tp1_2023/tp1_2023/t2_completer_proverbes.ipynb#X15sZmlsZQ%3D%3D?line=10'>11</a>\u001b[0m \u001b[39m# Votre code à partir d'ici...  \u001b[39;00m\n\u001b[1;32m---> <a href='vscode-notebook-cell:/c%3A/Users/Utilisateur/Desktop/Ulaval/A23/NLP/Travaux-pratiques-NLP/tp1_2023/tp1_2023/t2_completer_proverbes.ipynb#X15sZmlsZQ%3D%3D?line=11'>12</a>\u001b[0m vocabulary \u001b[39m=\u001b[39m build_vocabulary(proverbs)\n\u001b[0;32m     <a href='vscode-notebook-cell:/c%3A/Users/Utilisateur/Desktop/Ulaval/A23/NLP/Travaux-pratiques-NLP/tp1_2023/tp1_2023/t2_completer_proverbes.ipynb#X15sZmlsZQ%3D%3D?line=13'>14</a>\u001b[0m unigram \u001b[39m=\u001b[39m get_ngrams(proverbs, n\u001b[39m=\u001b[39m\u001b[39m1\u001b[39m)\n\u001b[0;32m     <a href='vscode-notebook-cell:/c%3A/Users/Utilisateur/Desktop/Ulaval/A23/NLP/Travaux-pratiques-NLP/tp1_2023/tp1_2023/t2_completer_proverbes.ipynb#X15sZmlsZQ%3D%3D?line=14'>15</a>\u001b[0m bigram \u001b[39m=\u001b[39m get_ngrams(proverbs, n\u001b[39m=\u001b[39m\u001b[39m2\u001b[39m)\n",
      "\u001b[1;32mc:\\Users\\Utilisateur\\Desktop\\Ulaval\\A23\\NLP\\Travaux-pratiques-NLP\\tp1_2023\\tp1_2023\\t2_completer_proverbes.ipynb Cell 13\u001b[0m line \u001b[0;36m4\n\u001b[0;32m      <a href='vscode-notebook-cell:/c%3A/Users/Utilisateur/Desktop/Ulaval/A23/NLP/Travaux-pratiques-NLP/tp1_2023/tp1_2023/t2_completer_proverbes.ipynb#X15sZmlsZQ%3D%3D?line=1'>2</a>\u001b[0m all_unigrams \u001b[39m=\u001b[39m \u001b[39mlist\u001b[39m()\n\u001b[0;32m      <a href='vscode-notebook-cell:/c%3A/Users/Utilisateur/Desktop/Ulaval/A23/NLP/Travaux-pratiques-NLP/tp1_2023/tp1_2023/t2_completer_proverbes.ipynb#X15sZmlsZQ%3D%3D?line=2'>3</a>\u001b[0m \u001b[39mfor\u001b[39;00m sentence \u001b[39min\u001b[39;00m text_list:\n\u001b[1;32m----> <a href='vscode-notebook-cell:/c%3A/Users/Utilisateur/Desktop/Ulaval/A23/NLP/Travaux-pratiques-NLP/tp1_2023/tp1_2023/t2_completer_proverbes.ipynb#X15sZmlsZQ%3D%3D?line=3'>4</a>\u001b[0m     word_list \u001b[39m=\u001b[39m word_tokenize(sentence\u001b[39m.\u001b[39;49mlower())\n\u001b[0;32m      <a href='vscode-notebook-cell:/c%3A/Users/Utilisateur/Desktop/Ulaval/A23/NLP/Travaux-pratiques-NLP/tp1_2023/tp1_2023/t2_completer_proverbes.ipynb#X15sZmlsZQ%3D%3D?line=4'>5</a>\u001b[0m     all_unigrams \u001b[39m=\u001b[39m all_unigrams \u001b[39m+\u001b[39m word_list\n\u001b[0;32m      <a href='vscode-notebook-cell:/c%3A/Users/Utilisateur/Desktop/Ulaval/A23/NLP/Travaux-pratiques-NLP/tp1_2023/tp1_2023/t2_completer_proverbes.ipynb#X15sZmlsZQ%3D%3D?line=5'>6</a>\u001b[0m voc \u001b[39m=\u001b[39m \u001b[39mset\u001b[39m(all_unigrams)\n",
      "File \u001b[1;32m~\\AppData\\Local\\Packages\\PythonSoftwareFoundation.Python.3.10_qbz5n2kfra8p0\\LocalCache\\local-packages\\Python310\\site-packages\\nltk\\tokenize\\__init__.py:129\u001b[0m, in \u001b[0;36mword_tokenize\u001b[1;34m(text, language, preserve_line)\u001b[0m\n\u001b[0;32m    114\u001b[0m \u001b[39mdef\u001b[39;00m \u001b[39mword_tokenize\u001b[39m(text, language\u001b[39m=\u001b[39m\u001b[39m\"\u001b[39m\u001b[39menglish\u001b[39m\u001b[39m\"\u001b[39m, preserve_line\u001b[39m=\u001b[39m\u001b[39mFalse\u001b[39;00m):\n\u001b[0;32m    115\u001b[0m \u001b[39m    \u001b[39m\u001b[39m\"\"\"\u001b[39;00m\n\u001b[0;32m    116\u001b[0m \u001b[39m    Return a tokenized copy of *text*,\u001b[39;00m\n\u001b[0;32m    117\u001b[0m \u001b[39m    using NLTK's recommended word tokenizer\u001b[39;00m\n\u001b[1;32m   (...)\u001b[0m\n\u001b[0;32m    127\u001b[0m \u001b[39m    :type preserve_line: bool\u001b[39;00m\n\u001b[0;32m    128\u001b[0m \u001b[39m    \"\"\"\u001b[39;00m\n\u001b[1;32m--> 129\u001b[0m     sentences \u001b[39m=\u001b[39m [text] \u001b[39mif\u001b[39;00m preserve_line \u001b[39melse\u001b[39;00m sent_tokenize(text, language)\n\u001b[0;32m    130\u001b[0m     \u001b[39mreturn\u001b[39;00m [\n\u001b[0;32m    131\u001b[0m         token \u001b[39mfor\u001b[39;00m sent \u001b[39min\u001b[39;00m sentences \u001b[39mfor\u001b[39;00m token \u001b[39min\u001b[39;00m _treebank_word_tokenizer\u001b[39m.\u001b[39mtokenize(sent)\n\u001b[0;32m    132\u001b[0m     ]\n",
      "File \u001b[1;32m~\\AppData\\Local\\Packages\\PythonSoftwareFoundation.Python.3.10_qbz5n2kfra8p0\\LocalCache\\local-packages\\Python310\\site-packages\\nltk\\tokenize\\__init__.py:106\u001b[0m, in \u001b[0;36msent_tokenize\u001b[1;34m(text, language)\u001b[0m\n\u001b[0;32m     96\u001b[0m \u001b[39mdef\u001b[39;00m \u001b[39msent_tokenize\u001b[39m(text, language\u001b[39m=\u001b[39m\u001b[39m\"\u001b[39m\u001b[39menglish\u001b[39m\u001b[39m\"\u001b[39m):\n\u001b[0;32m     97\u001b[0m \u001b[39m    \u001b[39m\u001b[39m\"\"\"\u001b[39;00m\n\u001b[0;32m     98\u001b[0m \u001b[39m    Return a sentence-tokenized copy of *text*,\u001b[39;00m\n\u001b[0;32m     99\u001b[0m \u001b[39m    using NLTK's recommended sentence tokenizer\u001b[39;00m\n\u001b[1;32m   (...)\u001b[0m\n\u001b[0;32m    104\u001b[0m \u001b[39m    :param language: the model name in the Punkt corpus\u001b[39;00m\n\u001b[0;32m    105\u001b[0m \u001b[39m    \"\"\"\u001b[39;00m\n\u001b[1;32m--> 106\u001b[0m     tokenizer \u001b[39m=\u001b[39m load(\u001b[39mf\u001b[39;49m\u001b[39m\"\u001b[39;49m\u001b[39mtokenizers/punkt/\u001b[39;49m\u001b[39m{\u001b[39;49;00mlanguage\u001b[39m}\u001b[39;49;00m\u001b[39m.pickle\u001b[39;49m\u001b[39m\"\u001b[39;49m)\n\u001b[0;32m    107\u001b[0m     \u001b[39mreturn\u001b[39;00m tokenizer\u001b[39m.\u001b[39mtokenize(text)\n",
      "File \u001b[1;32m~\\AppData\\Local\\Packages\\PythonSoftwareFoundation.Python.3.10_qbz5n2kfra8p0\\LocalCache\\local-packages\\Python310\\site-packages\\nltk\\data.py:750\u001b[0m, in \u001b[0;36mload\u001b[1;34m(resource_url, format, cache, verbose, logic_parser, fstruct_reader, encoding)\u001b[0m\n\u001b[0;32m    747\u001b[0m     \u001b[39mprint\u001b[39m(\u001b[39mf\u001b[39m\u001b[39m\"\u001b[39m\u001b[39m<<Loading \u001b[39m\u001b[39m{\u001b[39;00mresource_url\u001b[39m}\u001b[39;00m\u001b[39m>>\u001b[39m\u001b[39m\"\u001b[39m)\n\u001b[0;32m    749\u001b[0m \u001b[39m# Load the resource.\u001b[39;00m\n\u001b[1;32m--> 750\u001b[0m opened_resource \u001b[39m=\u001b[39m _open(resource_url)\n\u001b[0;32m    752\u001b[0m \u001b[39mif\u001b[39;00m \u001b[39mformat\u001b[39m \u001b[39m==\u001b[39m \u001b[39m\"\u001b[39m\u001b[39mraw\u001b[39m\u001b[39m\"\u001b[39m:\n\u001b[0;32m    753\u001b[0m     resource_val \u001b[39m=\u001b[39m opened_resource\u001b[39m.\u001b[39mread()\n",
      "File \u001b[1;32m~\\AppData\\Local\\Packages\\PythonSoftwareFoundation.Python.3.10_qbz5n2kfra8p0\\LocalCache\\local-packages\\Python310\\site-packages\\nltk\\data.py:876\u001b[0m, in \u001b[0;36m_open\u001b[1;34m(resource_url)\u001b[0m\n\u001b[0;32m    873\u001b[0m protocol, path_ \u001b[39m=\u001b[39m split_resource_url(resource_url)\n\u001b[0;32m    875\u001b[0m \u001b[39mif\u001b[39;00m protocol \u001b[39mis\u001b[39;00m \u001b[39mNone\u001b[39;00m \u001b[39mor\u001b[39;00m protocol\u001b[39m.\u001b[39mlower() \u001b[39m==\u001b[39m \u001b[39m\"\u001b[39m\u001b[39mnltk\u001b[39m\u001b[39m\"\u001b[39m:\n\u001b[1;32m--> 876\u001b[0m     \u001b[39mreturn\u001b[39;00m find(path_, path \u001b[39m+\u001b[39;49m [\u001b[39m\"\u001b[39;49m\u001b[39m\"\u001b[39;49m])\u001b[39m.\u001b[39mopen()\n\u001b[0;32m    877\u001b[0m \u001b[39melif\u001b[39;00m protocol\u001b[39m.\u001b[39mlower() \u001b[39m==\u001b[39m \u001b[39m\"\u001b[39m\u001b[39mfile\u001b[39m\u001b[39m\"\u001b[39m:\n\u001b[0;32m    878\u001b[0m     \u001b[39m# urllib might not use mode='rb', so handle this one ourselves:\u001b[39;00m\n\u001b[0;32m    879\u001b[0m     \u001b[39mreturn\u001b[39;00m find(path_, [\u001b[39m\"\u001b[39m\u001b[39m\"\u001b[39m])\u001b[39m.\u001b[39mopen()\n",
      "File \u001b[1;32m~\\AppData\\Local\\Packages\\PythonSoftwareFoundation.Python.3.10_qbz5n2kfra8p0\\LocalCache\\local-packages\\Python310\\site-packages\\nltk\\data.py:583\u001b[0m, in \u001b[0;36mfind\u001b[1;34m(resource_name, paths)\u001b[0m\n\u001b[0;32m    581\u001b[0m sep \u001b[39m=\u001b[39m \u001b[39m\"\u001b[39m\u001b[39m*\u001b[39m\u001b[39m\"\u001b[39m \u001b[39m*\u001b[39m \u001b[39m70\u001b[39m\n\u001b[0;32m    582\u001b[0m resource_not_found \u001b[39m=\u001b[39m \u001b[39mf\u001b[39m\u001b[39m\"\u001b[39m\u001b[39m\\n\u001b[39;00m\u001b[39m{\u001b[39;00msep\u001b[39m}\u001b[39;00m\u001b[39m\\n\u001b[39;00m\u001b[39m{\u001b[39;00mmsg\u001b[39m}\u001b[39;00m\u001b[39m\\n\u001b[39;00m\u001b[39m{\u001b[39;00msep\u001b[39m}\u001b[39;00m\u001b[39m\\n\u001b[39;00m\u001b[39m\"\u001b[39m\n\u001b[1;32m--> 583\u001b[0m \u001b[39mraise\u001b[39;00m \u001b[39mLookupError\u001b[39;00m(resource_not_found)\n",
      "\u001b[1;31mLookupError\u001b[0m: \n**********************************************************************\n  Resource \u001b[93mpunkt\u001b[0m not found.\n  Please use the NLTK Downloader to obtain the resource:\n\n  \u001b[31m>>> import nltk\n  >>> nltk.download('punkt')\n  \u001b[0m\n  For more information see: https://www.nltk.org/data.html\n\n  Attempted to load \u001b[93mtokenizers/punkt/english.pickle\u001b[0m\n\n  Searched in:\n    - 'C:\\\\Users\\\\Utilisateur/nltk_data'\n    - 'C:\\\\Program Files\\\\WindowsApps\\\\PythonSoftwareFoundation.Python.3.10_3.10.3056.0_x64__qbz5n2kfra8p0\\\\nltk_data'\n    - 'C:\\\\Program Files\\\\WindowsApps\\\\PythonSoftwareFoundation.Python.3.10_3.10.3056.0_x64__qbz5n2kfra8p0\\\\share\\\\nltk_data'\n    - 'C:\\\\Program Files\\\\WindowsApps\\\\PythonSoftwareFoundation.Python.3.10_3.10.3056.0_x64__qbz5n2kfra8p0\\\\lib\\\\nltk_data'\n    - 'C:\\\\Users\\\\Utilisateur\\\\AppData\\\\Roaming\\\\nltk_data'\n    - 'C:\\\\nltk_data'\n    - 'D:\\\\nltk_data'\n    - 'E:\\\\nltk_data'\n    - ''\n**********************************************************************\n"
     ]
    }
   ],
   "source": [
    "import nltk\n",
    "from nltk.util import ngrams, pad_sequence\n",
    "from nltk import word_tokenize\n",
    "from nltk.lm.models import Laplace\n",
    "from nltk import word_tokenize, bigrams, trigrams\n",
    "\n",
    "\n",
    "# autres librairies à importer pour la partie sur les N-grammes?\n",
    "\n",
    "BOS = '<BOS>'  # Jeton de début de proverbe\n",
    "EOS = '<EOS>'  # Jeton de fin de proverbe\n",
    "\n",
    "models = train_models(proverbs)  # les modèles entraînés - [1: modele_unigramme, 2: modele_bigramme, 3: modele_trigramme] "
   ]
  },
  {
   "cell_type": "code",
   "execution_count": 8,
   "id": "9c739125",
   "metadata": {},
   "outputs": [],
   "source": [
    "def build_vocabulary(text_list):\n",
    "    all_unigrams = list()\n",
    "    for sentence in text_list:\n",
    "        word_list = word_tokenize(sentence.lower())\n",
    "        all_unigrams = all_unigrams + word_list\n",
    "    voc = set(all_unigrams)\n",
    "    voc.add(BOS)\n",
    "    voc.add(EOS)\n",
    "    return list(voc)\n"
   ]
  },
  {
   "cell_type": "code",
   "execution_count": 9,
   "id": "6e460425",
   "metadata": {},
   "outputs": [],
   "source": [
    "\n",
    "def get_ngrams(text_list, n=2):\n",
    "    all_ngrams = list()\n",
    "    for sentence in text_list:\n",
    "        tokens = word_tokenize(sentence.lower())\n",
    "        padded_sent = list(pad_sequence(tokens, pad_left=True, left_pad_symbol=BOS, pad_right=True, right_pad_symbol=EOS, n=n))\n",
    "        all_ngrams = all_ngrams + list(ngrams(padded_sent, n=n))      \n",
    "    return all_ngrams"
   ]
  },
  {
   "cell_type": "code",
   "execution_count": 10,
   "id": "03383121",
   "metadata": {},
   "outputs": [],
   "source": [
    "def train_models(proverbs):\n",
    "    \"\"\" Vous ajoutez à partir d'ici le code dont vous avez besoin\n",
    "        pour construire les différents modèles N-grammes.\n",
    "        Cette fonction doit construire tous les modèles en une seule passe.\n",
    "        Voir les consignes de l'énoncé du travail pratique concernant les modèles à entraîner.\n",
    "\n",
    "        Vous pouvez ajouter les fonctions/méthodes et variables que vous jugerez nécessaire.\n",
    "        Merci de ne pas modifier la signature et le comportement de cette fonction (nom, arguments, sauvegarde des modèles).\n",
    "    \"\"\"\n",
    "\n",
    "    # Votre code à partir d'ici...  \n",
    "    vocabulary = build_vocabulary(proverbs)\n",
    "    \n",
    "    unigram = get_ngrams(proverbs, n=1)\n",
    "    bigram = get_ngrams(proverbs, n=2)\n",
    "    trigram = get_ngrams(proverbs, n=3)\n",
    "    #print(bigram)\n",
    "\n",
    "    model1 = Laplace(1)\n",
    "    model1.fit([unigram], vocabulary_text=vocabulary)\n",
    "    \n",
    "    model2 = Laplace(2)\n",
    "    model2.fit([bigram], vocabulary_text=vocabulary)\n",
    "    \n",
    "    model3 = Laplace(3)\n",
    "    model3.fit([trigram], vocabulary_text=vocabulary)\n",
    "\n",
    "    \n",
    "    # Sauvegarde de vos modèles \n",
    "    models = {\n",
    "        1: model1,\n",
    "        2: model2,\n",
    "        3: model3\n",
    "    }\n",
    "    return models\n",
    "    "
   ]
  },
  {
   "cell_type": "code",
   "execution_count": null,
   "id": "dd160430",
   "metadata": {},
   "outputs": [],
   "source": []
  },
  {
   "cell_type": "code",
   "execution_count": null,
   "id": "b755d014",
   "metadata": {},
   "outputs": [],
   "source": []
  },
  {
   "cell_type": "markdown",
   "id": "0a05719e",
   "metadata": {},
   "source": [
    "## Section 4 - Compléter un proverbe"
   ]
  },
  {
   "cell_type": "code",
   "execution_count": null,
   "id": "fdf0b1b1",
   "metadata": {},
   "outputs": [],
   "source": [
    "# def fill_masked_proverb(masked, word_list, n=3, criteria=\"perplexity\"):\n",
    "#     \"\"\" Fonction qui complète un texte à trous (des mots masqués) en ajoutant \n",
    "#         les bons mots aux bons endroits (un \"cloze test\").\n",
    "\n",
    "#         Le paramètre criteria indique la mesure qu'on utilise \n",
    "#         pour choisir le mot le plus approprié: \"logprob\" ou \"perplexity\".\n",
    "#         On retourne l'estimation de cette mesure sur le proverbe complet,\n",
    "#         c.-à-d. en utilisant tous les mots du proverbe.\n",
    "\n",
    "#         Le paramètre n désigne le modèle utilisé.\n",
    "#         1 - unigramme NLTK, 2 - bigramme NLTK, 3 - trigramme NLTK\n",
    "        \n",
    "#         Cette fonction retourne la solution (le proverbe complété) et \n",
    "#         la valeur de logprob ou perplexité (selon le paramètre en entrée de la fonction). \n",
    "#     \"\"\"\n",
    "\n",
    "#     # Votre code à partir d'ici. Vous pouvez modifier comme bon vous semble.\n",
    "#     result = replace_stars_with_words(masked, word_list[0], word_list[1]).split()\n",
    "#     result2 = replace_stars_with_words(masked, word_list[1], word_list[0]).split()\n",
    "\n",
    "#     display(models[n].perplexity(result))\n",
    "#     display(models[n].logscore(result))\n",
    "#     display(models[n].perplexity(result2))\n",
    "#     display(models[n].logscore(result2))\n",
    "\n",
    "#     #---- À retirer à partir d'ici ----------\n",
    "#     best_perplexity = 1500\n",
    "#     best_logprob = -100\n",
    "#     result = 'bonne femme fait le bon homme'\n",
    "#     #---- À retirer ce qui précède ----------\n",
    "\n",
    "#     if criteria == \"perplexity\":\n",
    "#         score = best_perplexity\n",
    "#     else:\n",
    "#         score = best_logprob\n",
    "#     return result, score"
   ]
  },
  {
   "cell_type": "markdown",
   "id": "9df87177",
   "metadata": {},
   "source": [
    "New code"
   ]
  },
  {
   "cell_type": "code",
   "execution_count": null,
   "id": "c8ed1dc3",
   "metadata": {},
   "outputs": [],
   "source": [
    "from itertools import permutations\n",
    "\n",
    "def fill_masked_proverb(masked, word_list, n=3, criteria=\"perplexity\"):\n",
    "    \n",
    "    #firstPartIndex = masked.split().index('*')\n",
    "    #print(firstPartIndex)\n",
    "    \n",
    "    # Tokenize the masked proverb\n",
    "    proverb_tokens = nltk.word_tokenize(masked)\n",
    "\n",
    "    # Create the N-gram model based on the specified 'n'\n",
    "    ngram_model = models[n]\n",
    "\n",
    "    # Initialize variables to store the best result and score\n",
    "    best_result = \"\"\n",
    "    best_score = float('inf') if criteria == \"perplexity\" else float('-inf')\n",
    "\n",
    "    # Generate all possible word permutations (4 combinations)\n",
    "    word_permutations = list(permutations(word_list, 2))\n",
    "\n",
    "    # Iterate through each word permutation\n",
    "    for word1, word2 in word_permutations:\n",
    "        # Replace the '*' in the proverb with the current words\n",
    "        current_result = replace_stars_with_words(masked, word1, word2)\n",
    "        completed_proverb = replace_stars_with_words(masked, word1, word2)\n",
    "        \n",
    "        \n",
    "        # Calculate logprob or perplexity based on the chosen criteria\n",
    "        if criteria == \"perplexity\":\n",
    "            completed_proverb = get_ngrams([completed_proverb], n)\n",
    "            score = ngram_model.perplexity(completed_proverb)\n",
    "            # display(\"perplex of: \")\n",
    "            # display(completed_proverb)\n",
    "            # display(score)\n",
    "            # print(current_result + str(score))\n",
    "        else:\n",
    "            #score = ngram_model.logscore(current_result.split()[-1],current_result.split()[:-1])\n",
    "            score = ngram_model.logscore(completed_proverb)\n",
    "\n",
    "        # Update the best result and score if the current score is better\n",
    "        if (criteria == \"perplexity\" and score < best_score) or (criteria == \"logprob\" and score > best_score):\n",
    "            best_score = score\n",
    "            best_result = current_result\n",
    "\n",
    "    return best_result, best_score"
   ]
  },
  {
   "cell_type": "markdown",
   "id": "1cbf4bc8",
   "metadata": {},
   "source": [
    "Un exemple pour illustrer l'utilisation de cette fonction"
   ]
  },
  {
   "cell_type": "markdown",
   "id": "88d47d5e",
   "metadata": {},
   "source": []
  },
  {
   "cell_type": "code",
   "execution_count": null,
   "id": "5dcfecbc",
   "metadata": {},
   "outputs": [
    {
     "data": {
      "text/plain": [
       "('ami de variable est bien table', -12.126704472843189)"
      ]
     },
     "execution_count": 178,
     "metadata": {},
     "output_type": "execute_result"
    }
   ],
   "source": [
    "masked =  \"ami de * est bien **\"   \n",
    "#word_list = ['table', 'variable']    \n",
    "word_list = [ 'variable','table']    \n",
    "fill_masked_proverb(masked, word_list, n=3, criteria=\"logprob\")"
   ]
  },
  {
   "cell_type": "markdown",
   "id": "5720e938",
   "metadata": {},
   "source": [
    "## Section 5 - Expérimentations et analyse de vos résultats\n",
    "\n",
    "Décrivez ici les résultats obtenus et présentez l'évaluation obtenue sur le fichier de test. Vous pouvez ajouter le nombre de cellules que vous souhaitez. "
   ]
  },
  {
   "cell_type": "code",
   "execution_count": null,
   "id": "bb078efc",
   "metadata": {},
   "outputs": [
    {
     "data": {
      "text/plain": [
       "\"perplexity: 1 ->('a beau vient qui mentir de loin', 434.15031558678913)\""
      ]
     },
     "metadata": {},
     "output_type": "display_data"
    },
    {
     "data": {
      "text/plain": [
       "\"logprob: 1 ->('a beau vient qui mentir de loin', -15.278993850906799)\""
      ]
     },
     "metadata": {},
     "output_type": "display_data"
    },
    {
     "data": {
      "text/plain": [
       "\"perplexity: 2 ->('a beau mentir qui vient de loin', 1274.5300428347618)\""
      ]
     },
     "metadata": {},
     "output_type": "display_data"
    },
    {
     "data": {
      "text/plain": [
       "\"logprob: 2 ->('a beau vient qui mentir de loin', -12.126704472843189)\""
      ]
     },
     "metadata": {},
     "output_type": "display_data"
    },
    {
     "data": {
      "text/plain": [
       "\"perplexity: 3 ->('a beau mentir qui vient de loin', 1803.3372555720612)\""
      ]
     },
     "metadata": {},
     "output_type": "display_data"
    },
    {
     "data": {
      "text/plain": [
       "\"logprob: 3 ->('a beau vient qui mentir de loin', -12.126704472843189)\""
      ]
     },
     "metadata": {},
     "output_type": "display_data"
    },
    {
     "data": {
      "text/plain": [
       "\"perplexity: 1 ->('a loin mentir qui vient de beau', 434.1503155867886)\""
      ]
     },
     "metadata": {},
     "output_type": "display_data"
    },
    {
     "data": {
      "text/plain": [
       "\"logprob: 1 ->('a beau mentir qui vient de loin', -15.278993850906799)\""
      ]
     },
     "metadata": {},
     "output_type": "display_data"
    },
    {
     "data": {
      "text/plain": [
       "\"perplexity: 2 ->('a beau mentir qui vient de loin', 1274.5300428347618)\""
      ]
     },
     "metadata": {},
     "output_type": "display_data"
    },
    {
     "data": {
      "text/plain": [
       "\"logprob: 2 ->('a beau mentir qui vient de loin', -12.126704472843189)\""
      ]
     },
     "metadata": {},
     "output_type": "display_data"
    },
    {
     "data": {
      "text/plain": [
       "\"perplexity: 3 ->('a beau mentir qui vient de loin', 1803.3372555720612)\""
      ]
     },
     "metadata": {},
     "output_type": "display_data"
    },
    {
     "data": {
      "text/plain": [
       "\"logprob: 3 ->('a beau mentir qui vient de loin', -12.126704472843189)\""
      ]
     },
     "metadata": {},
     "output_type": "display_data"
    },
    {
     "data": {
      "text/plain": [
       "\"perplexity: 1 ->('l’larron fait le occasion', 294.2095232621012)\""
      ]
     },
     "metadata": {},
     "output_type": "display_data"
    },
    {
     "data": {
      "text/plain": [
       "\"logprob: 1 ->('l’larron fait le occasion', -15.278993850906799)\""
      ]
     },
     "metadata": {},
     "output_type": "display_data"
    },
    {
     "data": {
      "text/plain": [
       "\"perplexity: 2 ->('l’occasion fait le larron', 387.0857519607624)\""
      ]
     },
     "metadata": {},
     "output_type": "display_data"
    },
    {
     "data": {
      "text/plain": [
       "\"logprob: 2 ->('l’larron fait le occasion', -12.126704472843189)\""
      ]
     },
     "metadata": {},
     "output_type": "display_data"
    },
    {
     "data": {
      "text/plain": [
       "\"perplexity: 3 ->('l’occasion fait le larron', 679.8140555421946)\""
      ]
     },
     "metadata": {},
     "output_type": "display_data"
    },
    {
     "data": {
      "text/plain": [
       "\"logprob: 3 ->('l’larron fait le occasion', -12.126704472843189)\""
      ]
     },
     "metadata": {},
     "output_type": "display_data"
    },
    {
     "data": {
      "text/plain": [
       "\"perplexity: 1 ->('aidera-toi, le ciel t’aide', 559.2972069523098)\""
      ]
     },
     "metadata": {},
     "output_type": "display_data"
    },
    {
     "data": {
      "text/plain": [
       "\"logprob: 1 ->('aidera-toi, le ciel t’aide', -15.278993850906799)\""
      ]
     },
     "metadata": {},
     "output_type": "display_data"
    },
    {
     "data": {
      "text/plain": [
       "\"perplexity: 2 ->('aidera-toi, le ciel t’aide', 1112.741343977163)\""
      ]
     },
     "metadata": {},
     "output_type": "display_data"
    },
    {
     "data": {
      "text/plain": [
       "\"logprob: 2 ->('aidera-toi, le ciel t’aide', -12.126704472843189)\""
      ]
     },
     "metadata": {},
     "output_type": "display_data"
    },
    {
     "data": {
      "text/plain": [
       "\"perplexity: 3 ->('aide-toi, le ciel t’aidera', 2376.010535293619)\""
      ]
     },
     "metadata": {},
     "output_type": "display_data"
    },
    {
     "data": {
      "text/plain": [
       "\"logprob: 3 ->('aidera-toi, le ciel t’aide', -12.126704472843189)\""
      ]
     },
     "metadata": {},
     "output_type": "display_data"
    },
    {
     "data": {
      "text/plain": [
       "\"perplexity: 1 ->('année de année, gelée de blé', 671.8262356027944)\""
      ]
     },
     "metadata": {},
     "output_type": "display_data"
    },
    {
     "data": {
      "text/plain": [
       "\"logprob: 1 ->('année de année, gelée de blé', -15.278993850906799)\""
      ]
     },
     "metadata": {},
     "output_type": "display_data"
    },
    {
     "data": {
      "text/plain": [
       "\"perplexity: 2 ->('année de gelée, année de blé', 1533.8494257688799)\""
      ]
     },
     "metadata": {},
     "output_type": "display_data"
    },
    {
     "data": {
      "text/plain": [
       "\"logprob: 2 ->('année de année, gelée de blé', -12.126704472843189)\""
      ]
     },
     "metadata": {},
     "output_type": "display_data"
    },
    {
     "data": {
      "text/plain": [
       "\"perplexity: 3 ->('année de gelée, année de blé', 1812.8699134684505)\""
      ]
     },
     "metadata": {},
     "output_type": "display_data"
    },
    {
     "data": {
      "text/plain": [
       "\"logprob: 3 ->('année de année, gelée de blé', -12.126704472843189)\""
      ]
     },
     "metadata": {},
     "output_type": "display_data"
    },
    {
     "data": {
      "text/plain": [
       "\"perplexity: 1 ->('après la beau, le pluie temps', 292.99932975288795)\""
      ]
     },
     "metadata": {},
     "output_type": "display_data"
    },
    {
     "data": {
      "text/plain": [
       "\"logprob: 1 ->('après la beau, le pluie temps', -15.278993850906799)\""
      ]
     },
     "metadata": {},
     "output_type": "display_data"
    },
    {
     "data": {
      "text/plain": [
       "\"perplexity: 2 ->('après la pluie, le beau temps', 549.795128922859)\""
      ]
     },
     "metadata": {},
     "output_type": "display_data"
    },
    {
     "data": {
      "text/plain": [
       "\"logprob: 2 ->('après la beau, le pluie temps', -12.126704472843189)\""
      ]
     },
     "metadata": {},
     "output_type": "display_data"
    },
    {
     "data": {
      "text/plain": [
       "\"perplexity: 3 ->('après la pluie, le beau temps', 1107.8713269707812)\""
      ]
     },
     "metadata": {},
     "output_type": "display_data"
    },
    {
     "data": {
      "text/plain": [
       "\"logprob: 3 ->('après la beau, le pluie temps', -12.126704472843189)\""
      ]
     },
     "metadata": {},
     "output_type": "display_data"
    },
    {
     "data": {
      "text/plain": [
       "\"perplexity: 1 ->('aux échecs, les fous sont les plus près des rois', 458.2571256544822)\""
      ]
     },
     "metadata": {},
     "output_type": "display_data"
    },
    {
     "data": {
      "text/plain": [
       "\"logprob: 1 ->('aux échecs, les fous sont les plus près des rois', -15.278993850906799)\""
      ]
     },
     "metadata": {},
     "output_type": "display_data"
    },
    {
     "data": {
      "text/plain": [
       "\"perplexity: 2 ->('aux échecs, les fous sont les plus près des rois', 756.6905234977802)\""
      ]
     },
     "metadata": {},
     "output_type": "display_data"
    },
    {
     "data": {
      "text/plain": [
       "\"logprob: 2 ->('aux échecs, les fous sont les plus près des rois', -12.126704472843189)\""
      ]
     },
     "metadata": {},
     "output_type": "display_data"
    },
    {
     "data": {
      "text/plain": [
       "\"perplexity: 3 ->('aux échecs, les fous sont les plus près des rois', 1557.1067673680873)\""
      ]
     },
     "metadata": {},
     "output_type": "display_data"
    },
    {
     "data": {
      "text/plain": [
       "\"logprob: 3 ->('aux échecs, les fous sont les plus près des rois', -12.126704472843189)\""
      ]
     },
     "metadata": {},
     "output_type": "display_data"
    },
    {
     "data": {
      "text/plain": [
       "\"perplexity: 1 ->('ce que femme veut, dieu le veut', 199.92761896076655)\""
      ]
     },
     "metadata": {},
     "output_type": "display_data"
    },
    {
     "data": {
      "text/plain": [
       "\"logprob: 1 ->('ce que femme veut, dieu le veut', -15.278993850906799)\""
      ]
     },
     "metadata": {},
     "output_type": "display_data"
    },
    {
     "data": {
      "text/plain": [
       "\"perplexity: 2 ->('ce que femme veut, dieu le veut', 723.0899272440836)\""
      ]
     },
     "metadata": {},
     "output_type": "display_data"
    },
    {
     "data": {
      "text/plain": [
       "\"logprob: 2 ->('ce que femme veut, dieu le veut', -12.126704472843189)\""
      ]
     },
     "metadata": {},
     "output_type": "display_data"
    },
    {
     "data": {
      "text/plain": [
       "\"perplexity: 3 ->('ce que femme veut, dieu le veut', 1196.7163999336085)\""
      ]
     },
     "metadata": {},
     "output_type": "display_data"
    },
    {
     "data": {
      "text/plain": [
       "\"logprob: 3 ->('ce que femme veut, dieu le veut', -12.126704472843189)\""
      ]
     },
     "metadata": {},
     "output_type": "display_data"
    },
    {
     "data": {
      "text/plain": [
       "\"perplexity: 1 ->('bien mal profite ne acquis jamais', 943.3748299993829)\""
      ]
     },
     "metadata": {},
     "output_type": "display_data"
    },
    {
     "data": {
      "text/plain": [
       "\"logprob: 1 ->('bien mal profite ne acquis jamais', -15.278993850906799)\""
      ]
     },
     "metadata": {},
     "output_type": "display_data"
    },
    {
     "data": {
      "text/plain": [
       "\"perplexity: 2 ->('bien mal acquis ne profite jamais', 1288.890734846945)\""
      ]
     },
     "metadata": {},
     "output_type": "display_data"
    },
    {
     "data": {
      "text/plain": [
       "\"logprob: 2 ->('bien mal profite ne acquis jamais', -12.126704472843189)\""
      ]
     },
     "metadata": {},
     "output_type": "display_data"
    },
    {
     "data": {
      "text/plain": [
       "\"perplexity: 3 ->('bien mal acquis ne profite jamais', 1416.2650759891033)\""
      ]
     },
     "metadata": {},
     "output_type": "display_data"
    },
    {
     "data": {
      "text/plain": [
       "\"logprob: 3 ->('bien mal profite ne acquis jamais', -12.126704472843189)\""
      ]
     },
     "metadata": {},
     "output_type": "display_data"
    },
    {
     "data": {
      "text/plain": [
       "\"perplexity: 1 ->('bon outils ne querelle pas ses ouvrier', 744.5506256726524)\""
      ]
     },
     "metadata": {},
     "output_type": "display_data"
    },
    {
     "data": {
      "text/plain": [
       "\"logprob: 1 ->('bon outils ne querelle pas ses ouvrier', -15.278993850906799)\""
      ]
     },
     "metadata": {},
     "output_type": "display_data"
    },
    {
     "data": {
      "text/plain": [
       "\"perplexity: 2 ->('bon ouvrier ne querelle pas ses outils', 1148.0503629535992)\""
      ]
     },
     "metadata": {},
     "output_type": "display_data"
    },
    {
     "data": {
      "text/plain": [
       "\"logprob: 2 ->('bon outils ne querelle pas ses ouvrier', -12.126704472843189)\""
      ]
     },
     "metadata": {},
     "output_type": "display_data"
    },
    {
     "data": {
      "text/plain": [
       "\"perplexity: 3 ->('bon ouvrier ne querelle pas ses outils', 1315.9389510520746)\""
      ]
     },
     "metadata": {},
     "output_type": "display_data"
    },
    {
     "data": {
      "text/plain": [
       "\"logprob: 3 ->('bon outils ne querelle pas ses ouvrier', -12.126704472843189)\""
      ]
     },
     "metadata": {},
     "output_type": "display_data"
    },
    {
     "data": {
      "text/plain": [
       "\"perplexity: 1 ->('ce n’est pas tous les fête jours', 214.04367830604437)\""
      ]
     },
     "metadata": {},
     "output_type": "display_data"
    },
    {
     "data": {
      "text/plain": [
       "\"logprob: 1 ->('ce n’est pas tous les fête jours', -15.278993850906799)\""
      ]
     },
     "metadata": {},
     "output_type": "display_data"
    },
    {
     "data": {
      "text/plain": [
       "\"perplexity: 2 ->('ce n’est pas tous les jours fête', 223.3179148965538)\""
      ]
     },
     "metadata": {},
     "output_type": "display_data"
    },
    {
     "data": {
      "text/plain": [
       "\"logprob: 2 ->('ce n’est pas tous les fête jours', -12.126704472843189)\""
      ]
     },
     "metadata": {},
     "output_type": "display_data"
    },
    {
     "data": {
      "text/plain": [
       "\"perplexity: 3 ->('ce n’est pas tous les jours fête', 448.1899617514355)\""
      ]
     },
     "metadata": {},
     "output_type": "display_data"
    },
    {
     "data": {
      "text/plain": [
       "\"logprob: 3 ->('ce n’est pas tous les fête jours', -12.126704472843189)\""
      ]
     },
     "metadata": {},
     "output_type": "display_data"
    },
    {
     "data": {
      "text/plain": [
       "\"perplexity: 1 ->('pour le fête, c’est tous les jours fou', 235.6020049179169)\""
      ]
     },
     "metadata": {},
     "output_type": "display_data"
    },
    {
     "data": {
      "text/plain": [
       "\"logprob: 1 ->('pour le fête, c’est tous les jours fou', -15.278993850906799)\""
      ]
     },
     "metadata": {},
     "output_type": "display_data"
    },
    {
     "data": {
      "text/plain": [
       "\"perplexity: 2 ->('pour le fou, c’est tous les jours fête', 393.78036189764686)\""
      ]
     },
     "metadata": {},
     "output_type": "display_data"
    },
    {
     "data": {
      "text/plain": [
       "\"logprob: 2 ->('pour le fête, c’est tous les jours fou', -12.126704472843189)\""
      ]
     },
     "metadata": {},
     "output_type": "display_data"
    },
    {
     "data": {
      "text/plain": [
       "\"perplexity: 3 ->('pour le fou, c’est tous les jours fête', 950.8258738005812)\""
      ]
     },
     "metadata": {},
     "output_type": "display_data"
    },
    {
     "data": {
      "text/plain": [
       "\"logprob: 3 ->('pour le fête, c’est tous les jours fou', -12.126704472843189)\""
      ]
     },
     "metadata": {},
     "output_type": "display_data"
    },
    {
     "data": {
      "text/plain": [
       "\"perplexity: 1 ->('dire et faire, sont deux', 246.59321837342426)\""
      ]
     },
     "metadata": {},
     "output_type": "display_data"
    },
    {
     "data": {
      "text/plain": [
       "\"logprob: 1 ->('dire et faire, sont deux', -15.278993850906799)\""
      ]
     },
     "metadata": {},
     "output_type": "display_data"
    },
    {
     "data": {
      "text/plain": [
       "\"perplexity: 2 ->('dire et faire, sont deux', 836.1471559804386)\""
      ]
     },
     "metadata": {},
     "output_type": "display_data"
    },
    {
     "data": {
      "text/plain": [
       "\"logprob: 2 ->('dire et faire, sont deux', -12.126704472843189)\""
      ]
     },
     "metadata": {},
     "output_type": "display_data"
    },
    {
     "data": {
      "text/plain": [
       "\"perplexity: 3 ->('dire et faire, sont deux', 1200.5147460427463)\""
      ]
     },
     "metadata": {},
     "output_type": "display_data"
    },
    {
     "data": {
      "text/plain": [
       "\"logprob: 3 ->('dire et faire, sont deux', -12.126704472843189)\""
      ]
     },
     "metadata": {},
     "output_type": "display_data"
    },
    {
     "data": {
      "text/plain": [
       "\"perplexity: 1 ->('mieux vaut prévenir que guérir', 935.3732551884195)\""
      ]
     },
     "metadata": {},
     "output_type": "display_data"
    },
    {
     "data": {
      "text/plain": [
       "\"logprob: 1 ->('mieux vaut prévenir que guérir', -15.278993850906799)\""
      ]
     },
     "metadata": {},
     "output_type": "display_data"
    },
    {
     "data": {
      "text/plain": [
       "\"perplexity: 2 ->('mieux vaut prévenir que guérir', 657.1576145141154)\""
      ]
     },
     "metadata": {},
     "output_type": "display_data"
    },
    {
     "data": {
      "text/plain": [
       "\"logprob: 2 ->('mieux vaut prévenir que guérir', -12.126704472843189)\""
      ]
     },
     "metadata": {},
     "output_type": "display_data"
    },
    {
     "data": {
      "text/plain": [
       "\"perplexity: 3 ->('mieux vaut prévenir que guérir', 769.36756133643)\""
      ]
     },
     "metadata": {},
     "output_type": "display_data"
    },
    {
     "data": {
      "text/plain": [
       "\"logprob: 3 ->('mieux vaut prévenir que guérir', -12.126704472843189)\""
      ]
     },
     "metadata": {},
     "output_type": "display_data"
    },
    {
     "data": {
      "text/plain": [
       "\"perplexity: 1 ->('d’un sac on ne peut tirer deux moutures', 403.91848590272986)\""
      ]
     },
     "metadata": {},
     "output_type": "display_data"
    },
    {
     "data": {
      "text/plain": [
       "\"logprob: 1 ->('d’un sac on ne peut tirer deux moutures', -15.278993850906799)\""
      ]
     },
     "metadata": {},
     "output_type": "display_data"
    },
    {
     "data": {
      "text/plain": [
       "\"perplexity: 2 ->('d’un sac on ne peut tirer deux moutures', 488.19155852476814)\""
      ]
     },
     "metadata": {},
     "output_type": "display_data"
    },
    {
     "data": {
      "text/plain": [
       "\"logprob: 2 ->('d’un sac on ne peut tirer deux moutures', -12.126704472843189)\""
      ]
     },
     "metadata": {},
     "output_type": "display_data"
    },
    {
     "data": {
      "text/plain": [
       "\"perplexity: 3 ->('d’un sac on ne peut tirer deux moutures', 1155.7701557752084)\""
      ]
     },
     "metadata": {},
     "output_type": "display_data"
    },
    {
     "data": {
      "text/plain": [
       "\"logprob: 3 ->('d’un sac on ne peut tirer deux moutures', -12.126704472843189)\""
      ]
     },
     "metadata": {},
     "output_type": "display_data"
    },
    {
     "data": {
      "text/plain": [
       "\"perplexity: 1 ->('à qui nul aide, dieu ne peut nuire', 375.52079963825605)\""
      ]
     },
     "metadata": {},
     "output_type": "display_data"
    },
    {
     "data": {
      "text/plain": [
       "\"logprob: 1 ->('à qui nul aide, dieu ne peut nuire', -15.278993850906799)\""
      ]
     },
     "metadata": {},
     "output_type": "display_data"
    },
    {
     "data": {
      "text/plain": [
       "\"perplexity: 2 ->('à qui dieu aide, nul ne peut nuire', 751.2648345803655)\""
      ]
     },
     "metadata": {},
     "output_type": "display_data"
    },
    {
     "data": {
      "text/plain": [
       "\"logprob: 2 ->('à qui nul aide, dieu ne peut nuire', -12.126704472843189)\""
      ]
     },
     "metadata": {},
     "output_type": "display_data"
    },
    {
     "data": {
      "text/plain": [
       "\"perplexity: 3 ->('à qui dieu aide, nul ne peut nuire', 1345.6322146824257)\""
      ]
     },
     "metadata": {},
     "output_type": "display_data"
    },
    {
     "data": {
      "text/plain": [
       "\"logprob: 3 ->('à qui nul aide, dieu ne peut nuire', -12.126704472843189)\""
      ]
     },
     "metadata": {},
     "output_type": "display_data"
    },
    {
     "data": {
      "text/plain": [
       "\"perplexity: 1 ->('il n’y a point de rose de cent jours', 254.75368721972123)\""
      ]
     },
     "metadata": {},
     "output_type": "display_data"
    },
    {
     "data": {
      "text/plain": [
       "\"logprob: 1 ->('il n’y a point de rose de cent jours', -15.278993850906799)\""
      ]
     },
     "metadata": {},
     "output_type": "display_data"
    },
    {
     "data": {
      "text/plain": [
       "\"perplexity: 2 ->('il n’y a point de rose de cent jours', 260.5325263406725)\""
      ]
     },
     "metadata": {},
     "output_type": "display_data"
    },
    {
     "data": {
      "text/plain": [
       "\"logprob: 2 ->('il n’y a point de rose de cent jours', -12.126704472843189)\""
      ]
     },
     "metadata": {},
     "output_type": "display_data"
    },
    {
     "data": {
      "text/plain": [
       "\"perplexity: 3 ->('il n’y a point de rose de cent jours', 424.6014121809335)\""
      ]
     },
     "metadata": {},
     "output_type": "display_data"
    },
    {
     "data": {
      "text/plain": [
       "\"logprob: 3 ->('il n’y a point de rose de cent jours', -12.126704472843189)\""
      ]
     },
     "metadata": {},
     "output_type": "display_data"
    },
    {
     "data": {
      "text/plain": [
       "\"perplexity: 1 ->('il faut le voir pour le croire', 261.6202283822203)\""
      ]
     },
     "metadata": {},
     "output_type": "display_data"
    },
    {
     "data": {
      "text/plain": [
       "\"logprob: 1 ->('il faut le voir pour le croire', -15.278993850906799)\""
      ]
     },
     "metadata": {},
     "output_type": "display_data"
    },
    {
     "data": {
      "text/plain": [
       "\"perplexity: 2 ->('il faut le voir pour le croire', 544.9483466042567)\""
      ]
     },
     "metadata": {},
     "output_type": "display_data"
    },
    {
     "data": {
      "text/plain": [
       "\"logprob: 2 ->('il faut le voir pour le croire', -12.126704472843189)\""
      ]
     },
     "metadata": {},
     "output_type": "display_data"
    },
    {
     "data": {
      "text/plain": [
       "\"perplexity: 3 ->('il faut le voir pour le croire', 813.5129741860222)\""
      ]
     },
     "metadata": {},
     "output_type": "display_data"
    },
    {
     "data": {
      "text/plain": [
       "\"logprob: 3 ->('il faut le voir pour le croire', -12.126704472843189)\""
      ]
     },
     "metadata": {},
     "output_type": "display_data"
    },
    {
     "data": {
      "text/plain": [
       "\"perplexity: 1 ->('on ne vend pas le poisson qui est encore dans la mer', 266.96538821223555)\""
      ]
     },
     "metadata": {},
     "output_type": "display_data"
    },
    {
     "data": {
      "text/plain": [
       "\"logprob: 1 ->('on ne vend pas le poisson qui est encore dans la mer', -15.278993850906799)\""
      ]
     },
     "metadata": {},
     "output_type": "display_data"
    },
    {
     "data": {
      "text/plain": [
       "\"perplexity: 2 ->('on ne vend pas le poisson qui est encore dans la mer', 490.44513347493694)\""
      ]
     },
     "metadata": {},
     "output_type": "display_data"
    },
    {
     "data": {
      "text/plain": [
       "\"logprob: 2 ->('on ne vend pas le poisson qui est encore dans la mer', -12.126704472843189)\""
      ]
     },
     "metadata": {},
     "output_type": "display_data"
    },
    {
     "data": {
      "text/plain": [
       "\"perplexity: 3 ->('on ne vend pas le poisson qui est encore dans la mer', 1140.570035768997)\""
      ]
     },
     "metadata": {},
     "output_type": "display_data"
    },
    {
     "data": {
      "text/plain": [
       "\"logprob: 3 ->('on ne vend pas le poisson qui est encore dans la mer', -12.126704472843189)\""
      ]
     },
     "metadata": {},
     "output_type": "display_data"
    },
    {
     "data": {
      "text/plain": [
       "\"perplexity: 1 ->('la langue d’un muet vaut mieux que celle d’un menteur', 243.97139262518937)\""
      ]
     },
     "metadata": {},
     "output_type": "display_data"
    },
    {
     "data": {
      "text/plain": [
       "\"logprob: 1 ->('la langue d’un muet vaut mieux que celle d’un menteur', -15.278993850906799)\""
      ]
     },
     "metadata": {},
     "output_type": "display_data"
    },
    {
     "data": {
      "text/plain": [
       "\"perplexity: 2 ->('la langue d’un muet vaut mieux que celle d’un menteur', 310.137284487743)\""
      ]
     },
     "metadata": {},
     "output_type": "display_data"
    },
    {
     "data": {
      "text/plain": [
       "\"logprob: 2 ->('la langue d’un muet vaut mieux que celle d’un menteur', -12.126704472843189)\""
      ]
     },
     "metadata": {},
     "output_type": "display_data"
    },
    {
     "data": {
      "text/plain": [
       "\"perplexity: 3 ->('la langue d’un muet vaut mieux que celle d’un menteur', 850.176382139804)\""
      ]
     },
     "metadata": {},
     "output_type": "display_data"
    },
    {
     "data": {
      "text/plain": [
       "\"logprob: 3 ->('la langue d’un muet vaut mieux que celle d’un menteur', -12.126704472843189)\""
      ]
     },
     "metadata": {},
     "output_type": "display_data"
    },
    {
     "data": {
      "text/plain": [
       "\"perplexity: 1 ->('bon femme fait le bonne homme', 301.89383147747196)\""
      ]
     },
     "metadata": {},
     "output_type": "display_data"
    },
    {
     "data": {
      "text/plain": [
       "\"logprob: 1 ->('bon femme fait le bonne homme', -15.278993850906799)\""
      ]
     },
     "metadata": {},
     "output_type": "display_data"
    },
    {
     "data": {
      "text/plain": [
       "\"perplexity: 2 ->('bonne femme fait le bon homme', 832.73931698213)\""
      ]
     },
     "metadata": {},
     "output_type": "display_data"
    },
    {
     "data": {
      "text/plain": [
       "\"logprob: 2 ->('bon femme fait le bonne homme', -12.126704472843189)\""
      ]
     },
     "metadata": {},
     "output_type": "display_data"
    },
    {
     "data": {
      "text/plain": [
       "\"perplexity: 3 ->('bonne femme fait le bon homme', 1276.597239484895)\""
      ]
     },
     "metadata": {},
     "output_type": "display_data"
    },
    {
     "data": {
      "text/plain": [
       "\"logprob: 3 ->('bon femme fait le bonne homme', -12.126704472843189)\""
      ]
     },
     "metadata": {},
     "output_type": "display_data"
    },
    {
     "data": {
      "text/plain": [
       "\"perplexity: 1 ->('bonne femme fait le bon homme', 301.89383147747196)\""
      ]
     },
     "metadata": {},
     "output_type": "display_data"
    },
    {
     "data": {
      "text/plain": [
       "\"logprob: 1 ->('bonne homme fait le bon femme', -15.278993850906799)\""
      ]
     },
     "metadata": {},
     "output_type": "display_data"
    },
    {
     "data": {
      "text/plain": [
       "\"perplexity: 2 ->('bonne femme fait le bon homme', 832.73931698213)\""
      ]
     },
     "metadata": {},
     "output_type": "display_data"
    },
    {
     "data": {
      "text/plain": [
       "\"logprob: 2 ->('bonne homme fait le bon femme', -12.126704472843189)\""
      ]
     },
     "metadata": {},
     "output_type": "display_data"
    },
    {
     "data": {
      "text/plain": [
       "\"perplexity: 3 ->('bonne femme fait le bon homme', 1276.597239484895)\""
      ]
     },
     "metadata": {},
     "output_type": "display_data"
    },
    {
     "data": {
      "text/plain": [
       "\"logprob: 3 ->('bonne homme fait le bon femme', -12.126704472843189)\""
      ]
     },
     "metadata": {},
     "output_type": "display_data"
    },
    {
     "data": {
      "text/plain": [
       "\"perplexity: 1 ->('ce que femme veut, dieu le veut', 199.92761896076655)\""
      ]
     },
     "metadata": {},
     "output_type": "display_data"
    },
    {
     "data": {
      "text/plain": [
       "\"logprob: 1 ->('ce que femme veut, dieu le veut', -15.278993850906799)\""
      ]
     },
     "metadata": {},
     "output_type": "display_data"
    },
    {
     "data": {
      "text/plain": [
       "\"perplexity: 2 ->('ce que femme veut, dieu le veut', 723.0899272440836)\""
      ]
     },
     "metadata": {},
     "output_type": "display_data"
    },
    {
     "data": {
      "text/plain": [
       "\"logprob: 2 ->('ce que femme veut, dieu le veut', -12.126704472843189)\""
      ]
     },
     "metadata": {},
     "output_type": "display_data"
    },
    {
     "data": {
      "text/plain": [
       "\"perplexity: 3 ->('ce que femme veut, dieu le veut', 1196.7163999336085)\""
      ]
     },
     "metadata": {},
     "output_type": "display_data"
    },
    {
     "data": {
      "text/plain": [
       "\"logprob: 3 ->('ce que femme veut, dieu le veut', -12.126704472843189)\""
      ]
     },
     "metadata": {},
     "output_type": "display_data"
    },
    {
     "data": {
      "text/plain": [
       "\"perplexity: 1 ->('ce le femme veut, dieu que veut', 199.92761896076644)\""
      ]
     },
     "metadata": {},
     "output_type": "display_data"
    },
    {
     "data": {
      "text/plain": [
       "\"logprob: 1 ->('ce que femme veut, dieu le veut', -15.278993850906799)\""
      ]
     },
     "metadata": {},
     "output_type": "display_data"
    },
    {
     "data": {
      "text/plain": [
       "\"perplexity: 2 ->('ce que femme veut, dieu le veut', 723.0899272440836)\""
      ]
     },
     "metadata": {},
     "output_type": "display_data"
    },
    {
     "data": {
      "text/plain": [
       "\"logprob: 2 ->('ce que femme veut, dieu le veut', -12.126704472843189)\""
      ]
     },
     "metadata": {},
     "output_type": "display_data"
    },
    {
     "data": {
      "text/plain": [
       "\"perplexity: 3 ->('ce que femme veut, dieu le veut', 1196.7163999336085)\""
      ]
     },
     "metadata": {},
     "output_type": "display_data"
    },
    {
     "data": {
      "text/plain": [
       "\"logprob: 3 ->('ce que femme veut, dieu le veut', -12.126704472843189)\""
      ]
     },
     "metadata": {},
     "output_type": "display_data"
    },
    {
     "data": {
      "text/plain": [
       "\"perplexity: 1 ->('grand menteur, grand parleur', 924.0972717761347)\""
      ]
     },
     "metadata": {},
     "output_type": "display_data"
    },
    {
     "data": {
      "text/plain": [
       "\"logprob: 1 ->('grand parleur, grand menteur', -15.278993850906799)\""
      ]
     },
     "metadata": {},
     "output_type": "display_data"
    },
    {
     "data": {
      "text/plain": [
       "\"perplexity: 2 ->('grand parleur, grand menteur', 1361.9741465253405)\""
      ]
     },
     "metadata": {},
     "output_type": "display_data"
    },
    {
     "data": {
      "text/plain": [
       "\"logprob: 2 ->('grand parleur, grand menteur', -12.126704472843189)\""
      ]
     },
     "metadata": {},
     "output_type": "display_data"
    },
    {
     "data": {
      "text/plain": [
       "\"perplexity: 3 ->('grand parleur, grand menteur', 1663.4019953848767)\""
      ]
     },
     "metadata": {},
     "output_type": "display_data"
    },
    {
     "data": {
      "text/plain": [
       "\"logprob: 3 ->('grand parleur, grand menteur', -12.126704472843189)\""
      ]
     },
     "metadata": {},
     "output_type": "display_data"
    },
    {
     "data": {
      "text/plain": [
       "\"perplexity: 1 ->('grand parleur, menteur grand', 924.0972717761347)\""
      ]
     },
     "metadata": {},
     "output_type": "display_data"
    },
    {
     "data": {
      "text/plain": [
       "\"logprob: 1 ->('grand parleur, grand menteur', -15.278993850906799)\""
      ]
     },
     "metadata": {},
     "output_type": "display_data"
    },
    {
     "data": {
      "text/plain": [
       "\"perplexity: 2 ->('grand parleur, grand menteur', 1361.9741465253405)\""
      ]
     },
     "metadata": {},
     "output_type": "display_data"
    },
    {
     "data": {
      "text/plain": [
       "\"logprob: 2 ->('grand parleur, grand menteur', -12.126704472843189)\""
      ]
     },
     "metadata": {},
     "output_type": "display_data"
    },
    {
     "data": {
      "text/plain": [
       "\"perplexity: 3 ->('grand parleur, grand menteur', 1663.4019953848767)\""
      ]
     },
     "metadata": {},
     "output_type": "display_data"
    },
    {
     "data": {
      "text/plain": [
       "\"logprob: 3 ->('grand parleur, grand menteur', -12.126704472843189)\""
      ]
     },
     "metadata": {},
     "output_type": "display_data"
    },
    {
     "data": {
      "text/plain": [
       "\"perplexity: 1 ->('le poisson pourrit par la tête', 642.4681347879072)\""
      ]
     },
     "metadata": {},
     "output_type": "display_data"
    },
    {
     "data": {
      "text/plain": [
       "\"logprob: 1 ->('le poisson pourrit par la tête', -15.278993850906799)\""
      ]
     },
     "metadata": {},
     "output_type": "display_data"
    },
    {
     "data": {
      "text/plain": [
       "\"perplexity: 2 ->('le poisson pourrit par la tête', 505.29241759843086)\""
      ]
     },
     "metadata": {},
     "output_type": "display_data"
    },
    {
     "data": {
      "text/plain": [
       "\"logprob: 2 ->('le poisson pourrit par la tête', -12.126704472843189)\""
      ]
     },
     "metadata": {},
     "output_type": "display_data"
    },
    {
     "data": {
      "text/plain": [
       "\"perplexity: 3 ->('le poisson pourrit par la tête', 891.4313734431025)\""
      ]
     },
     "metadata": {},
     "output_type": "display_data"
    },
    {
     "data": {
      "text/plain": [
       "\"logprob: 3 ->('le poisson pourrit par la tête', -12.126704472843189)\""
      ]
     },
     "metadata": {},
     "output_type": "display_data"
    },
    {
     "data": {
      "text/plain": [
       "\"perplexity: 1 ->('le tête pourrit par la poisson', 642.4681347879072)\""
      ]
     },
     "metadata": {},
     "output_type": "display_data"
    },
    {
     "data": {
      "text/plain": [
       "\"logprob: 1 ->('le tête pourrit par la poisson', -15.278993850906799)\""
      ]
     },
     "metadata": {},
     "output_type": "display_data"
    },
    {
     "data": {
      "text/plain": [
       "\"perplexity: 2 ->('le poisson pourrit par la tête', 505.29241759843086)\""
      ]
     },
     "metadata": {},
     "output_type": "display_data"
    },
    {
     "data": {
      "text/plain": [
       "\"logprob: 2 ->('le tête pourrit par la poisson', -12.126704472843189)\""
      ]
     },
     "metadata": {},
     "output_type": "display_data"
    },
    {
     "data": {
      "text/plain": [
       "\"perplexity: 3 ->('le poisson pourrit par la tête', 891.4313734431025)\""
      ]
     },
     "metadata": {},
     "output_type": "display_data"
    },
    {
     "data": {
      "text/plain": [
       "\"logprob: 3 ->('le tête pourrit par la poisson', -12.126704472843189)\""
      ]
     },
     "metadata": {},
     "output_type": "display_data"
    },
    {
     "data": {
      "text/plain": [
       "\"perplexity: 1 ->('mieux vaut prévenir que guérir', 935.3732551884195)\""
      ]
     },
     "metadata": {},
     "output_type": "display_data"
    },
    {
     "data": {
      "text/plain": [
       "\"logprob: 1 ->('mieux vaut prévenir que guérir', -15.278993850906799)\""
      ]
     },
     "metadata": {},
     "output_type": "display_data"
    },
    {
     "data": {
      "text/plain": [
       "\"perplexity: 2 ->('mieux vaut prévenir que guérir', 657.1576145141154)\""
      ]
     },
     "metadata": {},
     "output_type": "display_data"
    },
    {
     "data": {
      "text/plain": [
       "\"logprob: 2 ->('mieux vaut prévenir que guérir', -12.126704472843189)\""
      ]
     },
     "metadata": {},
     "output_type": "display_data"
    },
    {
     "data": {
      "text/plain": [
       "\"perplexity: 3 ->('mieux vaut prévenir que guérir', 769.36756133643)\""
      ]
     },
     "metadata": {},
     "output_type": "display_data"
    },
    {
     "data": {
      "text/plain": [
       "\"logprob: 3 ->('mieux vaut prévenir que guérir', -12.126704472843189)\""
      ]
     },
     "metadata": {},
     "output_type": "display_data"
    },
    {
     "data": {
      "text/plain": [
       "\"perplexity: 1 ->('quand la poire est mûre, elle tombe', 559.5728134522325)\""
      ]
     },
     "metadata": {},
     "output_type": "display_data"
    },
    {
     "data": {
      "text/plain": [
       "\"logprob: 1 ->('quand la poire est mûre, elle tombe', -15.278993850906799)\""
      ]
     },
     "metadata": {},
     "output_type": "display_data"
    },
    {
     "data": {
      "text/plain": [
       "\"perplexity: 2 ->('quand la poire est mûre, elle tombe', 1265.0539534717645)\""
      ]
     },
     "metadata": {},
     "output_type": "display_data"
    },
    {
     "data": {
      "text/plain": [
       "\"logprob: 2 ->('quand la poire est mûre, elle tombe', -12.126704472843189)\""
      ]
     },
     "metadata": {},
     "output_type": "display_data"
    },
    {
     "data": {
      "text/plain": [
       "\"perplexity: 3 ->('quand la poire est mûre, elle tombe', 1385.5482220915662)\""
      ]
     },
     "metadata": {},
     "output_type": "display_data"
    },
    {
     "data": {
      "text/plain": [
       "\"logprob: 3 ->('quand la poire est mûre, elle tombe', -12.126704472843189)\""
      ]
     },
     "metadata": {},
     "output_type": "display_data"
    },
    {
     "data": {
      "text/plain": [
       "\"perplexity: 1 ->('quand la poire est tombe, elle mûre', 559.5728134522325)\""
      ]
     },
     "metadata": {},
     "output_type": "display_data"
    },
    {
     "data": {
      "text/plain": [
       "\"logprob: 1 ->('quand la poire est tombe, elle mûre', -15.278993850906799)\""
      ]
     },
     "metadata": {},
     "output_type": "display_data"
    },
    {
     "data": {
      "text/plain": [
       "\"perplexity: 2 ->('quand la poire est mûre, elle tombe', 1265.0539534717645)\""
      ]
     },
     "metadata": {},
     "output_type": "display_data"
    },
    {
     "data": {
      "text/plain": [
       "\"logprob: 2 ->('quand la poire est tombe, elle mûre', -12.126704472843189)\""
      ]
     },
     "metadata": {},
     "output_type": "display_data"
    },
    {
     "data": {
      "text/plain": [
       "\"perplexity: 3 ->('quand la poire est mûre, elle tombe', 1385.5482220915662)\""
      ]
     },
     "metadata": {},
     "output_type": "display_data"
    },
    {
     "data": {
      "text/plain": [
       "\"logprob: 3 ->('quand la poire est tombe, elle mûre', -12.126704472843189)\""
      ]
     },
     "metadata": {},
     "output_type": "display_data"
    }
   ],
   "source": [
    "for test in tests:\n",
    "    for i in range(1, 4):\n",
    "        display(f\"perplexity: {i} ->\" + str(fill_masked_proverb(test['Masked'], test['Word_list'], n=i, criteria=\"perplexity\")))\n",
    "        display(f\"logprob: {i} ->\" + str(fill_masked_proverb(test['Masked'], test['Word_list'], n=i, criteria=\"logprob\")))"
   ]
  },
  {
   "cell_type": "code",
   "execution_count": null,
   "id": "157a287a",
   "metadata": {},
   "outputs": [],
   "source": []
  },
  {
   "cell_type": "markdown",
   "id": "bcba2d5a",
   "metadata": {},
   "source": [
    "## Section 6 - Partie réservée pour faire nos tests lors de la correction\n",
    "\n",
    "Merci de ne pas modifier ni retirer cette section du notebook ! "
   ]
  },
  {
   "cell_type": "code",
   "execution_count": null,
   "id": "290fd2c8",
   "metadata": {},
   "outputs": [],
   "source": []
  },
  {
   "cell_type": "code",
   "execution_count": null,
   "id": "9b046259",
   "metadata": {},
   "outputs": [],
   "source": []
  },
  {
   "cell_type": "code",
   "execution_count": null,
   "id": "7ce7e9e2",
   "metadata": {},
   "outputs": [],
   "source": []
  },
  {
   "cell_type": "code",
   "execution_count": null,
   "id": "02a13ce2",
   "metadata": {},
   "outputs": [],
   "source": []
  },
  {
   "cell_type": "code",
   "execution_count": null,
   "id": "27f99003",
   "metadata": {},
   "outputs": [],
   "source": []
  }
 ],
 "metadata": {
  "kernelspec": {
   "display_name": "Python 3 (ipykernel)",
   "language": "python",
   "name": "python3"
  },
  "language_info": {
   "codemirror_mode": {
    "name": "ipython",
    "version": 3
   },
   "file_extension": ".py",
   "mimetype": "text/x-python",
   "name": "python",
   "nbconvert_exporter": "python",
   "pygments_lexer": "ipython3",
   "version": "3.10.11"
  }
 },
 "nbformat": 4,
 "nbformat_minor": 5
}
